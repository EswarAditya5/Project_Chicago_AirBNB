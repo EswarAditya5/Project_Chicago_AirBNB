{
 "cells": [
  {
   "cell_type": "markdown",
   "metadata": {},
   "source": [
    "# Chicago AirBNB Prediction"
   ]
  },
  {
   "cell_type": "markdown",
   "metadata": {},
   "source": [
    "# Data set Description:\r\n",
    "This dataset provides detailed information about Airbnb listings in Chicago, including the host, price, and availability of each listing. This dataset can be used to determine how much each list costs and when it is available to rent. It can also provide insight into which hosts are offering the most competitive prices and what type of accommodations they offer."
   ]
  },
  {
   "cell_type": "markdown",
   "metadata": {},
   "source": [
    "# Columns Information:\n",
    "\n",
    "| **Variable Name** | **Description** |\n",
    "|:--:|:--|\n",
    "|id | The id of the airbnb|\n",
    "|name | The name of the airbnb|\n",
    "|host_id | The id of the host|\n",
    "|host_name | The name of the host|\n",
    "|neighborhood | Which area is the airbnb belongs to|\n",
    "|latitude | The latitude of the position|\n",
    "|longitude | The longitude of the position|\n",
    "|room_type | Entire home/apt, Private room or Other|\n",
    "|price | The price of the apartment(per day)|\n",
    "|minimum_nights | The least nights you need to book|\n",
    "|number_of_reviews | The total number of the reviews on this dataset|\n",
    "|last_review | The last review time|\n",
    "|reviews_per_month | How many reviews the airbnb can receive per month|\n",
    "|calculated_host_listings_count | The total listing number of the host|\n",
    "|availability_365 | The available days|\n",
    "|license| License num of particular airbnb|"
   ]
  },
  {
   "cell_type": "code",
   "execution_count": 1,
   "metadata": {
    "id": "k6j8QBjOFlrH"
   },
   "outputs": [],
   "source": [
    "# Importing Required libraries\n",
    "import io\n",
    "import os\n",
    "import numpy as np # linear algebra\n",
    "import pandas as pd # Files I/O\n",
    "# Data Visualization\n",
    "import seaborn as sns\n",
    "import matplotlib.pyplot as plt\n",
    "%matplotlib inline"
   ]
  },
  {
   "cell_type": "code",
   "execution_count": 2,
   "metadata": {},
   "outputs": [
    {
     "name": "stdout",
     "output_type": "stream",
     "text": [
      "D:\\Imarticus\\stat\\Chicago airbnb\n"
     ]
    }
   ],
   "source": [
    "%cd \"D:\\Imarticus\\stat\\Chicago airbnb\""
   ]
  },
  {
   "cell_type": "code",
   "execution_count": 3,
   "metadata": {
    "colab": {
     "base_uri": "https://localhost:8080/",
     "height": 1000
    },
    "id": "TPnouiQMFuxg",
    "outputId": "f429c937-f438-4e2e-de16-a59a1e8e854c"
   },
   "outputs": [],
   "source": [
    "chicagobnb=pd.read_csv('listings.csv') # Importing the listings data of chicago airbnb"
   ]
  },
  {
   "cell_type": "code",
   "execution_count": 4,
   "metadata": {},
   "outputs": [
    {
     "data": {
      "text/html": [
       "<div>\n",
       "<style scoped>\n",
       "    .dataframe tbody tr th:only-of-type {\n",
       "        vertical-align: middle;\n",
       "    }\n",
       "\n",
       "    .dataframe tbody tr th {\n",
       "        vertical-align: top;\n",
       "    }\n",
       "\n",
       "    .dataframe thead th {\n",
       "        text-align: right;\n",
       "    }\n",
       "</style>\n",
       "<table border=\"1\" class=\"dataframe\">\n",
       "  <thead>\n",
       "    <tr style=\"text-align: right;\">\n",
       "      <th></th>\n",
       "      <th>id</th>\n",
       "      <th>name</th>\n",
       "      <th>host_id</th>\n",
       "      <th>host_name</th>\n",
       "      <th>neighbourhood_group</th>\n",
       "      <th>neighbourhood</th>\n",
       "      <th>latitude</th>\n",
       "      <th>longitude</th>\n",
       "      <th>room_type</th>\n",
       "      <th>price</th>\n",
       "      <th>minimum_nights</th>\n",
       "      <th>number_of_reviews</th>\n",
       "      <th>last_review</th>\n",
       "      <th>reviews_per_month</th>\n",
       "      <th>calculated_host_listings_count</th>\n",
       "      <th>availability_365</th>\n",
       "      <th>number_of_reviews_ltm</th>\n",
       "      <th>license</th>\n",
       "    </tr>\n",
       "  </thead>\n",
       "  <tbody>\n",
       "    <tr>\n",
       "      <th>0</th>\n",
       "      <td>2384</td>\n",
       "      <td>Condo in Chicago · ★4.99 · 1 bedroom · 1 bed ·...</td>\n",
       "      <td>2613</td>\n",
       "      <td>Rebecca</td>\n",
       "      <td>NaN</td>\n",
       "      <td>Hyde Park</td>\n",
       "      <td>41.787900</td>\n",
       "      <td>-87.587800</td>\n",
       "      <td>Private room</td>\n",
       "      <td>129</td>\n",
       "      <td>3</td>\n",
       "      <td>220</td>\n",
       "      <td>2023-06-10</td>\n",
       "      <td>2.14</td>\n",
       "      <td>1</td>\n",
       "      <td>350</td>\n",
       "      <td>19</td>\n",
       "      <td>NaN</td>\n",
       "    </tr>\n",
       "    <tr>\n",
       "      <th>1</th>\n",
       "      <td>7126</td>\n",
       "      <td>Rental unit in Chicago · ★4.70 · 1 bedroom · 1...</td>\n",
       "      <td>17928</td>\n",
       "      <td>Sarah</td>\n",
       "      <td>NaN</td>\n",
       "      <td>West Town</td>\n",
       "      <td>41.901660</td>\n",
       "      <td>-87.680210</td>\n",
       "      <td>Entire home/apt</td>\n",
       "      <td>94</td>\n",
       "      <td>32</td>\n",
       "      <td>493</td>\n",
       "      <td>2023-05-28</td>\n",
       "      <td>2.90</td>\n",
       "      <td>1</td>\n",
       "      <td>295</td>\n",
       "      <td>44</td>\n",
       "      <td>R21000075737</td>\n",
       "    </tr>\n",
       "    <tr>\n",
       "      <th>2</th>\n",
       "      <td>2907500</td>\n",
       "      <td>Home in Chicago · ★4.84 · 1 bedroom · 1 bed · ...</td>\n",
       "      <td>11231030</td>\n",
       "      <td>Erik</td>\n",
       "      <td>NaN</td>\n",
       "      <td>West Lawn</td>\n",
       "      <td>41.782250</td>\n",
       "      <td>-87.728060</td>\n",
       "      <td>Private room</td>\n",
       "      <td>39</td>\n",
       "      <td>1</td>\n",
       "      <td>335</td>\n",
       "      <td>2023-05-31</td>\n",
       "      <td>3.11</td>\n",
       "      <td>2</td>\n",
       "      <td>196</td>\n",
       "      <td>6</td>\n",
       "      <td>NaN</td>\n",
       "    </tr>\n",
       "    <tr>\n",
       "      <th>3</th>\n",
       "      <td>755701</td>\n",
       "      <td>Rental unit in Chicago · ★4.73 · 3 bedrooms · ...</td>\n",
       "      <td>3920450</td>\n",
       "      <td>Vas</td>\n",
       "      <td>NaN</td>\n",
       "      <td>Logan Square</td>\n",
       "      <td>41.931150</td>\n",
       "      <td>-87.718360</td>\n",
       "      <td>Entire home/apt</td>\n",
       "      <td>100</td>\n",
       "      <td>32</td>\n",
       "      <td>27</td>\n",
       "      <td>2022-12-01</td>\n",
       "      <td>0.22</td>\n",
       "      <td>4</td>\n",
       "      <td>198</td>\n",
       "      <td>3</td>\n",
       "      <td>City registration pending</td>\n",
       "    </tr>\n",
       "    <tr>\n",
       "      <th>4</th>\n",
       "      <td>10945</td>\n",
       "      <td>Rental unit in Chicago · ★4.64 · 2 bedrooms · ...</td>\n",
       "      <td>33004</td>\n",
       "      <td>At Home Inn</td>\n",
       "      <td>NaN</td>\n",
       "      <td>Lincoln Park</td>\n",
       "      <td>41.911960</td>\n",
       "      <td>-87.639810</td>\n",
       "      <td>Entire home/apt</td>\n",
       "      <td>219</td>\n",
       "      <td>4</td>\n",
       "      <td>66</td>\n",
       "      <td>2023-06-07</td>\n",
       "      <td>0.59</td>\n",
       "      <td>7</td>\n",
       "      <td>94</td>\n",
       "      <td>19</td>\n",
       "      <td>2209984</td>\n",
       "    </tr>\n",
       "    <tr>\n",
       "      <th>...</th>\n",
       "      <td>...</td>\n",
       "      <td>...</td>\n",
       "      <td>...</td>\n",
       "      <td>...</td>\n",
       "      <td>...</td>\n",
       "      <td>...</td>\n",
       "      <td>...</td>\n",
       "      <td>...</td>\n",
       "      <td>...</td>\n",
       "      <td>...</td>\n",
       "      <td>...</td>\n",
       "      <td>...</td>\n",
       "      <td>...</td>\n",
       "      <td>...</td>\n",
       "      <td>...</td>\n",
       "      <td>...</td>\n",
       "      <td>...</td>\n",
       "      <td>...</td>\n",
       "    </tr>\n",
       "    <tr>\n",
       "      <th>8019</th>\n",
       "      <td>913626355026820271</td>\n",
       "      <td>Rental unit in Chicago · ★New · 1 bedroom · 1 ...</td>\n",
       "      <td>518917937</td>\n",
       "      <td>Belle</td>\n",
       "      <td>NaN</td>\n",
       "      <td>Edgewater</td>\n",
       "      <td>41.987116</td>\n",
       "      <td>-87.663194</td>\n",
       "      <td>Private room</td>\n",
       "      <td>75</td>\n",
       "      <td>1</td>\n",
       "      <td>0</td>\n",
       "      <td>NaN</td>\n",
       "      <td>NaN</td>\n",
       "      <td>23</td>\n",
       "      <td>355</td>\n",
       "      <td>0</td>\n",
       "      <td>2845517</td>\n",
       "    </tr>\n",
       "    <tr>\n",
       "      <th>8020</th>\n",
       "      <td>913638806912452641</td>\n",
       "      <td>Rental unit in Chicago · ★New · 1 bedroom · 1 ...</td>\n",
       "      <td>518917937</td>\n",
       "      <td>Belle</td>\n",
       "      <td>NaN</td>\n",
       "      <td>Uptown</td>\n",
       "      <td>41.954764</td>\n",
       "      <td>-87.651852</td>\n",
       "      <td>Entire home/apt</td>\n",
       "      <td>132</td>\n",
       "      <td>1</td>\n",
       "      <td>0</td>\n",
       "      <td>NaN</td>\n",
       "      <td>NaN</td>\n",
       "      <td>23</td>\n",
       "      <td>363</td>\n",
       "      <td>0</td>\n",
       "      <td>2845517</td>\n",
       "    </tr>\n",
       "    <tr>\n",
       "      <th>8021</th>\n",
       "      <td>913680038957326474</td>\n",
       "      <td>Rental unit in Chicago · ★New · Studio · 1 bed...</td>\n",
       "      <td>518917937</td>\n",
       "      <td>Belle</td>\n",
       "      <td>NaN</td>\n",
       "      <td>Uptown</td>\n",
       "      <td>41.957153</td>\n",
       "      <td>-87.651080</td>\n",
       "      <td>Entire home/apt</td>\n",
       "      <td>121</td>\n",
       "      <td>1</td>\n",
       "      <td>0</td>\n",
       "      <td>NaN</td>\n",
       "      <td>NaN</td>\n",
       "      <td>23</td>\n",
       "      <td>359</td>\n",
       "      <td>0</td>\n",
       "      <td>2845517</td>\n",
       "    </tr>\n",
       "    <tr>\n",
       "      <th>8022</th>\n",
       "      <td>913749252939177162</td>\n",
       "      <td>Rental unit in Chicago · ★New · Studio · 1 bed...</td>\n",
       "      <td>2010015</td>\n",
       "      <td>Martin</td>\n",
       "      <td>NaN</td>\n",
       "      <td>Avondale</td>\n",
       "      <td>41.934530</td>\n",
       "      <td>-87.720143</td>\n",
       "      <td>Entire home/apt</td>\n",
       "      <td>129</td>\n",
       "      <td>32</td>\n",
       "      <td>0</td>\n",
       "      <td>NaN</td>\n",
       "      <td>NaN</td>\n",
       "      <td>6</td>\n",
       "      <td>362</td>\n",
       "      <td>0</td>\n",
       "      <td>NaN</td>\n",
       "    </tr>\n",
       "    <tr>\n",
       "      <th>8023</th>\n",
       "      <td>913751380565585633</td>\n",
       "      <td>Rental unit in Chicago · ★New · 3 bedrooms · 3...</td>\n",
       "      <td>141909027</td>\n",
       "      <td>Jay</td>\n",
       "      <td>NaN</td>\n",
       "      <td>Near West Side</td>\n",
       "      <td>41.881518</td>\n",
       "      <td>-87.679962</td>\n",
       "      <td>Entire home/apt</td>\n",
       "      <td>127</td>\n",
       "      <td>1</td>\n",
       "      <td>0</td>\n",
       "      <td>NaN</td>\n",
       "      <td>NaN</td>\n",
       "      <td>2</td>\n",
       "      <td>39</td>\n",
       "      <td>0</td>\n",
       "      <td>R23000103323</td>\n",
       "    </tr>\n",
       "  </tbody>\n",
       "</table>\n",
       "<p>8024 rows × 18 columns</p>\n",
       "</div>"
      ],
      "text/plain": [
       "                      id                                               name  \\\n",
       "0                   2384  Condo in Chicago · ★4.99 · 1 bedroom · 1 bed ·...   \n",
       "1                   7126  Rental unit in Chicago · ★4.70 · 1 bedroom · 1...   \n",
       "2                2907500  Home in Chicago · ★4.84 · 1 bedroom · 1 bed · ...   \n",
       "3                 755701  Rental unit in Chicago · ★4.73 · 3 bedrooms · ...   \n",
       "4                  10945  Rental unit in Chicago · ★4.64 · 2 bedrooms · ...   \n",
       "...                  ...                                                ...   \n",
       "8019  913626355026820271  Rental unit in Chicago · ★New · 1 bedroom · 1 ...   \n",
       "8020  913638806912452641  Rental unit in Chicago · ★New · 1 bedroom · 1 ...   \n",
       "8021  913680038957326474  Rental unit in Chicago · ★New · Studio · 1 bed...   \n",
       "8022  913749252939177162  Rental unit in Chicago · ★New · Studio · 1 bed...   \n",
       "8023  913751380565585633  Rental unit in Chicago · ★New · 3 bedrooms · 3...   \n",
       "\n",
       "        host_id    host_name  neighbourhood_group   neighbourhood   latitude  \\\n",
       "0          2613      Rebecca                  NaN       Hyde Park  41.787900   \n",
       "1         17928        Sarah                  NaN       West Town  41.901660   \n",
       "2      11231030         Erik                  NaN       West Lawn  41.782250   \n",
       "3       3920450          Vas                  NaN    Logan Square  41.931150   \n",
       "4         33004  At Home Inn                  NaN    Lincoln Park  41.911960   \n",
       "...         ...          ...                  ...             ...        ...   \n",
       "8019  518917937        Belle                  NaN       Edgewater  41.987116   \n",
       "8020  518917937        Belle                  NaN          Uptown  41.954764   \n",
       "8021  518917937        Belle                  NaN          Uptown  41.957153   \n",
       "8022    2010015       Martin                  NaN        Avondale  41.934530   \n",
       "8023  141909027          Jay                  NaN  Near West Side  41.881518   \n",
       "\n",
       "      longitude        room_type  price  minimum_nights  number_of_reviews  \\\n",
       "0    -87.587800     Private room    129               3                220   \n",
       "1    -87.680210  Entire home/apt     94              32                493   \n",
       "2    -87.728060     Private room     39               1                335   \n",
       "3    -87.718360  Entire home/apt    100              32                 27   \n",
       "4    -87.639810  Entire home/apt    219               4                 66   \n",
       "...         ...              ...    ...             ...                ...   \n",
       "8019 -87.663194     Private room     75               1                  0   \n",
       "8020 -87.651852  Entire home/apt    132               1                  0   \n",
       "8021 -87.651080  Entire home/apt    121               1                  0   \n",
       "8022 -87.720143  Entire home/apt    129              32                  0   \n",
       "8023 -87.679962  Entire home/apt    127               1                  0   \n",
       "\n",
       "     last_review  reviews_per_month  calculated_host_listings_count  \\\n",
       "0     2023-06-10               2.14                               1   \n",
       "1     2023-05-28               2.90                               1   \n",
       "2     2023-05-31               3.11                               2   \n",
       "3     2022-12-01               0.22                               4   \n",
       "4     2023-06-07               0.59                               7   \n",
       "...          ...                ...                             ...   \n",
       "8019         NaN                NaN                              23   \n",
       "8020         NaN                NaN                              23   \n",
       "8021         NaN                NaN                              23   \n",
       "8022         NaN                NaN                               6   \n",
       "8023         NaN                NaN                               2   \n",
       "\n",
       "      availability_365  number_of_reviews_ltm                    license  \n",
       "0                  350                     19                        NaN  \n",
       "1                  295                     44               R21000075737  \n",
       "2                  196                      6                        NaN  \n",
       "3                  198                      3  City registration pending  \n",
       "4                   94                     19                    2209984  \n",
       "...                ...                    ...                        ...  \n",
       "8019               355                      0                    2845517  \n",
       "8020               363                      0                    2845517  \n",
       "8021               359                      0                    2845517  \n",
       "8022               362                      0                        NaN  \n",
       "8023                39                      0               R23000103323  \n",
       "\n",
       "[8024 rows x 18 columns]"
      ]
     },
     "execution_count": 4,
     "metadata": {},
     "output_type": "execute_result"
    }
   ],
   "source": [
    "chicagobnb"
   ]
  },
  {
   "cell_type": "code",
   "execution_count": 5,
   "metadata": {},
   "outputs": [
    {
     "data": {
      "text/plain": [
       "(8024, 18)"
      ]
     },
     "execution_count": 5,
     "metadata": {},
     "output_type": "execute_result"
    }
   ],
   "source": [
    "chicagobnb.shape"
   ]
  },
  {
   "cell_type": "code",
   "execution_count": 6,
   "metadata": {},
   "outputs": [
    {
     "data": {
      "text/html": [
       "<div>\n",
       "<style scoped>\n",
       "    .dataframe tbody tr th:only-of-type {\n",
       "        vertical-align: middle;\n",
       "    }\n",
       "\n",
       "    .dataframe tbody tr th {\n",
       "        vertical-align: top;\n",
       "    }\n",
       "\n",
       "    .dataframe thead th {\n",
       "        text-align: right;\n",
       "    }\n",
       "</style>\n",
       "<table border=\"1\" class=\"dataframe\">\n",
       "  <thead>\n",
       "    <tr style=\"text-align: right;\">\n",
       "      <th></th>\n",
       "      <th>id</th>\n",
       "      <th>name</th>\n",
       "      <th>host_id</th>\n",
       "      <th>host_name</th>\n",
       "      <th>neighbourhood_group</th>\n",
       "      <th>neighbourhood</th>\n",
       "      <th>latitude</th>\n",
       "      <th>longitude</th>\n",
       "      <th>room_type</th>\n",
       "      <th>price</th>\n",
       "      <th>minimum_nights</th>\n",
       "      <th>number_of_reviews</th>\n",
       "      <th>last_review</th>\n",
       "      <th>reviews_per_month</th>\n",
       "      <th>calculated_host_listings_count</th>\n",
       "      <th>availability_365</th>\n",
       "      <th>number_of_reviews_ltm</th>\n",
       "      <th>license</th>\n",
       "    </tr>\n",
       "  </thead>\n",
       "  <tbody>\n",
       "    <tr>\n",
       "      <th>0</th>\n",
       "      <td>2384</td>\n",
       "      <td>Condo in Chicago · ★4.99 · 1 bedroom · 1 bed ·...</td>\n",
       "      <td>2613</td>\n",
       "      <td>Rebecca</td>\n",
       "      <td>NaN</td>\n",
       "      <td>Hyde Park</td>\n",
       "      <td>41.78790</td>\n",
       "      <td>-87.58780</td>\n",
       "      <td>Private room</td>\n",
       "      <td>129</td>\n",
       "      <td>3</td>\n",
       "      <td>220</td>\n",
       "      <td>2023-06-10</td>\n",
       "      <td>2.14</td>\n",
       "      <td>1</td>\n",
       "      <td>350</td>\n",
       "      <td>19</td>\n",
       "      <td>NaN</td>\n",
       "    </tr>\n",
       "    <tr>\n",
       "      <th>1</th>\n",
       "      <td>7126</td>\n",
       "      <td>Rental unit in Chicago · ★4.70 · 1 bedroom · 1...</td>\n",
       "      <td>17928</td>\n",
       "      <td>Sarah</td>\n",
       "      <td>NaN</td>\n",
       "      <td>West Town</td>\n",
       "      <td>41.90166</td>\n",
       "      <td>-87.68021</td>\n",
       "      <td>Entire home/apt</td>\n",
       "      <td>94</td>\n",
       "      <td>32</td>\n",
       "      <td>493</td>\n",
       "      <td>2023-05-28</td>\n",
       "      <td>2.90</td>\n",
       "      <td>1</td>\n",
       "      <td>295</td>\n",
       "      <td>44</td>\n",
       "      <td>R21000075737</td>\n",
       "    </tr>\n",
       "    <tr>\n",
       "      <th>2</th>\n",
       "      <td>2907500</td>\n",
       "      <td>Home in Chicago · ★4.84 · 1 bedroom · 1 bed · ...</td>\n",
       "      <td>11231030</td>\n",
       "      <td>Erik</td>\n",
       "      <td>NaN</td>\n",
       "      <td>West Lawn</td>\n",
       "      <td>41.78225</td>\n",
       "      <td>-87.72806</td>\n",
       "      <td>Private room</td>\n",
       "      <td>39</td>\n",
       "      <td>1</td>\n",
       "      <td>335</td>\n",
       "      <td>2023-05-31</td>\n",
       "      <td>3.11</td>\n",
       "      <td>2</td>\n",
       "      <td>196</td>\n",
       "      <td>6</td>\n",
       "      <td>NaN</td>\n",
       "    </tr>\n",
       "    <tr>\n",
       "      <th>3</th>\n",
       "      <td>755701</td>\n",
       "      <td>Rental unit in Chicago · ★4.73 · 3 bedrooms · ...</td>\n",
       "      <td>3920450</td>\n",
       "      <td>Vas</td>\n",
       "      <td>NaN</td>\n",
       "      <td>Logan Square</td>\n",
       "      <td>41.93115</td>\n",
       "      <td>-87.71836</td>\n",
       "      <td>Entire home/apt</td>\n",
       "      <td>100</td>\n",
       "      <td>32</td>\n",
       "      <td>27</td>\n",
       "      <td>2022-12-01</td>\n",
       "      <td>0.22</td>\n",
       "      <td>4</td>\n",
       "      <td>198</td>\n",
       "      <td>3</td>\n",
       "      <td>City registration pending</td>\n",
       "    </tr>\n",
       "    <tr>\n",
       "      <th>4</th>\n",
       "      <td>10945</td>\n",
       "      <td>Rental unit in Chicago · ★4.64 · 2 bedrooms · ...</td>\n",
       "      <td>33004</td>\n",
       "      <td>At Home Inn</td>\n",
       "      <td>NaN</td>\n",
       "      <td>Lincoln Park</td>\n",
       "      <td>41.91196</td>\n",
       "      <td>-87.63981</td>\n",
       "      <td>Entire home/apt</td>\n",
       "      <td>219</td>\n",
       "      <td>4</td>\n",
       "      <td>66</td>\n",
       "      <td>2023-06-07</td>\n",
       "      <td>0.59</td>\n",
       "      <td>7</td>\n",
       "      <td>94</td>\n",
       "      <td>19</td>\n",
       "      <td>2209984</td>\n",
       "    </tr>\n",
       "  </tbody>\n",
       "</table>\n",
       "</div>"
      ],
      "text/plain": [
       "        id                                               name   host_id  \\\n",
       "0     2384  Condo in Chicago · ★4.99 · 1 bedroom · 1 bed ·...      2613   \n",
       "1     7126  Rental unit in Chicago · ★4.70 · 1 bedroom · 1...     17928   \n",
       "2  2907500  Home in Chicago · ★4.84 · 1 bedroom · 1 bed · ...  11231030   \n",
       "3   755701  Rental unit in Chicago · ★4.73 · 3 bedrooms · ...   3920450   \n",
       "4    10945  Rental unit in Chicago · ★4.64 · 2 bedrooms · ...     33004   \n",
       "\n",
       "     host_name  neighbourhood_group neighbourhood  latitude  longitude  \\\n",
       "0      Rebecca                  NaN     Hyde Park  41.78790  -87.58780   \n",
       "1        Sarah                  NaN     West Town  41.90166  -87.68021   \n",
       "2         Erik                  NaN     West Lawn  41.78225  -87.72806   \n",
       "3          Vas                  NaN  Logan Square  41.93115  -87.71836   \n",
       "4  At Home Inn                  NaN  Lincoln Park  41.91196  -87.63981   \n",
       "\n",
       "         room_type  price  minimum_nights  number_of_reviews last_review  \\\n",
       "0     Private room    129               3                220  2023-06-10   \n",
       "1  Entire home/apt     94              32                493  2023-05-28   \n",
       "2     Private room     39               1                335  2023-05-31   \n",
       "3  Entire home/apt    100              32                 27  2022-12-01   \n",
       "4  Entire home/apt    219               4                 66  2023-06-07   \n",
       "\n",
       "   reviews_per_month  calculated_host_listings_count  availability_365  \\\n",
       "0               2.14                               1               350   \n",
       "1               2.90                               1               295   \n",
       "2               3.11                               2               196   \n",
       "3               0.22                               4               198   \n",
       "4               0.59                               7                94   \n",
       "\n",
       "   number_of_reviews_ltm                    license  \n",
       "0                     19                        NaN  \n",
       "1                     44               R21000075737  \n",
       "2                      6                        NaN  \n",
       "3                      3  City registration pending  \n",
       "4                     19                    2209984  "
      ]
     },
     "execution_count": 6,
     "metadata": {},
     "output_type": "execute_result"
    }
   ],
   "source": [
    "chicagobnb.head()"
   ]
  },
  {
   "cell_type": "code",
   "execution_count": 7,
   "metadata": {},
   "outputs": [
    {
     "data": {
      "text/html": [
       "<div>\n",
       "<style scoped>\n",
       "    .dataframe tbody tr th:only-of-type {\n",
       "        vertical-align: middle;\n",
       "    }\n",
       "\n",
       "    .dataframe tbody tr th {\n",
       "        vertical-align: top;\n",
       "    }\n",
       "\n",
       "    .dataframe thead th {\n",
       "        text-align: right;\n",
       "    }\n",
       "</style>\n",
       "<table border=\"1\" class=\"dataframe\">\n",
       "  <thead>\n",
       "    <tr style=\"text-align: right;\">\n",
       "      <th></th>\n",
       "      <th>id</th>\n",
       "      <th>name</th>\n",
       "      <th>host_id</th>\n",
       "      <th>host_name</th>\n",
       "      <th>neighbourhood_group</th>\n",
       "      <th>neighbourhood</th>\n",
       "      <th>latitude</th>\n",
       "      <th>longitude</th>\n",
       "      <th>room_type</th>\n",
       "      <th>price</th>\n",
       "      <th>minimum_nights</th>\n",
       "      <th>number_of_reviews</th>\n",
       "      <th>last_review</th>\n",
       "      <th>reviews_per_month</th>\n",
       "      <th>calculated_host_listings_count</th>\n",
       "      <th>availability_365</th>\n",
       "      <th>number_of_reviews_ltm</th>\n",
       "      <th>license</th>\n",
       "    </tr>\n",
       "  </thead>\n",
       "  <tbody>\n",
       "    <tr>\n",
       "      <th>8019</th>\n",
       "      <td>913626355026820271</td>\n",
       "      <td>Rental unit in Chicago · ★New · 1 bedroom · 1 ...</td>\n",
       "      <td>518917937</td>\n",
       "      <td>Belle</td>\n",
       "      <td>NaN</td>\n",
       "      <td>Edgewater</td>\n",
       "      <td>41.987116</td>\n",
       "      <td>-87.663194</td>\n",
       "      <td>Private room</td>\n",
       "      <td>75</td>\n",
       "      <td>1</td>\n",
       "      <td>0</td>\n",
       "      <td>NaN</td>\n",
       "      <td>NaN</td>\n",
       "      <td>23</td>\n",
       "      <td>355</td>\n",
       "      <td>0</td>\n",
       "      <td>2845517</td>\n",
       "    </tr>\n",
       "    <tr>\n",
       "      <th>8020</th>\n",
       "      <td>913638806912452641</td>\n",
       "      <td>Rental unit in Chicago · ★New · 1 bedroom · 1 ...</td>\n",
       "      <td>518917937</td>\n",
       "      <td>Belle</td>\n",
       "      <td>NaN</td>\n",
       "      <td>Uptown</td>\n",
       "      <td>41.954764</td>\n",
       "      <td>-87.651852</td>\n",
       "      <td>Entire home/apt</td>\n",
       "      <td>132</td>\n",
       "      <td>1</td>\n",
       "      <td>0</td>\n",
       "      <td>NaN</td>\n",
       "      <td>NaN</td>\n",
       "      <td>23</td>\n",
       "      <td>363</td>\n",
       "      <td>0</td>\n",
       "      <td>2845517</td>\n",
       "    </tr>\n",
       "    <tr>\n",
       "      <th>8021</th>\n",
       "      <td>913680038957326474</td>\n",
       "      <td>Rental unit in Chicago · ★New · Studio · 1 bed...</td>\n",
       "      <td>518917937</td>\n",
       "      <td>Belle</td>\n",
       "      <td>NaN</td>\n",
       "      <td>Uptown</td>\n",
       "      <td>41.957153</td>\n",
       "      <td>-87.651080</td>\n",
       "      <td>Entire home/apt</td>\n",
       "      <td>121</td>\n",
       "      <td>1</td>\n",
       "      <td>0</td>\n",
       "      <td>NaN</td>\n",
       "      <td>NaN</td>\n",
       "      <td>23</td>\n",
       "      <td>359</td>\n",
       "      <td>0</td>\n",
       "      <td>2845517</td>\n",
       "    </tr>\n",
       "    <tr>\n",
       "      <th>8022</th>\n",
       "      <td>913749252939177162</td>\n",
       "      <td>Rental unit in Chicago · ★New · Studio · 1 bed...</td>\n",
       "      <td>2010015</td>\n",
       "      <td>Martin</td>\n",
       "      <td>NaN</td>\n",
       "      <td>Avondale</td>\n",
       "      <td>41.934530</td>\n",
       "      <td>-87.720143</td>\n",
       "      <td>Entire home/apt</td>\n",
       "      <td>129</td>\n",
       "      <td>32</td>\n",
       "      <td>0</td>\n",
       "      <td>NaN</td>\n",
       "      <td>NaN</td>\n",
       "      <td>6</td>\n",
       "      <td>362</td>\n",
       "      <td>0</td>\n",
       "      <td>NaN</td>\n",
       "    </tr>\n",
       "    <tr>\n",
       "      <th>8023</th>\n",
       "      <td>913751380565585633</td>\n",
       "      <td>Rental unit in Chicago · ★New · 3 bedrooms · 3...</td>\n",
       "      <td>141909027</td>\n",
       "      <td>Jay</td>\n",
       "      <td>NaN</td>\n",
       "      <td>Near West Side</td>\n",
       "      <td>41.881518</td>\n",
       "      <td>-87.679962</td>\n",
       "      <td>Entire home/apt</td>\n",
       "      <td>127</td>\n",
       "      <td>1</td>\n",
       "      <td>0</td>\n",
       "      <td>NaN</td>\n",
       "      <td>NaN</td>\n",
       "      <td>2</td>\n",
       "      <td>39</td>\n",
       "      <td>0</td>\n",
       "      <td>R23000103323</td>\n",
       "    </tr>\n",
       "  </tbody>\n",
       "</table>\n",
       "</div>"
      ],
      "text/plain": [
       "                      id                                               name  \\\n",
       "8019  913626355026820271  Rental unit in Chicago · ★New · 1 bedroom · 1 ...   \n",
       "8020  913638806912452641  Rental unit in Chicago · ★New · 1 bedroom · 1 ...   \n",
       "8021  913680038957326474  Rental unit in Chicago · ★New · Studio · 1 bed...   \n",
       "8022  913749252939177162  Rental unit in Chicago · ★New · Studio · 1 bed...   \n",
       "8023  913751380565585633  Rental unit in Chicago · ★New · 3 bedrooms · 3...   \n",
       "\n",
       "        host_id host_name  neighbourhood_group   neighbourhood   latitude  \\\n",
       "8019  518917937     Belle                  NaN       Edgewater  41.987116   \n",
       "8020  518917937     Belle                  NaN          Uptown  41.954764   \n",
       "8021  518917937     Belle                  NaN          Uptown  41.957153   \n",
       "8022    2010015    Martin                  NaN        Avondale  41.934530   \n",
       "8023  141909027       Jay                  NaN  Near West Side  41.881518   \n",
       "\n",
       "      longitude        room_type  price  minimum_nights  number_of_reviews  \\\n",
       "8019 -87.663194     Private room     75               1                  0   \n",
       "8020 -87.651852  Entire home/apt    132               1                  0   \n",
       "8021 -87.651080  Entire home/apt    121               1                  0   \n",
       "8022 -87.720143  Entire home/apt    129              32                  0   \n",
       "8023 -87.679962  Entire home/apt    127               1                  0   \n",
       "\n",
       "     last_review  reviews_per_month  calculated_host_listings_count  \\\n",
       "8019         NaN                NaN                              23   \n",
       "8020         NaN                NaN                              23   \n",
       "8021         NaN                NaN                              23   \n",
       "8022         NaN                NaN                               6   \n",
       "8023         NaN                NaN                               2   \n",
       "\n",
       "      availability_365  number_of_reviews_ltm       license  \n",
       "8019               355                      0       2845517  \n",
       "8020               363                      0       2845517  \n",
       "8021               359                      0       2845517  \n",
       "8022               362                      0           NaN  \n",
       "8023                39                      0  R23000103323  "
      ]
     },
     "execution_count": 7,
     "metadata": {},
     "output_type": "execute_result"
    }
   ],
   "source": [
    "chicagobnb.tail()"
   ]
  },
  {
   "cell_type": "code",
   "execution_count": 8,
   "metadata": {
    "colab": {
     "base_uri": "https://localhost:8080/"
    },
    "id": "RHiHVU3dJ8t1",
    "outputId": "784a8327-5562-4c46-dd34-016643201966"
   },
   "outputs": [
    {
     "data": {
      "text/plain": [
       "Index(['id', 'name', 'host_id', 'host_name', 'neighbourhood_group',\n",
       "       'neighbourhood', 'latitude', 'longitude', 'room_type', 'price',\n",
       "       'minimum_nights', 'number_of_reviews', 'last_review',\n",
       "       'reviews_per_month', 'calculated_host_listings_count',\n",
       "       'availability_365', 'number_of_reviews_ltm', 'license'],\n",
       "      dtype='object')"
      ]
     },
     "execution_count": 8,
     "metadata": {},
     "output_type": "execute_result"
    }
   ],
   "source": [
    "chicagobnb.columns"
   ]
  },
  {
   "cell_type": "code",
   "execution_count": 9,
   "metadata": {},
   "outputs": [
    {
     "data": {
      "text/plain": [
       "id                                  int64\n",
       "name                               object\n",
       "host_id                             int64\n",
       "host_name                          object\n",
       "neighbourhood_group               float64\n",
       "neighbourhood                      object\n",
       "latitude                          float64\n",
       "longitude                         float64\n",
       "room_type                          object\n",
       "price                               int64\n",
       "minimum_nights                      int64\n",
       "number_of_reviews                   int64\n",
       "last_review                        object\n",
       "reviews_per_month                 float64\n",
       "calculated_host_listings_count      int64\n",
       "availability_365                    int64\n",
       "number_of_reviews_ltm               int64\n",
       "license                            object\n",
       "dtype: object"
      ]
     },
     "execution_count": 9,
     "metadata": {},
     "output_type": "execute_result"
    }
   ],
   "source": [
    "chicagobnb.dtypes"
   ]
  },
  {
   "cell_type": "code",
   "execution_count": 10,
   "metadata": {
    "colab": {
     "base_uri": "https://localhost:8080/"
    },
    "id": "JWo4u3SzGTjz",
    "outputId": "55ab6050-8f96-4e67-ac1f-7afe8f819864"
   },
   "outputs": [
    {
     "name": "stdout",
     "output_type": "stream",
     "text": [
      "<class 'pandas.core.frame.DataFrame'>\n",
      "RangeIndex: 8024 entries, 0 to 8023\n",
      "Data columns (total 18 columns):\n",
      " #   Column                          Non-Null Count  Dtype  \n",
      "---  ------                          --------------  -----  \n",
      " 0   id                              8024 non-null   int64  \n",
      " 1   name                            8024 non-null   object \n",
      " 2   host_id                         8024 non-null   int64  \n",
      " 3   host_name                       8024 non-null   object \n",
      " 4   neighbourhood_group             0 non-null      float64\n",
      " 5   neighbourhood                   8024 non-null   object \n",
      " 6   latitude                        8024 non-null   float64\n",
      " 7   longitude                       8024 non-null   float64\n",
      " 8   room_type                       8024 non-null   object \n",
      " 9   price                           8024 non-null   int64  \n",
      " 10  minimum_nights                  8024 non-null   int64  \n",
      " 11  number_of_reviews               8024 non-null   int64  \n",
      " 12  last_review                     6460 non-null   object \n",
      " 13  reviews_per_month               6460 non-null   float64\n",
      " 14  calculated_host_listings_count  8024 non-null   int64  \n",
      " 15  availability_365                8024 non-null   int64  \n",
      " 16  number_of_reviews_ltm           8024 non-null   int64  \n",
      " 17  license                         5553 non-null   object \n",
      "dtypes: float64(4), int64(8), object(6)\n",
      "memory usage: 1.1+ MB\n"
     ]
    }
   ],
   "source": [
    "chicagobnb.info()"
   ]
  },
  {
   "cell_type": "markdown",
   "metadata": {},
   "source": [
    "# Exploratory Data Analysis(EDA)\n",
    "## Missing Values Imputation"
   ]
  },
  {
   "cell_type": "code",
   "execution_count": 11,
   "metadata": {
    "colab": {
     "base_uri": "https://localhost:8080/"
    },
    "id": "LIknnm9vKA-4",
    "outputId": "eda5a5dd-c115-450b-febf-96a20037e23f"
   },
   "outputs": [
    {
     "data": {
      "text/plain": [
       "neighbourhood_group               8024\n",
       "license                           2471\n",
       "reviews_per_month                 1564\n",
       "last_review                       1564\n",
       "minimum_nights                       0\n",
       "number_of_reviews_ltm                0\n",
       "availability_365                     0\n",
       "calculated_host_listings_count       0\n",
       "number_of_reviews                    0\n",
       "id                                   0\n",
       "name                                 0\n",
       "room_type                            0\n",
       "longitude                            0\n",
       "latitude                             0\n",
       "neighbourhood                        0\n",
       "host_name                            0\n",
       "host_id                              0\n",
       "price                                0\n",
       "dtype: int64"
      ]
     },
     "execution_count": 11,
     "metadata": {},
     "output_type": "execute_result"
    }
   ],
   "source": [
    "# checking Null values in the dataframe\n",
    "chicagobnb.isnull().sum().sort_values(ascending=False)"
   ]
  },
  {
   "cell_type": "code",
   "execution_count": 12,
   "metadata": {
    "colab": {
     "base_uri": "https://localhost:8080/"
    },
    "id": "Ve2rSWX2KzIT",
    "outputId": "44f85757-f694-4f9f-99ed-0544c94b20e7"
   },
   "outputs": [],
   "source": [
    "chicagobnb=chicagobnb.drop('neighbourhood_group',axis=1)"
   ]
  },
  {
   "cell_type": "code",
   "execution_count": 13,
   "metadata": {
    "colab": {
     "base_uri": "https://localhost:8080/"
    },
    "id": "BbsUI7-JLy4D",
    "outputId": "50dff303-89b6-4686-b138-8c5e9337753b"
   },
   "outputs": [
    {
     "data": {
      "text/plain": [
       "NaN                          2471\n",
       "City registration pending     432\n",
       "32+ Days Listing              157\n",
       "2792126                       129\n",
       "32+days Listing                68\n",
       "                             ... \n",
       "R19000050325                    1\n",
       "R20000051707                    1\n",
       "R19000049539                    1\n",
       "R19000046426                    1\n",
       "R23000103323                    1\n",
       "Name: license, Length: 3655, dtype: int64"
      ]
     },
     "execution_count": 13,
     "metadata": {},
     "output_type": "execute_result"
    }
   ],
   "source": [
    "chicagobnb.license.value_counts(dropna=False)"
   ]
  },
  {
   "cell_type": "code",
   "execution_count": 14,
   "metadata": {
    "colab": {
     "base_uri": "https://localhost:8080/",
     "height": 229
    },
    "id": "58ecLxC4L539",
    "outputId": "3ca15183-3f4e-4521-d7e3-72a271cfbba1"
   },
   "outputs": [],
   "source": [
    "chicagobnb.license=chicagobnb.license.ffill()"
   ]
  },
  {
   "cell_type": "code",
   "execution_count": 15,
   "metadata": {
    "colab": {
     "base_uri": "https://localhost:8080/"
    },
    "id": "gaTd3Vbzlds6",
    "outputId": "5acdd850-740d-45ed-9da4-2ba471585d29"
   },
   "outputs": [
    {
     "data": {
      "text/plain": [
       "City registration pending    605\n",
       "32+ Days Listing             201\n",
       "2792126                      198\n",
       "32+days Listing               90\n",
       "2863615                       43\n",
       "                            ... \n",
       "R23000097078                   1\n",
       "R21000073739                   1\n",
       "R22000077564                   1\n",
       "R20000051706                   1\n",
       "R23000103323                   1\n",
       "Name: license, Length: 3655, dtype: int64"
      ]
     },
     "execution_count": 15,
     "metadata": {},
     "output_type": "execute_result"
    }
   ],
   "source": [
    "chicagobnb.license.value_counts(dropna=False)"
   ]
  },
  {
   "cell_type": "code",
   "execution_count": 16,
   "metadata": {
    "colab": {
     "base_uri": "https://localhost:8080/"
    },
    "id": "RY6Ha7UinAkV",
    "outputId": "3b5789e5-2e5e-4a66-c1bf-1dc40d29ad43"
   },
   "outputs": [],
   "source": [
    "chicagobnb.license=chicagobnb.license.fillna('City registration pending')"
   ]
  },
  {
   "cell_type": "code",
   "execution_count": 17,
   "metadata": {
    "colab": {
     "base_uri": "https://localhost:8080/"
    },
    "id": "uFMtaCdUn6Vo",
    "outputId": "360639b6-30e4-41ca-a1e0-c254d93f5a68"
   },
   "outputs": [],
   "source": [
    "chicagobnb.reviews_per_month=chicagobnb.reviews_per_month.fillna(chicagobnb.reviews_per_month.mean())"
   ]
  },
  {
   "cell_type": "code",
   "execution_count": 18,
   "metadata": {},
   "outputs": [
    {
     "data": {
      "text/plain": [
       "NaN           1564\n",
       "2023-06-11     641\n",
       "2023-06-04     359\n",
       "2023-06-12     333\n",
       "2023-05-29     309\n",
       "              ... \n",
       "2020-02-21       1\n",
       "2019-08-29       1\n",
       "2021-10-31       1\n",
       "2017-09-19       1\n",
       "2023-03-18       1\n",
       "Name: last_review, Length: 906, dtype: int64"
      ]
     },
     "execution_count": 18,
     "metadata": {},
     "output_type": "execute_result"
    }
   ],
   "source": [
    "chicagobnb.last_review.value_counts(dropna=False)"
   ]
  },
  {
   "cell_type": "code",
   "execution_count": 19,
   "metadata": {},
   "outputs": [],
   "source": [
    "chicagobnb.last_review=pd.to_datetime(chicagobnb.last_review)"
   ]
  },
  {
   "cell_type": "code",
   "execution_count": 20,
   "metadata": {},
   "outputs": [
    {
     "data": {
      "text/plain": [
       "NaT           1564\n",
       "2023-06-11     641\n",
       "2023-06-04     359\n",
       "2023-06-12     333\n",
       "2023-05-29     309\n",
       "              ... \n",
       "2020-02-21       1\n",
       "2019-08-29       1\n",
       "2021-10-31       1\n",
       "2017-09-19       1\n",
       "2023-03-18       1\n",
       "Name: last_review, Length: 906, dtype: int64"
      ]
     },
     "execution_count": 20,
     "metadata": {},
     "output_type": "execute_result"
    }
   ],
   "source": [
    "chicagobnb.last_review.value_counts(dropna=False)"
   ]
  },
  {
   "cell_type": "code",
   "execution_count": 21,
   "metadata": {},
   "outputs": [],
   "source": [
    "chicagobnb.last_review=chicagobnb.last_review.ffill()"
   ]
  },
  {
   "cell_type": "code",
   "execution_count": 22,
   "metadata": {},
   "outputs": [],
   "source": [
    "chicagobnb.last_review=chicagobnb.last_review.fillna('2023-06-11')"
   ]
  },
  {
   "cell_type": "code",
   "execution_count": 23,
   "metadata": {},
   "outputs": [
    {
     "data": {
      "text/plain": [
       "id                                0\n",
       "name                              0\n",
       "host_id                           0\n",
       "host_name                         0\n",
       "neighbourhood                     0\n",
       "latitude                          0\n",
       "longitude                         0\n",
       "room_type                         0\n",
       "price                             0\n",
       "minimum_nights                    0\n",
       "number_of_reviews                 0\n",
       "last_review                       0\n",
       "reviews_per_month                 0\n",
       "calculated_host_listings_count    0\n",
       "availability_365                  0\n",
       "number_of_reviews_ltm             0\n",
       "license                           0\n",
       "dtype: int64"
      ]
     },
     "execution_count": 23,
     "metadata": {},
     "output_type": "execute_result"
    }
   ],
   "source": [
    "chicagobnb.isnull().sum()"
   ]
  },
  {
   "cell_type": "code",
   "execution_count": 24,
   "metadata": {},
   "outputs": [
    {
     "data": {
      "text/html": [
       "<div>\n",
       "<style scoped>\n",
       "    .dataframe tbody tr th:only-of-type {\n",
       "        vertical-align: middle;\n",
       "    }\n",
       "\n",
       "    .dataframe tbody tr th {\n",
       "        vertical-align: top;\n",
       "    }\n",
       "\n",
       "    .dataframe thead th {\n",
       "        text-align: right;\n",
       "    }\n",
       "</style>\n",
       "<table border=\"1\" class=\"dataframe\">\n",
       "  <thead>\n",
       "    <tr style=\"text-align: right;\">\n",
       "      <th></th>\n",
       "      <th>id</th>\n",
       "      <th>host_id</th>\n",
       "      <th>latitude</th>\n",
       "      <th>longitude</th>\n",
       "      <th>price</th>\n",
       "      <th>minimum_nights</th>\n",
       "      <th>number_of_reviews</th>\n",
       "      <th>reviews_per_month</th>\n",
       "      <th>calculated_host_listings_count</th>\n",
       "      <th>availability_365</th>\n",
       "      <th>number_of_reviews_ltm</th>\n",
       "    </tr>\n",
       "  </thead>\n",
       "  <tbody>\n",
       "    <tr>\n",
       "      <th>count</th>\n",
       "      <td>8.024000e+03</td>\n",
       "      <td>8.024000e+03</td>\n",
       "      <td>8024.000000</td>\n",
       "      <td>8024.000000</td>\n",
       "      <td>8024.000000</td>\n",
       "      <td>8024.000000</td>\n",
       "      <td>8024.000000</td>\n",
       "      <td>8024.000000</td>\n",
       "      <td>8024.000000</td>\n",
       "      <td>8024.000000</td>\n",
       "      <td>8024.000000</td>\n",
       "    </tr>\n",
       "    <tr>\n",
       "      <th>mean</th>\n",
       "      <td>3.135320e+17</td>\n",
       "      <td>1.679340e+08</td>\n",
       "      <td>41.894243</td>\n",
       "      <td>-87.662688</td>\n",
       "      <td>214.153290</td>\n",
       "      <td>15.600823</td>\n",
       "      <td>46.117896</td>\n",
       "      <td>1.878774</td>\n",
       "      <td>61.574526</td>\n",
       "      <td>201.967971</td>\n",
       "      <td>13.419990</td>\n",
       "    </tr>\n",
       "    <tr>\n",
       "      <th>std</th>\n",
       "      <td>3.734884e+17</td>\n",
       "      <td>1.585120e+08</td>\n",
       "      <td>0.061762</td>\n",
       "      <td>0.043762</td>\n",
       "      <td>290.968254</td>\n",
       "      <td>42.986730</td>\n",
       "      <td>87.624549</td>\n",
       "      <td>1.678452</td>\n",
       "      <td>177.424596</td>\n",
       "      <td>125.235404</td>\n",
       "      <td>21.271301</td>\n",
       "    </tr>\n",
       "    <tr>\n",
       "      <th>min</th>\n",
       "      <td>2.384000e+03</td>\n",
       "      <td>2.153000e+03</td>\n",
       "      <td>41.646767</td>\n",
       "      <td>-87.847243</td>\n",
       "      <td>0.000000</td>\n",
       "      <td>1.000000</td>\n",
       "      <td>0.000000</td>\n",
       "      <td>0.010000</td>\n",
       "      <td>1.000000</td>\n",
       "      <td>0.000000</td>\n",
       "      <td>0.000000</td>\n",
       "    </tr>\n",
       "    <tr>\n",
       "      <th>25%</th>\n",
       "      <td>3.366225e+07</td>\n",
       "      <td>3.327857e+07</td>\n",
       "      <td>41.867065</td>\n",
       "      <td>-87.686212</td>\n",
       "      <td>93.000000</td>\n",
       "      <td>2.000000</td>\n",
       "      <td>1.000000</td>\n",
       "      <td>0.760000</td>\n",
       "      <td>1.000000</td>\n",
       "      <td>89.000000</td>\n",
       "      <td>0.000000</td>\n",
       "    </tr>\n",
       "    <tr>\n",
       "      <th>50%</th>\n",
       "      <td>5.121381e+07</td>\n",
       "      <td>1.074344e+08</td>\n",
       "      <td>41.897425</td>\n",
       "      <td>-87.657943</td>\n",
       "      <td>150.000000</td>\n",
       "      <td>2.000000</td>\n",
       "      <td>14.000000</td>\n",
       "      <td>1.878774</td>\n",
       "      <td>3.000000</td>\n",
       "      <td>221.000000</td>\n",
       "      <td>5.000000</td>\n",
       "    </tr>\n",
       "    <tr>\n",
       "      <th>75%</th>\n",
       "      <td>7.145524e+17</td>\n",
       "      <td>2.679861e+08</td>\n",
       "      <td>41.937238</td>\n",
       "      <td>-87.631716</td>\n",
       "      <td>240.000000</td>\n",
       "      <td>32.000000</td>\n",
       "      <td>53.000000</td>\n",
       "      <td>2.430000</td>\n",
       "      <td>16.000000</td>\n",
       "      <td>319.000000</td>\n",
       "      <td>22.000000</td>\n",
       "    </tr>\n",
       "    <tr>\n",
       "      <th>max</th>\n",
       "      <td>9.154715e+17</td>\n",
       "      <td>5.203376e+08</td>\n",
       "      <td>42.022200</td>\n",
       "      <td>-87.529541</td>\n",
       "      <td>10000.000000</td>\n",
       "      <td>1125.000000</td>\n",
       "      <td>3194.000000</td>\n",
       "      <td>57.140000</td>\n",
       "      <td>655.000000</td>\n",
       "      <td>365.000000</td>\n",
       "      <td>885.000000</td>\n",
       "    </tr>\n",
       "  </tbody>\n",
       "</table>\n",
       "</div>"
      ],
      "text/plain": [
       "                 id       host_id     latitude    longitude         price  \\\n",
       "count  8.024000e+03  8.024000e+03  8024.000000  8024.000000   8024.000000   \n",
       "mean   3.135320e+17  1.679340e+08    41.894243   -87.662688    214.153290   \n",
       "std    3.734884e+17  1.585120e+08     0.061762     0.043762    290.968254   \n",
       "min    2.384000e+03  2.153000e+03    41.646767   -87.847243      0.000000   \n",
       "25%    3.366225e+07  3.327857e+07    41.867065   -87.686212     93.000000   \n",
       "50%    5.121381e+07  1.074344e+08    41.897425   -87.657943    150.000000   \n",
       "75%    7.145524e+17  2.679861e+08    41.937238   -87.631716    240.000000   \n",
       "max    9.154715e+17  5.203376e+08    42.022200   -87.529541  10000.000000   \n",
       "\n",
       "       minimum_nights  number_of_reviews  reviews_per_month  \\\n",
       "count     8024.000000        8024.000000        8024.000000   \n",
       "mean        15.600823          46.117896           1.878774   \n",
       "std         42.986730          87.624549           1.678452   \n",
       "min          1.000000           0.000000           0.010000   \n",
       "25%          2.000000           1.000000           0.760000   \n",
       "50%          2.000000          14.000000           1.878774   \n",
       "75%         32.000000          53.000000           2.430000   \n",
       "max       1125.000000        3194.000000          57.140000   \n",
       "\n",
       "       calculated_host_listings_count  availability_365  number_of_reviews_ltm  \n",
       "count                     8024.000000       8024.000000            8024.000000  \n",
       "mean                        61.574526        201.967971              13.419990  \n",
       "std                        177.424596        125.235404              21.271301  \n",
       "min                          1.000000          0.000000               0.000000  \n",
       "25%                          1.000000         89.000000               0.000000  \n",
       "50%                          3.000000        221.000000               5.000000  \n",
       "75%                         16.000000        319.000000              22.000000  \n",
       "max                        655.000000        365.000000             885.000000  "
      ]
     },
     "execution_count": 24,
     "metadata": {},
     "output_type": "execute_result"
    }
   ],
   "source": [
    "chicagobnb.describe()"
   ]
  },
  {
   "cell_type": "code",
   "execution_count": 25,
   "metadata": {},
   "outputs": [
    {
     "data": {
      "text/plain": [
       "Index(['id', 'name', 'host_id', 'host_name', 'neighbourhood', 'latitude',\n",
       "       'longitude', 'room_type', 'price', 'minimum_nights',\n",
       "       'number_of_reviews', 'last_review', 'reviews_per_month',\n",
       "       'calculated_host_listings_count', 'availability_365',\n",
       "       'number_of_reviews_ltm', 'license'],\n",
       "      dtype='object')"
      ]
     },
     "execution_count": 25,
     "metadata": {},
     "output_type": "execute_result"
    }
   ],
   "source": [
    "chicagobnb.columns"
   ]
  },
  {
   "cell_type": "code",
   "execution_count": 26,
   "metadata": {},
   "outputs": [
    {
     "data": {
      "text/plain": [
       "Rental unit in Chicago · 1 bedroom · 1 bed · 1 bath               513\n",
       "Rental unit in Chicago · Studio · 1 bed · 1 bath                  150\n",
       "Rental unit in Chicago · 2 bedrooms · 2 beds · 2 baths            124\n",
       "Rental unit in Chicago · 1 bedroom · 1 bed · 1 shared bath        104\n",
       "Rental unit in Chicago · ★New · 1 bedroom · 1 bed · 1 bath        102\n",
       "                                                                 ... \n",
       "Rental unit in Chicago · ★4.15 · 3 bedrooms · 4 beds · 1 bath       1\n",
       "Home in Chicago · ★4.84 · 5 bedrooms · 13 beds · 3.5 baths          1\n",
       "Rental unit in Chicago · ★4.98 · 5 bedrooms · 9 beds · 2 baths      1\n",
       "Condo in Chicago · ★4.65 · 1 bedroom · 1 shared bath                1\n",
       "Rental unit in Chicago · ★New · 3 bedrooms · 10 beds · 2 baths      1\n",
       "Name: name, Length: 3503, dtype: int64"
      ]
     },
     "execution_count": 26,
     "metadata": {},
     "output_type": "execute_result"
    }
   ],
   "source": [
    "chicagobnb.name.value_counts()"
   ]
  },
  {
   "cell_type": "code",
   "execution_count": 27,
   "metadata": {},
   "outputs": [
    {
     "data": {
      "text/plain": [
       "Blueground        655\n",
       "Rob                80\n",
       "Joe                73\n",
       "Milan              70\n",
       "David              66\n",
       "                 ... \n",
       "Marzena             1\n",
       "Yas                 1\n",
       "Hillary             1\n",
       "Demos               1\n",
       "Harpreet Singh      1\n",
       "Name: host_name, Length: 2045, dtype: int64"
      ]
     },
     "execution_count": 27,
     "metadata": {},
     "output_type": "execute_result"
    }
   ],
   "source": [
    "chicagobnb.host_name.value_counts()"
   ]
  },
  {
   "cell_type": "code",
   "execution_count": 28,
   "metadata": {},
   "outputs": [
    {
     "data": {
      "text/plain": [
       "Near North Side    960\n",
       "West Town          800\n",
       "Lake View          610\n",
       "Near West Side     513\n",
       "Logan Square       452\n",
       "                  ... \n",
       "Edison Park          2\n",
       "Avalon Park          2\n",
       "Mount Greenwood      2\n",
       "Burnside             1\n",
       "Riverdale            1\n",
       "Name: neighbourhood, Length: 77, dtype: int64"
      ]
     },
     "execution_count": 28,
     "metadata": {},
     "output_type": "execute_result"
    }
   ],
   "source": [
    "chicagobnb.neighbourhood.value_counts()"
   ]
  },
  {
   "cell_type": "code",
   "execution_count": 29,
   "metadata": {},
   "outputs": [
    {
     "data": {
      "text/plain": [
       "Entire home/apt    6201\n",
       "Private room       1691\n",
       "Shared room          84\n",
       "Hotel room           48\n",
       "Name: room_type, dtype: int64"
      ]
     },
     "execution_count": 29,
     "metadata": {},
     "output_type": "execute_result"
    }
   ],
   "source": [
    "chicagobnb.room_type.value_counts()"
   ]
  },
  {
   "cell_type": "code",
   "execution_count": 30,
   "metadata": {},
   "outputs": [
    {
     "data": {
      "text/plain": [
       "32      2574\n",
       "2       2404\n",
       "1       1735\n",
       "3        687\n",
       "4        112\n",
       "5         79\n",
       "7         56\n",
       "30        50\n",
       "60        38\n",
       "33        30\n",
       "28        27\n",
       "14        25\n",
       "6         24\n",
       "10        23\n",
       "90        23\n",
       "120       14\n",
       "365       13\n",
       "180       12\n",
       "20        10\n",
       "1125       7\n",
       "31         7\n",
       "35         6\n",
       "40         5\n",
       "75         5\n",
       "25         4\n",
       "21         4\n",
       "15         4\n",
       "160        3\n",
       "70         3\n",
       "12         3\n",
       "50         3\n",
       "360        3\n",
       "100        2\n",
       "500        2\n",
       "24         2\n",
       "8          2\n",
       "140        2\n",
       "200        2\n",
       "9          2\n",
       "29         2\n",
       "89         1\n",
       "240        1\n",
       "300        1\n",
       "27         1\n",
       "103        1\n",
       "1000       1\n",
       "182        1\n",
       "18         1\n",
       "179        1\n",
       "26         1\n",
       "119        1\n",
       "39         1\n",
       "150        1\n",
       "168        1\n",
       "132        1\n",
       "Name: minimum_nights, dtype: int64"
      ]
     },
     "execution_count": 30,
     "metadata": {},
     "output_type": "execute_result"
    }
   ],
   "source": [
    "chicagobnb.minimum_nights.value_counts()"
   ]
  },
  {
   "cell_type": "code",
   "execution_count": 31,
   "metadata": {},
   "outputs": [
    {
     "data": {
      "text/plain": [
       "1      2723\n",
       "2       938\n",
       "655     655\n",
       "3       519\n",
       "4       304\n",
       "6       288\n",
       "5       240\n",
       "7       196\n",
       "8       184\n",
       "23      161\n",
       "10      140\n",
       "9       135\n",
       "16      128\n",
       "39      117\n",
       "19       95\n",
       "29       87\n",
       "17       85\n",
       "74       74\n",
       "24       72\n",
       "70       70\n",
       "33       66\n",
       "13       65\n",
       "15       60\n",
       "12       60\n",
       "14       56\n",
       "11       55\n",
       "18       54\n",
       "51       51\n",
       "46       46\n",
       "22       44\n",
       "40       40\n",
       "38       38\n",
       "35       35\n",
       "34       34\n",
       "30       30\n",
       "28       28\n",
       "26       26\n",
       "25       25\n",
       "Name: calculated_host_listings_count, dtype: int64"
      ]
     },
     "execution_count": 31,
     "metadata": {},
     "output_type": "execute_result"
    }
   ],
   "source": [
    "chicagobnb.calculated_host_listings_count.value_counts()"
   ]
  },
  {
   "cell_type": "code",
   "execution_count": 32,
   "metadata": {},
   "outputs": [
    {
     "data": {
      "text/plain": [
       "0      777\n",
       "365    266\n",
       "322     77\n",
       "364     68\n",
       "307     68\n",
       "      ... \n",
       "194      5\n",
       "17       4\n",
       "226      4\n",
       "241      3\n",
       "245      1\n",
       "Name: availability_365, Length: 366, dtype: int64"
      ]
     },
     "execution_count": 32,
     "metadata": {},
     "output_type": "execute_result"
    }
   ],
   "source": [
    "chicagobnb.availability_365.value_counts()"
   ]
  },
  {
   "cell_type": "code",
   "execution_count": 33,
   "metadata": {},
   "outputs": [
    {
     "data": {
      "text/plain": [
       "City registration pending    606\n",
       "32+ Days Listing             201\n",
       "2792126                      198\n",
       "32+days Listing               90\n",
       "R19000046222                  43\n",
       "                            ... \n",
       "R19000042276                   1\n",
       "R22000083748                   1\n",
       "R21000070860                   1\n",
       "R23000101714                   1\n",
       "R23000103323                   1\n",
       "Name: license, Length: 3654, dtype: int64"
      ]
     },
     "execution_count": 33,
     "metadata": {},
     "output_type": "execute_result"
    }
   ],
   "source": [
    "chicagobnb.license.value_counts()"
   ]
  },
  {
   "cell_type": "markdown",
   "metadata": {},
   "source": [
    "## Data Visualization"
   ]
  },
  {
   "cell_type": "code",
   "execution_count": 34,
   "metadata": {},
   "outputs": [
    {
     "data": {
      "image/png": "[encoded data removed]",
      "text/plain": [
       "<Figure size 640x480 with 1 Axes>"
      ]
     },
     "metadata": {},
     "output_type": "display_data"
    }
   ],
   "source": [
    "ax=chicagobnb.room_type.value_counts().plot(kind='bar',color=sns.color_palette('colorblind'))\n",
    "for i in ax.containers:\n",
    "    ax.bar_label(i)"
   ]
  },
  {
   "cell_type": "code",
   "execution_count": 35,
   "metadata": {
    "colab": {
     "base_uri": "https://localhost:8080/"
    },
    "id": "fl6apw5av_s2",
    "outputId": "a9cf5d3e-c02c-44fd-8a71-516f4a333e7a"
   },
   "outputs": [
    {
     "data": {
      "text/plain": [
       "(-10.0, 250.0]       6223\n",
       "(250.0, 500.0]       1282\n",
       "(500.0, 750.0]        283\n",
       "(750.0, 1000.0]        99\n",
       "(1000.0, 1250.0]       60\n",
       "(1250.0, 1500.0]       21\n",
       "(1500.0, 1750.0]       18\n",
       "(1750.0, 2000.0]        8\n",
       "(2000.0, 2250.0]        6\n",
       "(2250.0, 2500.0]        5\n",
       "(2500.0, 2750.0]        4\n",
       "(2750.0, 3000.0]        3\n",
       "(3000.0, 3250.0]        2\n",
       "(3250.0, 3500.0]        2\n",
       "(3500.0, 3750.0]        2\n",
       "(4250.0, 4500.0]        2\n",
       "(5500.0, 5750.0]        1\n",
       "(4750.0, 5000.0]        1\n",
       "(5000.0, 5250.0]        1\n",
       "(9750.0, 10000.0]       1\n",
       "(7500.0, 7750.0]        0\n",
       "(9500.0, 9750.0]        0\n",
       "(9250.0, 9500.0]        0\n",
       "(9000.0, 9250.0]        0\n",
       "(8750.0, 9000.0]        0\n",
       "(8500.0, 8750.0]        0\n",
       "(8250.0, 8500.0]        0\n",
       "(8000.0, 8250.0]        0\n",
       "(7750.0, 8000.0]        0\n",
       "(4500.0, 4750.0]        0\n",
       "(4000.0, 4250.0]        0\n",
       "(7000.0, 7250.0]        0\n",
       "(6750.0, 7000.0]        0\n",
       "(6500.0, 6750.0]        0\n",
       "(6250.0, 6500.0]        0\n",
       "(6000.0, 6250.0]        0\n",
       "(5750.0, 6000.0]        0\n",
       "(3750.0, 4000.0]        0\n",
       "(5250.0, 5500.0]        0\n",
       "(7250.0, 7500.0]        0\n",
       "Name: price, dtype: int64"
      ]
     },
     "execution_count": 35,
     "metadata": {},
     "output_type": "execute_result"
    }
   ],
   "source": [
    "pd.cut(chicagobnb.price,bins=40).value_counts()#bins means class intervals\n",
    "#cut is a function name that is used for frequency"
   ]
  },
  {
   "cell_type": "code",
   "execution_count": 36,
   "metadata": {
    "colab": {
     "base_uri": "https://localhost:8080/"
    },
    "id": "_RDOvNSzwQqG",
    "outputId": "829ec21a-80c2-47cf-da6c-7a8e9ed94bd2"
   },
   "outputs": [
    {
     "data": {
      "text/plain": [
       "(100, 150]       1705\n",
       "(50, 100]        1697\n",
       "(150, 200]       1281\n",
       "(200, 250]        869\n",
       "(0, 50]           669\n",
       "(250, 300]        530\n",
       "(500, 1000]       382\n",
       "(300, 350]        322\n",
       "(350, 400]        210\n",
       "(1000, 10000]     137\n",
       "(400, 450]        127\n",
       "(450, 500]         93\n",
       "Name: price, dtype: int64"
      ]
     },
     "execution_count": 36,
     "metadata": {},
     "output_type": "execute_result"
    }
   ],
   "source": [
    "pd.cut(chicagobnb.price,bins=[0,50,100,150,200,250,300,350,400,450,500,1000,10000]).value_counts()"
   ]
  },
  {
   "cell_type": "code",
   "execution_count": 37,
   "metadata": {
    "colab": {
     "base_uri": "https://localhost:8080/"
    },
    "id": "TXVPp6kBxXZD",
    "outputId": "e49f0578-9bcb-4a23-8e57-f782147c3e88"
   },
   "outputs": [
    {
     "data": {
      "text/plain": [
       "(0, 50]           669\n",
       "(50, 100]        1697\n",
       "(100, 150]       1705\n",
       "(150, 200]       1281\n",
       "(200, 250]        869\n",
       "(250, 300]        530\n",
       "(300, 350]        322\n",
       "(350, 400]        210\n",
       "(400, 450]        127\n",
       "(450, 500]         93\n",
       "(500, 1000]       382\n",
       "(1000, 10000]     137\n",
       "Name: price, dtype: int64"
      ]
     },
     "execution_count": 37,
     "metadata": {},
     "output_type": "execute_result"
    }
   ],
   "source": [
    "pd.cut(chicagobnb.price,bins=[0,50,100,150,200,250,300,350,400,450,500,1000,10000]).value_counts().sort_index()"
   ]
  },
  {
   "cell_type": "code",
   "execution_count": 38,
   "metadata": {
    "colab": {
     "base_uri": "https://localhost:8080/"
    },
    "id": "2NWaRPJ6xb68",
    "outputId": "0d61d8e0-8856-4327-90d3-0074ed3be33c"
   },
   "outputs": [
    {
     "data": {
      "text/plain": [
       "(0, 50]          4384\n",
       "(50, 100]         966\n",
       "(100, 150]        424\n",
       "(150, 200]        269\n",
       "(200, 250]        165\n",
       "(250, 300]         90\n",
       "(300, 350]         62\n",
       "(350, 400]         27\n",
       "(400, 450]         26\n",
       "(450, 500]         19\n",
       "(500, 1000]        26\n",
       "(1000, 10000]       2\n",
       "Name: number_of_reviews, dtype: int64"
      ]
     },
     "execution_count": 38,
     "metadata": {},
     "output_type": "execute_result"
    }
   ],
   "source": [
    "pd.cut(chicagobnb.number_of_reviews,bins=[0,50,100,150,200,250,300,350,400,450,500,1000,10000]).value_counts().sort_index()"
   ]
  },
  {
   "cell_type": "code",
   "execution_count": 39,
   "metadata": {
    "colab": {
     "base_uri": "https://localhost:8080/"
    },
    "id": "XSj-goiryNPL",
    "outputId": "c32ed223-e276-43d7-a07d-ab78bb2674d0"
   },
   "outputs": [
    {
     "data": {
      "text/plain": [
       "(1000, 10000]       2\n",
       "(450, 500]         19\n",
       "(400, 450]         26\n",
       "(500, 1000]        26\n",
       "(350, 400]         27\n",
       "(300, 350]         62\n",
       "(250, 300]         90\n",
       "(200, 250]        165\n",
       "(150, 200]        269\n",
       "(100, 150]        424\n",
       "(50, 100]         966\n",
       "(0, 50]          4384\n",
       "Name: number_of_reviews, dtype: int64"
      ]
     },
     "execution_count": 39,
     "metadata": {},
     "output_type": "execute_result"
    }
   ],
   "source": [
    "pd.cut(chicagobnb.number_of_reviews,bins=[0,50,100,150,200,250,300,350,400,450,500,1000,10000]).value_counts().sort_values()"
   ]
  },
  {
   "cell_type": "code",
   "execution_count": 40,
   "metadata": {
    "colab": {
     "base_uri": "https://localhost:8080/",
     "height": 515
    },
    "id": "XSNwGk1b3Usu",
    "outputId": "2f6e6e7c-68de-47df-ce1d-c6637cf97c86"
   },
   "outputs": [
    {
     "data": {
      "image/png": "[encoded data removed]",
      "text/plain": [
       "<Figure size 640x480 with 1 Axes>"
      ]
     },
     "metadata": {},
     "output_type": "display_data"
    }
   ],
   "source": [
    "bx=pd.cut(chicagobnb.number_of_reviews,bins=[0,50,100,150,200,250,300,350,400,450,500,1000,10000]).value_counts().sort_index().plot(kind='bar')\n",
    "for i in bx.containers:\n",
    "  bx.bar_label(i)"
   ]
  },
  {
   "cell_type": "code",
   "execution_count": 41,
   "metadata": {
    "colab": {
     "base_uri": "https://localhost:8080/",
     "height": 515
    },
    "id": "3TS_XhKKzBdV",
    "outputId": "83ed9966-3b0e-4bdf-bcb0-e0e57fc72218"
   },
   "outputs": [
    {
     "data": {
      "image/png": "[encoded data removed]",
      "text/plain": [
       "<Figure size 640x480 with 1 Axes>"
      ]
     },
     "metadata": {},
     "output_type": "display_data"
    }
   ],
   "source": [
    "#bar plotof frequency distribution table\n",
    "ax=pd.cut(chicagobnb.price,bins=[0,50,100,150,200,250,300,350,400,450,500,1000,10000]).value_counts().sort_index().plot(kind='bar',color=sns.color_palette('pastel'))\n",
    "for i in ax.containers:\n",
    "  ax.bar_label(i)"
   ]
  },
  {
   "cell_type": "markdown",
   "metadata": {},
   "source": [
    "# Data Aggregation"
   ]
  },
  {
   "cell_type": "code",
   "execution_count": 42,
   "metadata": {
    "colab": {
     "base_uri": "https://localhost:8080/"
    },
    "id": "xPLiAFI35C6v",
    "outputId": "4f6cfb11-714d-4a8b-cc33-db80ec333988"
   },
   "outputs": [
    {
     "data": {
      "text/plain": [
       "room_type\n",
       "Entire home/apt    243.407999\n",
       "Hotel room         187.729167\n",
       "Private room       115.835600\n",
       "Shared room         48.857143\n",
       "Name: price, dtype: float64"
      ]
     },
     "execution_count": 42,
     "metadata": {},
     "output_type": "execute_result"
    }
   ],
   "source": [
    "# what is the average price of different room_type?\n",
    "chicagobnb.price.groupby(chicagobnb.room_type).mean()"
   ]
  },
  {
   "cell_type": "code",
   "execution_count": 43,
   "metadata": {},
   "outputs": [
    {
     "data": {
      "image/png": "[encoded data removed]",
      "text/plain": [
       "<Figure size 640x480 with 1 Axes>"
      ]
     },
     "metadata": {},
     "output_type": "display_data"
    }
   ],
   "source": [
    "ax=chicagobnb.price.groupby(chicagobnb.room_type).mean().plot(kind='bar',color=sns.color_palette('Set1'),title='Average Prices of Different Room types')\n",
    "for i in ax.containers:\n",
    "    ax.bar_label(i)"
   ]
  },
  {
   "cell_type": "code",
   "execution_count": 44,
   "metadata": {
    "colab": {
     "base_uri": "https://localhost:8080/"
    },
    "id": "1aOEY9zr6ROQ",
    "outputId": "4f898a18-000e-4fe5-8e4e-8331855754cd"
   },
   "outputs": [
    {
     "data": {
      "text/plain": [
       "neighbourhood\n",
       "Clearing           387.294118\n",
       "Lincoln Park       311.731148\n",
       "Near North Side    311.229167\n",
       "West Town          301.153750\n",
       "Loop               272.973558\n",
       "                      ...    \n",
       "East Side           72.166667\n",
       "West Englewood      66.117647\n",
       "Riverdale           66.000000\n",
       "New City            65.523810\n",
       "Mount Greenwood     62.000000\n",
       "Name: price, Length: 77, dtype: float64"
      ]
     },
     "execution_count": 44,
     "metadata": {},
     "output_type": "execute_result"
    }
   ],
   "source": [
    "# What is the Average price in different neighbourhood?\n",
    "chicagobnb.price.groupby(chicagobnb.neighbourhood).mean().sort_values(ascending=False)"
   ]
  },
  {
   "cell_type": "code",
   "execution_count": 45,
   "metadata": {},
   "outputs": [
    {
     "data": {
      "image/png": "[encoded data removed]",
      "text/plain": [
       "<Figure size 2000x1000 with 1 Axes>"
      ]
     },
     "metadata": {},
     "output_type": "display_data"
    }
   ],
   "source": [
    "ax=np.round(chicagobnb.price.groupby(chicagobnb.neighbourhood).mean(),2).plot(kind='bar',figsize=(20,10),color=sns.color_palette('Set2'),title='Average Prices of Neighbourhood')\n",
    "for i in ax.containers:\n",
    "    ax.bar_label(i)\n",
    "plt.show()"
   ]
  },
  {
   "cell_type": "code",
   "execution_count": 46,
   "metadata": {
    "colab": {
     "base_uri": "https://localhost:8080/"
    },
    "id": "5nPSVnqJ7eUo",
    "outputId": "bfd39989-7447-4121-82f5-718b98507581"
   },
   "outputs": [
    {
     "data": {
      "text/plain": [
       "neighbourhood\n",
       "Edison Park      165.5\n",
       "Ashburn           63.0\n",
       "North Center      42.0\n",
       "North Park        40.0\n",
       "Forest Glen       38.0\n",
       "                 ...  \n",
       "Loop               1.0\n",
       "New City           1.0\n",
       "Chatham            0.0\n",
       "South Deering      0.0\n",
       "Clearing           0.0\n",
       "Name: number_of_reviews, Length: 77, dtype: float64"
      ]
     },
     "execution_count": 46,
     "metadata": {},
     "output_type": "execute_result"
    }
   ],
   "source": [
    "# what is the median number_of_reviews for each neighborhood\n",
    "chicagobnb.number_of_reviews.groupby(chicagobnb.neighbourhood).median().sort_values(ascending=False)"
   ]
  },
  {
   "cell_type": "code",
   "execution_count": 47,
   "metadata": {
    "colab": {
     "base_uri": "https://localhost:8080/"
    },
    "id": "fCOKn7wnBKWT",
    "outputId": "cef5a0de-228c-4957-cf50-0bd83fed0925"
   },
   "outputs": [
    {
     "data": {
      "text/plain": [
       "neighbourhood           room_type      \n",
       "Albany Park             Entire home/apt    187.142857\n",
       "                        Private room        65.772727\n",
       "Archer Heights          Entire home/apt     88.666667\n",
       "                        Private room        95.500000\n",
       "Armour Square           Entire home/apt    324.560976\n",
       "                        Private room        58.580645\n",
       "Ashburn                 Entire home/apt    125.875000\n",
       "Auburn Gresham          Entire home/apt    164.846154\n",
       "                        Private room        79.000000\n",
       "                        Shared room         30.714286\n",
       "Austin                  Entire home/apt    192.771429\n",
       "                        Private room        74.750000\n",
       "Avalon Park             Entire home/apt     84.500000\n",
       "Avondale                Entire home/apt    172.301370\n",
       "                        Private room        65.315789\n",
       "Belmont Cragin          Entire home/apt    171.730769\n",
       "                        Private room       107.090909\n",
       "                        Shared room         70.000000\n",
       "Beverly                 Entire home/apt    185.125000\n",
       "                        Private room        49.500000\n",
       "Bridgeport              Entire home/apt    171.455446\n",
       "                        Private room        57.041667\n",
       "Brighton Park           Entire home/apt    148.071429\n",
       "                        Private room        48.818182\n",
       "                        Shared room         39.000000\n",
       "Burnside                Entire home/apt    200.000000\n",
       "Calumet Heights         Entire home/apt    159.888889\n",
       "                        Private room        58.800000\n",
       "                        Shared room         36.166667\n",
       "Chatham                 Entire home/apt    215.150000\n",
       "                        Private room        97.666667\n",
       "Chicago Lawn            Entire home/apt    120.000000\n",
       "                        Private room        29.500000\n",
       "Clearing                Entire home/apt    409.500000\n",
       "                        Shared room         32.000000\n",
       "Douglas                 Entire home/apt    192.033898\n",
       "                        Private room        79.950000\n",
       "                        Shared room        250.000000\n",
       "Dunning                 Entire home/apt    181.222222\n",
       "                        Private room        68.357143\n",
       "East Garfield Park      Entire home/apt    183.711538\n",
       "                        Private room        80.050000\n",
       "East Side               Entire home/apt    141.500000\n",
       "                        Private room        37.500000\n",
       "Edgewater               Entire home/apt    197.655405\n",
       "                        Private room        98.500000\n",
       "Edison Park             Entire home/apt    277.000000\n",
       "                        Private room        64.000000\n",
       "Englewood               Entire home/apt    132.307692\n",
       "                        Private room        59.631579\n",
       "                        Shared room         43.000000\n",
       "Forest Glen             Entire home/apt    246.500000\n",
       "                        Private room        77.500000\n",
       "Fuller Park             Entire home/apt    121.333333\n",
       "                        Private room        34.333333\n",
       "Gage Park               Entire home/apt     89.500000\n",
       "                        Private room        80.500000\n",
       "Garfield Ridge          Entire home/apt    245.250000\n",
       "                        Private room        36.666667\n",
       "Grand Boulevard         Entire home/apt    200.475728\n",
       "                        Private room        62.800000\n",
       "Greater Grand Crossing  Entire home/apt    178.193548\n",
       "                        Private room        69.000000\n",
       "                        Shared room        101.000000\n",
       "Hegewisch               Entire home/apt    136.800000\n",
       "Hermosa                 Entire home/apt    194.047619\n",
       "                        Private room        68.333333\n",
       "Humboldt Park           Entire home/apt    195.853333\n",
       "                        Private room        56.095238\n",
       "                        Shared room         40.000000\n",
       "Hyde Park               Entire home/apt    154.315789\n",
       "                        Private room       154.920000\n",
       "Irving Park             Entire home/apt    184.939394\n",
       "                        Private room        65.477273\n",
       "                        Shared room         40.000000\n",
       "Jefferson Park          Entire home/apt    145.355556\n",
       "                        Private room        64.000000\n",
       "Kenwood                 Entire home/apt    181.625000\n",
       "                        Private room        73.772727\n",
       "Lake View               Entire home/apt    254.650376\n",
       "                        Private room       112.589041\n",
       "                        Shared room         55.600000\n",
       "Lincoln Park            Entire home/apt    337.378676\n",
       "                        Private room       108.000000\n",
       "                        Shared room         44.750000\n",
       "Lincoln Square          Entire home/apt    146.569892\n",
       "                        Private room        69.416667\n",
       "Logan Square            Entire home/apt    210.335938\n",
       "                        Private room        70.941176\n",
       "Loop                    Entire home/apt    281.258760\n",
       "                        Hotel room         278.666667\n",
       "                        Private room       199.380952\n",
       "Lower West Side         Entire home/apt    166.511905\n",
       "                        Private room        60.547945\n",
       "                        Shared room        103.500000\n",
       "Mckinley Park           Entire home/apt    238.636364\n",
       "                        Private room        47.703704\n",
       "                        Shared room         55.000000\n",
       "Montclare               Entire home/apt    122.000000\n",
       "                        Private room        90.250000\n",
       "Morgan Park             Entire home/apt    145.916667\n",
       "                        Private room        55.000000\n",
       "Mount Greenwood         Entire home/apt     89.000000\n",
       "                        Private room        35.000000\n",
       "Near North Side         Entire home/apt    289.773537\n",
       "                        Hotel room         100.416667\n",
       "                        Private room       462.317568\n",
       "                        Shared room         92.500000\n",
       "Near South Side         Entire home/apt    267.944206\n",
       "                        Private room        95.250000\n",
       "Near West Side          Entire home/apt    270.000000\n",
       "                        Hotel room           0.000000\n",
       "                        Private room        71.121495\n",
       "New City                Entire home/apt    149.181818\n",
       "                        Private room        35.838710\n",
       "North Center            Entire home/apt    220.044248\n",
       "                        Private room       126.000000\n",
       "North Lawndale          Entire home/apt    222.307692\n",
       "                        Private room        53.105263\n",
       "North Park              Entire home/apt    200.076923\n",
       "                        Private room        70.900000\n",
       "Norwood Park            Entire home/apt    241.677419\n",
       "                        Private room        52.652174\n",
       "Oakland                 Entire home/apt    286.636364\n",
       "                        Private room        50.000000\n",
       "Ohare                   Entire home/apt    168.785714\n",
       "Portage Park            Entire home/apt    156.472973\n",
       "                        Private room       121.111111\n",
       "Pullman                 Entire home/apt    152.000000\n",
       "                        Private room        39.666667\n",
       "Riverdale               Entire home/apt     66.000000\n",
       "Rogers Park             Entire home/apt    190.444444\n",
       "                        Private room        98.102041\n",
       "                        Shared room         66.000000\n",
       "Roseland                Entire home/apt    152.571429\n",
       "                        Private room        93.000000\n",
       "South Chicago           Entire home/apt    193.333333\n",
       "                        Private room        34.187500\n",
       "                        Shared room         29.400000\n",
       "South Deering           Entire home/apt    237.333333\n",
       "                        Private room        25.000000\n",
       "South Lawndale          Entire home/apt    117.892857\n",
       "                        Private room        60.428571\n",
       "                        Shared room         25.000000\n",
       "South Shore             Entire home/apt    199.711864\n",
       "                        Private room       120.369565\n",
       "                        Shared room         43.875000\n",
       "Uptown                  Entire home/apt    185.630573\n",
       "                        Hotel room         484.000000\n",
       "                        Private room       145.844444\n",
       "Washington Heights      Entire home/apt    164.000000\n",
       "Washington Park         Entire home/apt    173.031250\n",
       "                        Private room        89.052632\n",
       "                        Shared room        100.000000\n",
       "West Elsdon             Entire home/apt     92.666667\n",
       "                        Private room       105.000000\n",
       "West Englewood          Entire home/apt    157.000000\n",
       "                        Private room        50.000000\n",
       "                        Shared room         34.333333\n",
       "West Garfield Park      Entire home/apt    130.800000\n",
       "                        Private room        47.384615\n",
       "West Lawn               Entire home/apt    108.000000\n",
       "                        Private room        39.000000\n",
       "West Pullman            Entire home/apt    142.333333\n",
       "                        Private room        80.333333\n",
       "West Ridge              Entire home/apt    163.686567\n",
       "                        Private room        66.950000\n",
       "                        Shared room         44.416667\n",
       "West Town               Entire home/apt    336.702096\n",
       "                        Hotel room         253.705882\n",
       "                        Private room       101.912281\n",
       "                        Shared room         75.000000\n",
       "Woodlawn                Entire home/apt    216.698795\n",
       "                        Private room        54.564103\n",
       "Name: price, dtype: float64"
      ]
     },
     "execution_count": 47,
     "metadata": {},
     "output_type": "execute_result"
    }
   ],
   "source": [
    "# what is the Average price based on neighborhood and room_type\n",
    "pd.set_option('display.max_rows',174)\n",
    "chicagobnb.price.groupby([chicagobnb.neighbourhood,chicagobnb.room_type]).mean()"
   ]
  },
  {
   "cell_type": "code",
   "execution_count": 48,
   "metadata": {
    "colab": {
     "base_uri": "https://localhost:8080/",
     "height": 669
    },
    "id": "tufNB1vk4ciJ",
    "outputId": "0315859c-c8ff-4601-edf8-f60544c8a9cb"
   },
   "outputs": [
    {
     "data": {
      "text/html": [
       "<div>\n",
       "<style scoped>\n",
       "    .dataframe tbody tr th:only-of-type {\n",
       "        vertical-align: middle;\n",
       "    }\n",
       "\n",
       "    .dataframe tbody tr th {\n",
       "        vertical-align: top;\n",
       "    }\n",
       "\n",
       "    .dataframe thead th {\n",
       "        text-align: right;\n",
       "    }\n",
       "</style>\n",
       "<table border=\"1\" class=\"dataframe\">\n",
       "  <thead>\n",
       "    <tr style=\"text-align: right;\">\n",
       "      <th>room_type</th>\n",
       "      <th>Entire home/apt</th>\n",
       "      <th>Hotel room</th>\n",
       "      <th>Private room</th>\n",
       "      <th>Shared room</th>\n",
       "    </tr>\n",
       "    <tr>\n",
       "      <th>neighbourhood</th>\n",
       "      <th></th>\n",
       "      <th></th>\n",
       "      <th></th>\n",
       "      <th></th>\n",
       "    </tr>\n",
       "  </thead>\n",
       "  <tbody>\n",
       "    <tr>\n",
       "      <th>Near North Side</th>\n",
       "      <td>786</td>\n",
       "      <td>24</td>\n",
       "      <td>148</td>\n",
       "      <td>2</td>\n",
       "    </tr>\n",
       "    <tr>\n",
       "      <th>West Town</th>\n",
       "      <td>668</td>\n",
       "      <td>17</td>\n",
       "      <td>114</td>\n",
       "      <td>1</td>\n",
       "    </tr>\n",
       "    <tr>\n",
       "      <th>Lake View</th>\n",
       "      <td>532</td>\n",
       "      <td>0</td>\n",
       "      <td>73</td>\n",
       "      <td>5</td>\n",
       "    </tr>\n",
       "    <tr>\n",
       "      <th>Near West Side</th>\n",
       "      <td>405</td>\n",
       "      <td>1</td>\n",
       "      <td>107</td>\n",
       "      <td>0</td>\n",
       "    </tr>\n",
       "    <tr>\n",
       "      <th>Logan Square</th>\n",
       "      <td>384</td>\n",
       "      <td>0</td>\n",
       "      <td>68</td>\n",
       "      <td>0</td>\n",
       "    </tr>\n",
       "    <tr>\n",
       "      <th>Loop</th>\n",
       "      <td>371</td>\n",
       "      <td>3</td>\n",
       "      <td>42</td>\n",
       "      <td>0</td>\n",
       "    </tr>\n",
       "    <tr>\n",
       "      <th>Lincoln Park</th>\n",
       "      <td>272</td>\n",
       "      <td>0</td>\n",
       "      <td>29</td>\n",
       "      <td>4</td>\n",
       "    </tr>\n",
       "    <tr>\n",
       "      <th>Near South Side</th>\n",
       "      <td>233</td>\n",
       "      <td>0</td>\n",
       "      <td>4</td>\n",
       "      <td>0</td>\n",
       "    </tr>\n",
       "    <tr>\n",
       "      <th>Lower West Side</th>\n",
       "      <td>168</td>\n",
       "      <td>0</td>\n",
       "      <td>73</td>\n",
       "      <td>2</td>\n",
       "    </tr>\n",
       "    <tr>\n",
       "      <th>Uptown</th>\n",
       "      <td>157</td>\n",
       "      <td>3</td>\n",
       "      <td>45</td>\n",
       "      <td>0</td>\n",
       "    </tr>\n",
       "    <tr>\n",
       "      <th>Edgewater</th>\n",
       "      <td>148</td>\n",
       "      <td>0</td>\n",
       "      <td>48</td>\n",
       "      <td>0</td>\n",
       "    </tr>\n",
       "    <tr>\n",
       "      <th>Avondale</th>\n",
       "      <td>146</td>\n",
       "      <td>0</td>\n",
       "      <td>19</td>\n",
       "      <td>0</td>\n",
       "    </tr>\n",
       "    <tr>\n",
       "      <th>Irving Park</th>\n",
       "      <td>132</td>\n",
       "      <td>0</td>\n",
       "      <td>44</td>\n",
       "      <td>1</td>\n",
       "    </tr>\n",
       "    <tr>\n",
       "      <th>North Center</th>\n",
       "      <td>113</td>\n",
       "      <td>0</td>\n",
       "      <td>5</td>\n",
       "      <td>0</td>\n",
       "    </tr>\n",
       "    <tr>\n",
       "      <th>Rogers Park</th>\n",
       "      <td>108</td>\n",
       "      <td>0</td>\n",
       "      <td>49</td>\n",
       "      <td>3</td>\n",
       "    </tr>\n",
       "    <tr>\n",
       "      <th>Grand Boulevard</th>\n",
       "      <td>103</td>\n",
       "      <td>0</td>\n",
       "      <td>20</td>\n",
       "      <td>0</td>\n",
       "    </tr>\n",
       "    <tr>\n",
       "      <th>Bridgeport</th>\n",
       "      <td>101</td>\n",
       "      <td>0</td>\n",
       "      <td>72</td>\n",
       "      <td>0</td>\n",
       "    </tr>\n",
       "    <tr>\n",
       "      <th>Lincoln Square</th>\n",
       "      <td>93</td>\n",
       "      <td>0</td>\n",
       "      <td>12</td>\n",
       "      <td>0</td>\n",
       "    </tr>\n",
       "    <tr>\n",
       "      <th>Woodlawn</th>\n",
       "      <td>83</td>\n",
       "      <td>0</td>\n",
       "      <td>39</td>\n",
       "      <td>0</td>\n",
       "    </tr>\n",
       "    <tr>\n",
       "      <th>Hyde Park</th>\n",
       "      <td>76</td>\n",
       "      <td>0</td>\n",
       "      <td>25</td>\n",
       "      <td>0</td>\n",
       "    </tr>\n",
       "    <tr>\n",
       "      <th>Humboldt Park</th>\n",
       "      <td>75</td>\n",
       "      <td>0</td>\n",
       "      <td>21</td>\n",
       "      <td>1</td>\n",
       "    </tr>\n",
       "    <tr>\n",
       "      <th>Portage Park</th>\n",
       "      <td>74</td>\n",
       "      <td>0</td>\n",
       "      <td>18</td>\n",
       "      <td>0</td>\n",
       "    </tr>\n",
       "    <tr>\n",
       "      <th>West Ridge</th>\n",
       "      <td>67</td>\n",
       "      <td>0</td>\n",
       "      <td>20</td>\n",
       "      <td>12</td>\n",
       "    </tr>\n",
       "    <tr>\n",
       "      <th>Douglas</th>\n",
       "      <td>59</td>\n",
       "      <td>0</td>\n",
       "      <td>20</td>\n",
       "      <td>1</td>\n",
       "    </tr>\n",
       "    <tr>\n",
       "      <th>South Shore</th>\n",
       "      <td>59</td>\n",
       "      <td>0</td>\n",
       "      <td>46</td>\n",
       "      <td>8</td>\n",
       "    </tr>\n",
       "    <tr>\n",
       "      <th>East Garfield Park</th>\n",
       "      <td>52</td>\n",
       "      <td>0</td>\n",
       "      <td>100</td>\n",
       "      <td>0</td>\n",
       "    </tr>\n",
       "    <tr>\n",
       "      <th>Albany Park</th>\n",
       "      <td>49</td>\n",
       "      <td>0</td>\n",
       "      <td>22</td>\n",
       "      <td>0</td>\n",
       "    </tr>\n",
       "    <tr>\n",
       "      <th>Jefferson Park</th>\n",
       "      <td>45</td>\n",
       "      <td>0</td>\n",
       "      <td>9</td>\n",
       "      <td>0</td>\n",
       "    </tr>\n",
       "    <tr>\n",
       "      <th>Armour Square</th>\n",
       "      <td>41</td>\n",
       "      <td>0</td>\n",
       "      <td>31</td>\n",
       "      <td>0</td>\n",
       "    </tr>\n",
       "    <tr>\n",
       "      <th>Austin</th>\n",
       "      <td>35</td>\n",
       "      <td>0</td>\n",
       "      <td>16</td>\n",
       "      <td>0</td>\n",
       "    </tr>\n",
       "    <tr>\n",
       "      <th>Washington Park</th>\n",
       "      <td>32</td>\n",
       "      <td>0</td>\n",
       "      <td>19</td>\n",
       "      <td>1</td>\n",
       "    </tr>\n",
       "    <tr>\n",
       "      <th>Kenwood</th>\n",
       "      <td>32</td>\n",
       "      <td>0</td>\n",
       "      <td>22</td>\n",
       "      <td>0</td>\n",
       "    </tr>\n",
       "    <tr>\n",
       "      <th>Greater Grand Crossing</th>\n",
       "      <td>31</td>\n",
       "      <td>0</td>\n",
       "      <td>21</td>\n",
       "      <td>2</td>\n",
       "    </tr>\n",
       "    <tr>\n",
       "      <th>Norwood Park</th>\n",
       "      <td>31</td>\n",
       "      <td>0</td>\n",
       "      <td>23</td>\n",
       "      <td>0</td>\n",
       "    </tr>\n",
       "    <tr>\n",
       "      <th>South Lawndale</th>\n",
       "      <td>28</td>\n",
       "      <td>0</td>\n",
       "      <td>14</td>\n",
       "      <td>1</td>\n",
       "    </tr>\n",
       "    <tr>\n",
       "      <th>Dunning</th>\n",
       "      <td>27</td>\n",
       "      <td>0</td>\n",
       "      <td>14</td>\n",
       "      <td>0</td>\n",
       "    </tr>\n",
       "    <tr>\n",
       "      <th>North Lawndale</th>\n",
       "      <td>26</td>\n",
       "      <td>0</td>\n",
       "      <td>19</td>\n",
       "      <td>0</td>\n",
       "    </tr>\n",
       "    <tr>\n",
       "      <th>Belmont Cragin</th>\n",
       "      <td>26</td>\n",
       "      <td>0</td>\n",
       "      <td>11</td>\n",
       "      <td>1</td>\n",
       "    </tr>\n",
       "    <tr>\n",
       "      <th>Mckinley Park</th>\n",
       "      <td>22</td>\n",
       "      <td>0</td>\n",
       "      <td>27</td>\n",
       "      <td>1</td>\n",
       "    </tr>\n",
       "    <tr>\n",
       "      <th>Hermosa</th>\n",
       "      <td>21</td>\n",
       "      <td>0</td>\n",
       "      <td>6</td>\n",
       "      <td>0</td>\n",
       "    </tr>\n",
       "    <tr>\n",
       "      <th>Chatham</th>\n",
       "      <td>20</td>\n",
       "      <td>0</td>\n",
       "      <td>6</td>\n",
       "      <td>0</td>\n",
       "    </tr>\n",
       "    <tr>\n",
       "      <th>Clearing</th>\n",
       "      <td>16</td>\n",
       "      <td>0</td>\n",
       "      <td>0</td>\n",
       "      <td>1</td>\n",
       "    </tr>\n",
       "    <tr>\n",
       "      <th>South Chicago</th>\n",
       "      <td>15</td>\n",
       "      <td>0</td>\n",
       "      <td>16</td>\n",
       "      <td>5</td>\n",
       "    </tr>\n",
       "    <tr>\n",
       "      <th>Ohare</th>\n",
       "      <td>14</td>\n",
       "      <td>0</td>\n",
       "      <td>0</td>\n",
       "      <td>0</td>\n",
       "    </tr>\n",
       "    <tr>\n",
       "      <th>Brighton Park</th>\n",
       "      <td>14</td>\n",
       "      <td>0</td>\n",
       "      <td>11</td>\n",
       "      <td>1</td>\n",
       "    </tr>\n",
       "    <tr>\n",
       "      <th>Roseland</th>\n",
       "      <td>14</td>\n",
       "      <td>0</td>\n",
       "      <td>5</td>\n",
       "      <td>0</td>\n",
       "    </tr>\n",
       "    <tr>\n",
       "      <th>North Park</th>\n",
       "      <td>13</td>\n",
       "      <td>0</td>\n",
       "      <td>10</td>\n",
       "      <td>0</td>\n",
       "    </tr>\n",
       "    <tr>\n",
       "      <th>Auburn Gresham</th>\n",
       "      <td>13</td>\n",
       "      <td>0</td>\n",
       "      <td>3</td>\n",
       "      <td>7</td>\n",
       "    </tr>\n",
       "    <tr>\n",
       "      <th>Englewood</th>\n",
       "      <td>13</td>\n",
       "      <td>0</td>\n",
       "      <td>19</td>\n",
       "      <td>3</td>\n",
       "    </tr>\n",
       "    <tr>\n",
       "      <th>Morgan Park</th>\n",
       "      <td>12</td>\n",
       "      <td>0</td>\n",
       "      <td>1</td>\n",
       "      <td>0</td>\n",
       "    </tr>\n",
       "    <tr>\n",
       "      <th>Pullman</th>\n",
       "      <td>12</td>\n",
       "      <td>0</td>\n",
       "      <td>3</td>\n",
       "      <td>0</td>\n",
       "    </tr>\n",
       "    <tr>\n",
       "      <th>New City</th>\n",
       "      <td>11</td>\n",
       "      <td>0</td>\n",
       "      <td>31</td>\n",
       "      <td>0</td>\n",
       "    </tr>\n",
       "    <tr>\n",
       "      <th>Oakland</th>\n",
       "      <td>11</td>\n",
       "      <td>0</td>\n",
       "      <td>1</td>\n",
       "      <td>0</td>\n",
       "    </tr>\n",
       "    <tr>\n",
       "      <th>West Garfield Park</th>\n",
       "      <td>10</td>\n",
       "      <td>0</td>\n",
       "      <td>13</td>\n",
       "      <td>0</td>\n",
       "    </tr>\n",
       "    <tr>\n",
       "      <th>Calumet Heights</th>\n",
       "      <td>9</td>\n",
       "      <td>0</td>\n",
       "      <td>5</td>\n",
       "      <td>18</td>\n",
       "    </tr>\n",
       "    <tr>\n",
       "      <th>West Lawn</th>\n",
       "      <td>8</td>\n",
       "      <td>0</td>\n",
       "      <td>2</td>\n",
       "      <td>0</td>\n",
       "    </tr>\n",
       "    <tr>\n",
       "      <th>Ashburn</th>\n",
       "      <td>8</td>\n",
       "      <td>0</td>\n",
       "      <td>0</td>\n",
       "      <td>0</td>\n",
       "    </tr>\n",
       "    <tr>\n",
       "      <th>Garfield Ridge</th>\n",
       "      <td>8</td>\n",
       "      <td>0</td>\n",
       "      <td>3</td>\n",
       "      <td>0</td>\n",
       "    </tr>\n",
       "    <tr>\n",
       "      <th>Montclare</th>\n",
       "      <td>8</td>\n",
       "      <td>0</td>\n",
       "      <td>4</td>\n",
       "      <td>0</td>\n",
       "    </tr>\n",
       "    <tr>\n",
       "      <th>Beverly</th>\n",
       "      <td>8</td>\n",
       "      <td>0</td>\n",
       "      <td>6</td>\n",
       "      <td>0</td>\n",
       "    </tr>\n",
       "    <tr>\n",
       "      <th>Washington Heights</th>\n",
       "      <td>7</td>\n",
       "      <td>0</td>\n",
       "      <td>0</td>\n",
       "      <td>0</td>\n",
       "    </tr>\n",
       "    <tr>\n",
       "      <th>Forest Glen</th>\n",
       "      <td>6</td>\n",
       "      <td>0</td>\n",
       "      <td>2</td>\n",
       "      <td>0</td>\n",
       "    </tr>\n",
       "    <tr>\n",
       "      <th>Archer Heights</th>\n",
       "      <td>6</td>\n",
       "      <td>0</td>\n",
       "      <td>2</td>\n",
       "      <td>0</td>\n",
       "    </tr>\n",
       "    <tr>\n",
       "      <th>Hegewisch</th>\n",
       "      <td>5</td>\n",
       "      <td>0</td>\n",
       "      <td>0</td>\n",
       "      <td>0</td>\n",
       "    </tr>\n",
       "    <tr>\n",
       "      <th>East Side</th>\n",
       "      <td>4</td>\n",
       "      <td>0</td>\n",
       "      <td>8</td>\n",
       "      <td>0</td>\n",
       "    </tr>\n",
       "    <tr>\n",
       "      <th>South Deering</th>\n",
       "      <td>3</td>\n",
       "      <td>0</td>\n",
       "      <td>1</td>\n",
       "      <td>0</td>\n",
       "    </tr>\n",
       "    <tr>\n",
       "      <th>Fuller Park</th>\n",
       "      <td>3</td>\n",
       "      <td>0</td>\n",
       "      <td>3</td>\n",
       "      <td>0</td>\n",
       "    </tr>\n",
       "    <tr>\n",
       "      <th>West Elsdon</th>\n",
       "      <td>3</td>\n",
       "      <td>0</td>\n",
       "      <td>1</td>\n",
       "      <td>0</td>\n",
       "    </tr>\n",
       "    <tr>\n",
       "      <th>West Englewood</th>\n",
       "      <td>3</td>\n",
       "      <td>0</td>\n",
       "      <td>11</td>\n",
       "      <td>3</td>\n",
       "    </tr>\n",
       "    <tr>\n",
       "      <th>West Pullman</th>\n",
       "      <td>3</td>\n",
       "      <td>0</td>\n",
       "      <td>3</td>\n",
       "      <td>0</td>\n",
       "    </tr>\n",
       "    <tr>\n",
       "      <th>Avalon Park</th>\n",
       "      <td>2</td>\n",
       "      <td>0</td>\n",
       "      <td>0</td>\n",
       "      <td>0</td>\n",
       "    </tr>\n",
       "    <tr>\n",
       "      <th>Chicago Lawn</th>\n",
       "      <td>2</td>\n",
       "      <td>0</td>\n",
       "      <td>2</td>\n",
       "      <td>0</td>\n",
       "    </tr>\n",
       "    <tr>\n",
       "      <th>Gage Park</th>\n",
       "      <td>2</td>\n",
       "      <td>0</td>\n",
       "      <td>2</td>\n",
       "      <td>0</td>\n",
       "    </tr>\n",
       "    <tr>\n",
       "      <th>Edison Park</th>\n",
       "      <td>1</td>\n",
       "      <td>0</td>\n",
       "      <td>1</td>\n",
       "      <td>0</td>\n",
       "    </tr>\n",
       "    <tr>\n",
       "      <th>Riverdale</th>\n",
       "      <td>1</td>\n",
       "      <td>0</td>\n",
       "      <td>0</td>\n",
       "      <td>0</td>\n",
       "    </tr>\n",
       "    <tr>\n",
       "      <th>Mount Greenwood</th>\n",
       "      <td>1</td>\n",
       "      <td>0</td>\n",
       "      <td>1</td>\n",
       "      <td>0</td>\n",
       "    </tr>\n",
       "    <tr>\n",
       "      <th>Burnside</th>\n",
       "      <td>1</td>\n",
       "      <td>0</td>\n",
       "      <td>0</td>\n",
       "      <td>0</td>\n",
       "    </tr>\n",
       "  </tbody>\n",
       "</table>\n",
       "</div>"
      ],
      "text/plain": [
       "room_type               Entire home/apt  Hotel room  Private room  Shared room\n",
       "neighbourhood                                                                 \n",
       "Near North Side                     786          24           148            2\n",
       "West Town                           668          17           114            1\n",
       "Lake View                           532           0            73            5\n",
       "Near West Side                      405           1           107            0\n",
       "Logan Square                        384           0            68            0\n",
       "Loop                                371           3            42            0\n",
       "Lincoln Park                        272           0            29            4\n",
       "Near South Side                     233           0             4            0\n",
       "Lower West Side                     168           0            73            2\n",
       "Uptown                              157           3            45            0\n",
       "Edgewater                           148           0            48            0\n",
       "Avondale                            146           0            19            0\n",
       "Irving Park                         132           0            44            1\n",
       "North Center                        113           0             5            0\n",
       "Rogers Park                         108           0            49            3\n",
       "Grand Boulevard                     103           0            20            0\n",
       "Bridgeport                          101           0            72            0\n",
       "Lincoln Square                       93           0            12            0\n",
       "Woodlawn                             83           0            39            0\n",
       "Hyde Park                            76           0            25            0\n",
       "Humboldt Park                        75           0            21            1\n",
       "Portage Park                         74           0            18            0\n",
       "West Ridge                           67           0            20           12\n",
       "Douglas                              59           0            20            1\n",
       "South Shore                          59           0            46            8\n",
       "East Garfield Park                   52           0           100            0\n",
       "Albany Park                          49           0            22            0\n",
       "Jefferson Park                       45           0             9            0\n",
       "Armour Square                        41           0            31            0\n",
       "Austin                               35           0            16            0\n",
       "Washington Park                      32           0            19            1\n",
       "Kenwood                              32           0            22            0\n",
       "Greater Grand Crossing               31           0            21            2\n",
       "Norwood Park                         31           0            23            0\n",
       "South Lawndale                       28           0            14            1\n",
       "Dunning                              27           0            14            0\n",
       "North Lawndale                       26           0            19            0\n",
       "Belmont Cragin                       26           0            11            1\n",
       "Mckinley Park                        22           0            27            1\n",
       "Hermosa                              21           0             6            0\n",
       "Chatham                              20           0             6            0\n",
       "Clearing                             16           0             0            1\n",
       "South Chicago                        15           0            16            5\n",
       "Ohare                                14           0             0            0\n",
       "Brighton Park                        14           0            11            1\n",
       "Roseland                             14           0             5            0\n",
       "North Park                           13           0            10            0\n",
       "Auburn Gresham                       13           0             3            7\n",
       "Englewood                            13           0            19            3\n",
       "Morgan Park                          12           0             1            0\n",
       "Pullman                              12           0             3            0\n",
       "New City                             11           0            31            0\n",
       "Oakland                              11           0             1            0\n",
       "West Garfield Park                   10           0            13            0\n",
       "Calumet Heights                       9           0             5           18\n",
       "West Lawn                             8           0             2            0\n",
       "Ashburn                               8           0             0            0\n",
       "Garfield Ridge                        8           0             3            0\n",
       "Montclare                             8           0             4            0\n",
       "Beverly                               8           0             6            0\n",
       "Washington Heights                    7           0             0            0\n",
       "Forest Glen                           6           0             2            0\n",
       "Archer Heights                        6           0             2            0\n",
       "Hegewisch                             5           0             0            0\n",
       "East Side                             4           0             8            0\n",
       "South Deering                         3           0             1            0\n",
       "Fuller Park                           3           0             3            0\n",
       "West Elsdon                           3           0             1            0\n",
       "West Englewood                        3           0            11            3\n",
       "West Pullman                          3           0             3            0\n",
       "Avalon Park                           2           0             0            0\n",
       "Chicago Lawn                          2           0             2            0\n",
       "Gage Park                             2           0             2            0\n",
       "Edison Park                           1           0             1            0\n",
       "Riverdale                             1           0             0            0\n",
       "Mount Greenwood                       1           0             1            0\n",
       "Burnside                              1           0             0            0"
      ]
     },
     "execution_count": 48,
     "metadata": {},
     "output_type": "execute_result"
    }
   ],
   "source": [
    "# cross tabulation - frequency table of 2 non numeric variables\n",
    "pd.crosstab(chicagobnb.neighbourhood,chicagobnb.room_type).sort_values(by='Entire home/apt',ascending=False)"
   ]
  },
  {
   "cell_type": "code",
   "execution_count": 49,
   "metadata": {
    "colab": {
     "base_uri": "https://localhost:8080/",
     "height": 669
    },
    "id": "mdxaZvXFCJo5",
    "outputId": "0220daef-3873-4e75-b73c-ae02f48d69f4"
   },
   "outputs": [
    {
     "data": {
      "text/html": [
       "<div>\n",
       "<style scoped>\n",
       "    .dataframe tbody tr th:only-of-type {\n",
       "        vertical-align: middle;\n",
       "    }\n",
       "\n",
       "    .dataframe tbody tr th {\n",
       "        vertical-align: top;\n",
       "    }\n",
       "\n",
       "    .dataframe thead th {\n",
       "        text-align: right;\n",
       "    }\n",
       "</style>\n",
       "<table border=\"1\" class=\"dataframe\">\n",
       "  <thead>\n",
       "    <tr style=\"text-align: right;\">\n",
       "      <th>room_type</th>\n",
       "      <th>Entire home/apt</th>\n",
       "      <th>Hotel room</th>\n",
       "      <th>Private room</th>\n",
       "      <th>Shared room</th>\n",
       "    </tr>\n",
       "    <tr>\n",
       "      <th>neighbourhood</th>\n",
       "      <th></th>\n",
       "      <th></th>\n",
       "      <th></th>\n",
       "      <th></th>\n",
       "    </tr>\n",
       "  </thead>\n",
       "  <tbody>\n",
       "    <tr>\n",
       "      <th>Clearing</th>\n",
       "      <td>409.500000</td>\n",
       "      <td>NaN</td>\n",
       "      <td>NaN</td>\n",
       "      <td>32.000000</td>\n",
       "    </tr>\n",
       "    <tr>\n",
       "      <th>Lincoln Park</th>\n",
       "      <td>337.378676</td>\n",
       "      <td>NaN</td>\n",
       "      <td>108.000000</td>\n",
       "      <td>44.750000</td>\n",
       "    </tr>\n",
       "    <tr>\n",
       "      <th>West Town</th>\n",
       "      <td>336.702096</td>\n",
       "      <td>253.705882</td>\n",
       "      <td>101.912281</td>\n",
       "      <td>75.000000</td>\n",
       "    </tr>\n",
       "    <tr>\n",
       "      <th>Armour Square</th>\n",
       "      <td>324.560976</td>\n",
       "      <td>NaN</td>\n",
       "      <td>58.580645</td>\n",
       "      <td>NaN</td>\n",
       "    </tr>\n",
       "    <tr>\n",
       "      <th>Near North Side</th>\n",
       "      <td>289.773537</td>\n",
       "      <td>100.416667</td>\n",
       "      <td>462.317568</td>\n",
       "      <td>92.500000</td>\n",
       "    </tr>\n",
       "    <tr>\n",
       "      <th>Oakland</th>\n",
       "      <td>286.636364</td>\n",
       "      <td>NaN</td>\n",
       "      <td>50.000000</td>\n",
       "      <td>NaN</td>\n",
       "    </tr>\n",
       "    <tr>\n",
       "      <th>Loop</th>\n",
       "      <td>281.258760</td>\n",
       "      <td>278.666667</td>\n",
       "      <td>199.380952</td>\n",
       "      <td>NaN</td>\n",
       "    </tr>\n",
       "    <tr>\n",
       "      <th>Edison Park</th>\n",
       "      <td>277.000000</td>\n",
       "      <td>NaN</td>\n",
       "      <td>64.000000</td>\n",
       "      <td>NaN</td>\n",
       "    </tr>\n",
       "    <tr>\n",
       "      <th>Near West Side</th>\n",
       "      <td>270.000000</td>\n",
       "      <td>0.000000</td>\n",
       "      <td>71.121495</td>\n",
       "      <td>NaN</td>\n",
       "    </tr>\n",
       "    <tr>\n",
       "      <th>Near South Side</th>\n",
       "      <td>267.944206</td>\n",
       "      <td>NaN</td>\n",
       "      <td>95.250000</td>\n",
       "      <td>NaN</td>\n",
       "    </tr>\n",
       "    <tr>\n",
       "      <th>Lake View</th>\n",
       "      <td>254.650376</td>\n",
       "      <td>NaN</td>\n",
       "      <td>112.589041</td>\n",
       "      <td>55.600000</td>\n",
       "    </tr>\n",
       "    <tr>\n",
       "      <th>Forest Glen</th>\n",
       "      <td>246.500000</td>\n",
       "      <td>NaN</td>\n",
       "      <td>77.500000</td>\n",
       "      <td>NaN</td>\n",
       "    </tr>\n",
       "    <tr>\n",
       "      <th>Garfield Ridge</th>\n",
       "      <td>245.250000</td>\n",
       "      <td>NaN</td>\n",
       "      <td>36.666667</td>\n",
       "      <td>NaN</td>\n",
       "    </tr>\n",
       "    <tr>\n",
       "      <th>Norwood Park</th>\n",
       "      <td>241.677419</td>\n",
       "      <td>NaN</td>\n",
       "      <td>52.652174</td>\n",
       "      <td>NaN</td>\n",
       "    </tr>\n",
       "    <tr>\n",
       "      <th>Mckinley Park</th>\n",
       "      <td>238.636364</td>\n",
       "      <td>NaN</td>\n",
       "      <td>47.703704</td>\n",
       "      <td>55.000000</td>\n",
       "    </tr>\n",
       "    <tr>\n",
       "      <th>South Deering</th>\n",
       "      <td>237.333333</td>\n",
       "      <td>NaN</td>\n",
       "      <td>25.000000</td>\n",
       "      <td>NaN</td>\n",
       "    </tr>\n",
       "    <tr>\n",
       "      <th>North Lawndale</th>\n",
       "      <td>222.307692</td>\n",
       "      <td>NaN</td>\n",
       "      <td>53.105263</td>\n",
       "      <td>NaN</td>\n",
       "    </tr>\n",
       "    <tr>\n",
       "      <th>North Center</th>\n",
       "      <td>220.044248</td>\n",
       "      <td>NaN</td>\n",
       "      <td>126.000000</td>\n",
       "      <td>NaN</td>\n",
       "    </tr>\n",
       "    <tr>\n",
       "      <th>Woodlawn</th>\n",
       "      <td>216.698795</td>\n",
       "      <td>NaN</td>\n",
       "      <td>54.564103</td>\n",
       "      <td>NaN</td>\n",
       "    </tr>\n",
       "    <tr>\n",
       "      <th>Chatham</th>\n",
       "      <td>215.150000</td>\n",
       "      <td>NaN</td>\n",
       "      <td>97.666667</td>\n",
       "      <td>NaN</td>\n",
       "    </tr>\n",
       "    <tr>\n",
       "      <th>Logan Square</th>\n",
       "      <td>210.335938</td>\n",
       "      <td>NaN</td>\n",
       "      <td>70.941176</td>\n",
       "      <td>NaN</td>\n",
       "    </tr>\n",
       "    <tr>\n",
       "      <th>Grand Boulevard</th>\n",
       "      <td>200.475728</td>\n",
       "      <td>NaN</td>\n",
       "      <td>62.800000</td>\n",
       "      <td>NaN</td>\n",
       "    </tr>\n",
       "    <tr>\n",
       "      <th>North Park</th>\n",
       "      <td>200.076923</td>\n",
       "      <td>NaN</td>\n",
       "      <td>70.900000</td>\n",
       "      <td>NaN</td>\n",
       "    </tr>\n",
       "    <tr>\n",
       "      <th>Burnside</th>\n",
       "      <td>200.000000</td>\n",
       "      <td>NaN</td>\n",
       "      <td>NaN</td>\n",
       "      <td>NaN</td>\n",
       "    </tr>\n",
       "    <tr>\n",
       "      <th>South Shore</th>\n",
       "      <td>199.711864</td>\n",
       "      <td>NaN</td>\n",
       "      <td>120.369565</td>\n",
       "      <td>43.875000</td>\n",
       "    </tr>\n",
       "    <tr>\n",
       "      <th>Edgewater</th>\n",
       "      <td>197.655405</td>\n",
       "      <td>NaN</td>\n",
       "      <td>98.500000</td>\n",
       "      <td>NaN</td>\n",
       "    </tr>\n",
       "    <tr>\n",
       "      <th>Humboldt Park</th>\n",
       "      <td>195.853333</td>\n",
       "      <td>NaN</td>\n",
       "      <td>56.095238</td>\n",
       "      <td>40.000000</td>\n",
       "    </tr>\n",
       "    <tr>\n",
       "      <th>Hermosa</th>\n",
       "      <td>194.047619</td>\n",
       "      <td>NaN</td>\n",
       "      <td>68.333333</td>\n",
       "      <td>NaN</td>\n",
       "    </tr>\n",
       "    <tr>\n",
       "      <th>South Chicago</th>\n",
       "      <td>193.333333</td>\n",
       "      <td>NaN</td>\n",
       "      <td>34.187500</td>\n",
       "      <td>29.400000</td>\n",
       "    </tr>\n",
       "    <tr>\n",
       "      <th>Austin</th>\n",
       "      <td>192.771429</td>\n",
       "      <td>NaN</td>\n",
       "      <td>74.750000</td>\n",
       "      <td>NaN</td>\n",
       "    </tr>\n",
       "    <tr>\n",
       "      <th>Douglas</th>\n",
       "      <td>192.033898</td>\n",
       "      <td>NaN</td>\n",
       "      <td>79.950000</td>\n",
       "      <td>250.000000</td>\n",
       "    </tr>\n",
       "    <tr>\n",
       "      <th>Rogers Park</th>\n",
       "      <td>190.444444</td>\n",
       "      <td>NaN</td>\n",
       "      <td>98.102041</td>\n",
       "      <td>66.000000</td>\n",
       "    </tr>\n",
       "    <tr>\n",
       "      <th>Albany Park</th>\n",
       "      <td>187.142857</td>\n",
       "      <td>NaN</td>\n",
       "      <td>65.772727</td>\n",
       "      <td>NaN</td>\n",
       "    </tr>\n",
       "    <tr>\n",
       "      <th>Uptown</th>\n",
       "      <td>185.630573</td>\n",
       "      <td>484.000000</td>\n",
       "      <td>145.844444</td>\n",
       "      <td>NaN</td>\n",
       "    </tr>\n",
       "    <tr>\n",
       "      <th>Beverly</th>\n",
       "      <td>185.125000</td>\n",
       "      <td>NaN</td>\n",
       "      <td>49.500000</td>\n",
       "      <td>NaN</td>\n",
       "    </tr>\n",
       "    <tr>\n",
       "      <th>Irving Park</th>\n",
       "      <td>184.939394</td>\n",
       "      <td>NaN</td>\n",
       "      <td>65.477273</td>\n",
       "      <td>40.000000</td>\n",
       "    </tr>\n",
       "    <tr>\n",
       "      <th>East Garfield Park</th>\n",
       "      <td>183.711538</td>\n",
       "      <td>NaN</td>\n",
       "      <td>80.050000</td>\n",
       "      <td>NaN</td>\n",
       "    </tr>\n",
       "    <tr>\n",
       "      <th>Kenwood</th>\n",
       "      <td>181.625000</td>\n",
       "      <td>NaN</td>\n",
       "      <td>73.772727</td>\n",
       "      <td>NaN</td>\n",
       "    </tr>\n",
       "    <tr>\n",
       "      <th>Dunning</th>\n",
       "      <td>181.222222</td>\n",
       "      <td>NaN</td>\n",
       "      <td>68.357143</td>\n",
       "      <td>NaN</td>\n",
       "    </tr>\n",
       "    <tr>\n",
       "      <th>Greater Grand Crossing</th>\n",
       "      <td>178.193548</td>\n",
       "      <td>NaN</td>\n",
       "      <td>69.000000</td>\n",
       "      <td>101.000000</td>\n",
       "    </tr>\n",
       "    <tr>\n",
       "      <th>Washington Park</th>\n",
       "      <td>173.031250</td>\n",
       "      <td>NaN</td>\n",
       "      <td>89.052632</td>\n",
       "      <td>100.000000</td>\n",
       "    </tr>\n",
       "    <tr>\n",
       "      <th>Avondale</th>\n",
       "      <td>172.301370</td>\n",
       "      <td>NaN</td>\n",
       "      <td>65.315789</td>\n",
       "      <td>NaN</td>\n",
       "    </tr>\n",
       "    <tr>\n",
       "      <th>Belmont Cragin</th>\n",
       "      <td>171.730769</td>\n",
       "      <td>NaN</td>\n",
       "      <td>107.090909</td>\n",
       "      <td>70.000000</td>\n",
       "    </tr>\n",
       "    <tr>\n",
       "      <th>Bridgeport</th>\n",
       "      <td>171.455446</td>\n",
       "      <td>NaN</td>\n",
       "      <td>57.041667</td>\n",
       "      <td>NaN</td>\n",
       "    </tr>\n",
       "    <tr>\n",
       "      <th>Ohare</th>\n",
       "      <td>168.785714</td>\n",
       "      <td>NaN</td>\n",
       "      <td>NaN</td>\n",
       "      <td>NaN</td>\n",
       "    </tr>\n",
       "    <tr>\n",
       "      <th>Lower West Side</th>\n",
       "      <td>166.511905</td>\n",
       "      <td>NaN</td>\n",
       "      <td>60.547945</td>\n",
       "      <td>103.500000</td>\n",
       "    </tr>\n",
       "    <tr>\n",
       "      <th>Auburn Gresham</th>\n",
       "      <td>164.846154</td>\n",
       "      <td>NaN</td>\n",
       "      <td>79.000000</td>\n",
       "      <td>30.714286</td>\n",
       "    </tr>\n",
       "    <tr>\n",
       "      <th>Washington Heights</th>\n",
       "      <td>164.000000</td>\n",
       "      <td>NaN</td>\n",
       "      <td>NaN</td>\n",
       "      <td>NaN</td>\n",
       "    </tr>\n",
       "    <tr>\n",
       "      <th>West Ridge</th>\n",
       "      <td>163.686567</td>\n",
       "      <td>NaN</td>\n",
       "      <td>66.950000</td>\n",
       "      <td>44.416667</td>\n",
       "    </tr>\n",
       "    <tr>\n",
       "      <th>Calumet Heights</th>\n",
       "      <td>159.888889</td>\n",
       "      <td>NaN</td>\n",
       "      <td>58.800000</td>\n",
       "      <td>36.166667</td>\n",
       "    </tr>\n",
       "    <tr>\n",
       "      <th>West Englewood</th>\n",
       "      <td>157.000000</td>\n",
       "      <td>NaN</td>\n",
       "      <td>50.000000</td>\n",
       "      <td>34.333333</td>\n",
       "    </tr>\n",
       "    <tr>\n",
       "      <th>Portage Park</th>\n",
       "      <td>156.472973</td>\n",
       "      <td>NaN</td>\n",
       "      <td>121.111111</td>\n",
       "      <td>NaN</td>\n",
       "    </tr>\n",
       "    <tr>\n",
       "      <th>Hyde Park</th>\n",
       "      <td>154.315789</td>\n",
       "      <td>NaN</td>\n",
       "      <td>154.920000</td>\n",
       "      <td>NaN</td>\n",
       "    </tr>\n",
       "    <tr>\n",
       "      <th>Roseland</th>\n",
       "      <td>152.571429</td>\n",
       "      <td>NaN</td>\n",
       "      <td>93.000000</td>\n",
       "      <td>NaN</td>\n",
       "    </tr>\n",
       "    <tr>\n",
       "      <th>Pullman</th>\n",
       "      <td>152.000000</td>\n",
       "      <td>NaN</td>\n",
       "      <td>39.666667</td>\n",
       "      <td>NaN</td>\n",
       "    </tr>\n",
       "    <tr>\n",
       "      <th>New City</th>\n",
       "      <td>149.181818</td>\n",
       "      <td>NaN</td>\n",
       "      <td>35.838710</td>\n",
       "      <td>NaN</td>\n",
       "    </tr>\n",
       "    <tr>\n",
       "      <th>Brighton Park</th>\n",
       "      <td>148.071429</td>\n",
       "      <td>NaN</td>\n",
       "      <td>48.818182</td>\n",
       "      <td>39.000000</td>\n",
       "    </tr>\n",
       "    <tr>\n",
       "      <th>Lincoln Square</th>\n",
       "      <td>146.569892</td>\n",
       "      <td>NaN</td>\n",
       "      <td>69.416667</td>\n",
       "      <td>NaN</td>\n",
       "    </tr>\n",
       "    <tr>\n",
       "      <th>Morgan Park</th>\n",
       "      <td>145.916667</td>\n",
       "      <td>NaN</td>\n",
       "      <td>55.000000</td>\n",
       "      <td>NaN</td>\n",
       "    </tr>\n",
       "    <tr>\n",
       "      <th>Jefferson Park</th>\n",
       "      <td>145.355556</td>\n",
       "      <td>NaN</td>\n",
       "      <td>64.000000</td>\n",
       "      <td>NaN</td>\n",
       "    </tr>\n",
       "    <tr>\n",
       "      <th>West Pullman</th>\n",
       "      <td>142.333333</td>\n",
       "      <td>NaN</td>\n",
       "      <td>80.333333</td>\n",
       "      <td>NaN</td>\n",
       "    </tr>\n",
       "    <tr>\n",
       "      <th>East Side</th>\n",
       "      <td>141.500000</td>\n",
       "      <td>NaN</td>\n",
       "      <td>37.500000</td>\n",
       "      <td>NaN</td>\n",
       "    </tr>\n",
       "    <tr>\n",
       "      <th>Hegewisch</th>\n",
       "      <td>136.800000</td>\n",
       "      <td>NaN</td>\n",
       "      <td>NaN</td>\n",
       "      <td>NaN</td>\n",
       "    </tr>\n",
       "    <tr>\n",
       "      <th>Englewood</th>\n",
       "      <td>132.307692</td>\n",
       "      <td>NaN</td>\n",
       "      <td>59.631579</td>\n",
       "      <td>43.000000</td>\n",
       "    </tr>\n",
       "    <tr>\n",
       "      <th>West Garfield Park</th>\n",
       "      <td>130.800000</td>\n",
       "      <td>NaN</td>\n",
       "      <td>47.384615</td>\n",
       "      <td>NaN</td>\n",
       "    </tr>\n",
       "    <tr>\n",
       "      <th>Ashburn</th>\n",
       "      <td>125.875000</td>\n",
       "      <td>NaN</td>\n",
       "      <td>NaN</td>\n",
       "      <td>NaN</td>\n",
       "    </tr>\n",
       "    <tr>\n",
       "      <th>Montclare</th>\n",
       "      <td>122.000000</td>\n",
       "      <td>NaN</td>\n",
       "      <td>90.250000</td>\n",
       "      <td>NaN</td>\n",
       "    </tr>\n",
       "    <tr>\n",
       "      <th>Fuller Park</th>\n",
       "      <td>121.333333</td>\n",
       "      <td>NaN</td>\n",
       "      <td>34.333333</td>\n",
       "      <td>NaN</td>\n",
       "    </tr>\n",
       "    <tr>\n",
       "      <th>Chicago Lawn</th>\n",
       "      <td>120.000000</td>\n",
       "      <td>NaN</td>\n",
       "      <td>29.500000</td>\n",
       "      <td>NaN</td>\n",
       "    </tr>\n",
       "    <tr>\n",
       "      <th>South Lawndale</th>\n",
       "      <td>117.892857</td>\n",
       "      <td>NaN</td>\n",
       "      <td>60.428571</td>\n",
       "      <td>25.000000</td>\n",
       "    </tr>\n",
       "    <tr>\n",
       "      <th>West Lawn</th>\n",
       "      <td>108.000000</td>\n",
       "      <td>NaN</td>\n",
       "      <td>39.000000</td>\n",
       "      <td>NaN</td>\n",
       "    </tr>\n",
       "    <tr>\n",
       "      <th>West Elsdon</th>\n",
       "      <td>92.666667</td>\n",
       "      <td>NaN</td>\n",
       "      <td>105.000000</td>\n",
       "      <td>NaN</td>\n",
       "    </tr>\n",
       "    <tr>\n",
       "      <th>Gage Park</th>\n",
       "      <td>89.500000</td>\n",
       "      <td>NaN</td>\n",
       "      <td>80.500000</td>\n",
       "      <td>NaN</td>\n",
       "    </tr>\n",
       "    <tr>\n",
       "      <th>Mount Greenwood</th>\n",
       "      <td>89.000000</td>\n",
       "      <td>NaN</td>\n",
       "      <td>35.000000</td>\n",
       "      <td>NaN</td>\n",
       "    </tr>\n",
       "    <tr>\n",
       "      <th>Archer Heights</th>\n",
       "      <td>88.666667</td>\n",
       "      <td>NaN</td>\n",
       "      <td>95.500000</td>\n",
       "      <td>NaN</td>\n",
       "    </tr>\n",
       "    <tr>\n",
       "      <th>Avalon Park</th>\n",
       "      <td>84.500000</td>\n",
       "      <td>NaN</td>\n",
       "      <td>NaN</td>\n",
       "      <td>NaN</td>\n",
       "    </tr>\n",
       "    <tr>\n",
       "      <th>Riverdale</th>\n",
       "      <td>66.000000</td>\n",
       "      <td>NaN</td>\n",
       "      <td>NaN</td>\n",
       "      <td>NaN</td>\n",
       "    </tr>\n",
       "  </tbody>\n",
       "</table>\n",
       "</div>"
      ],
      "text/plain": [
       "room_type               Entire home/apt  Hotel room  Private room  Shared room\n",
       "neighbourhood                                                                 \n",
       "Clearing                     409.500000         NaN           NaN    32.000000\n",
       "Lincoln Park                 337.378676         NaN    108.000000    44.750000\n",
       "West Town                    336.702096  253.705882    101.912281    75.000000\n",
       "Armour Square                324.560976         NaN     58.580645          NaN\n",
       "Near North Side              289.773537  100.416667    462.317568    92.500000\n",
       "Oakland                      286.636364         NaN     50.000000          NaN\n",
       "Loop                         281.258760  278.666667    199.380952          NaN\n",
       "Edison Park                  277.000000         NaN     64.000000          NaN\n",
       "Near West Side               270.000000    0.000000     71.121495          NaN\n",
       "Near South Side              267.944206         NaN     95.250000          NaN\n",
       "Lake View                    254.650376         NaN    112.589041    55.600000\n",
       "Forest Glen                  246.500000         NaN     77.500000          NaN\n",
       "Garfield Ridge               245.250000         NaN     36.666667          NaN\n",
       "Norwood Park                 241.677419         NaN     52.652174          NaN\n",
       "Mckinley Park                238.636364         NaN     47.703704    55.000000\n",
       "South Deering                237.333333         NaN     25.000000          NaN\n",
       "North Lawndale               222.307692         NaN     53.105263          NaN\n",
       "North Center                 220.044248         NaN    126.000000          NaN\n",
       "Woodlawn                     216.698795         NaN     54.564103          NaN\n",
       "Chatham                      215.150000         NaN     97.666667          NaN\n",
       "Logan Square                 210.335938         NaN     70.941176          NaN\n",
       "Grand Boulevard              200.475728         NaN     62.800000          NaN\n",
       "North Park                   200.076923         NaN     70.900000          NaN\n",
       "Burnside                     200.000000         NaN           NaN          NaN\n",
       "South Shore                  199.711864         NaN    120.369565    43.875000\n",
       "Edgewater                    197.655405         NaN     98.500000          NaN\n",
       "Humboldt Park                195.853333         NaN     56.095238    40.000000\n",
       "Hermosa                      194.047619         NaN     68.333333          NaN\n",
       "South Chicago                193.333333         NaN     34.187500    29.400000\n",
       "Austin                       192.771429         NaN     74.750000          NaN\n",
       "Douglas                      192.033898         NaN     79.950000   250.000000\n",
       "Rogers Park                  190.444444         NaN     98.102041    66.000000\n",
       "Albany Park                  187.142857         NaN     65.772727          NaN\n",
       "Uptown                       185.630573  484.000000    145.844444          NaN\n",
       "Beverly                      185.125000         NaN     49.500000          NaN\n",
       "Irving Park                  184.939394         NaN     65.477273    40.000000\n",
       "East Garfield Park           183.711538         NaN     80.050000          NaN\n",
       "Kenwood                      181.625000         NaN     73.772727          NaN\n",
       "Dunning                      181.222222         NaN     68.357143          NaN\n",
       "Greater Grand Crossing       178.193548         NaN     69.000000   101.000000\n",
       "Washington Park              173.031250         NaN     89.052632   100.000000\n",
       "Avondale                     172.301370         NaN     65.315789          NaN\n",
       "Belmont Cragin               171.730769         NaN    107.090909    70.000000\n",
       "Bridgeport                   171.455446         NaN     57.041667          NaN\n",
       "Ohare                        168.785714         NaN           NaN          NaN\n",
       "Lower West Side              166.511905         NaN     60.547945   103.500000\n",
       "Auburn Gresham               164.846154         NaN     79.000000    30.714286\n",
       "Washington Heights           164.000000         NaN           NaN          NaN\n",
       "West Ridge                   163.686567         NaN     66.950000    44.416667\n",
       "Calumet Heights              159.888889         NaN     58.800000    36.166667\n",
       "West Englewood               157.000000         NaN     50.000000    34.333333\n",
       "Portage Park                 156.472973         NaN    121.111111          NaN\n",
       "Hyde Park                    154.315789         NaN    154.920000          NaN\n",
       "Roseland                     152.571429         NaN     93.000000          NaN\n",
       "Pullman                      152.000000         NaN     39.666667          NaN\n",
       "New City                     149.181818         NaN     35.838710          NaN\n",
       "Brighton Park                148.071429         NaN     48.818182    39.000000\n",
       "Lincoln Square               146.569892         NaN     69.416667          NaN\n",
       "Morgan Park                  145.916667         NaN     55.000000          NaN\n",
       "Jefferson Park               145.355556         NaN     64.000000          NaN\n",
       "West Pullman                 142.333333         NaN     80.333333          NaN\n",
       "East Side                    141.500000         NaN     37.500000          NaN\n",
       "Hegewisch                    136.800000         NaN           NaN          NaN\n",
       "Englewood                    132.307692         NaN     59.631579    43.000000\n",
       "West Garfield Park           130.800000         NaN     47.384615          NaN\n",
       "Ashburn                      125.875000         NaN           NaN          NaN\n",
       "Montclare                    122.000000         NaN     90.250000          NaN\n",
       "Fuller Park                  121.333333         NaN     34.333333          NaN\n",
       "Chicago Lawn                 120.000000         NaN     29.500000          NaN\n",
       "South Lawndale               117.892857         NaN     60.428571    25.000000\n",
       "West Lawn                    108.000000         NaN     39.000000          NaN\n",
       "West Elsdon                   92.666667         NaN    105.000000          NaN\n",
       "Gage Park                     89.500000         NaN     80.500000          NaN\n",
       "Mount Greenwood               89.000000         NaN     35.000000          NaN\n",
       "Archer Heights                88.666667         NaN     95.500000          NaN\n",
       "Avalon Park                   84.500000         NaN           NaN          NaN\n",
       "Riverdale                     66.000000         NaN           NaN          NaN"
      ]
     },
     "execution_count": 49,
     "metadata": {},
     "output_type": "execute_result"
    }
   ],
   "source": [
    "pd.pivot_table(columns='room_type',values='price',index='neighbourhood',data=chicagobnb).sort_values(by='Entire home/apt',ascending=False)"
   ]
  },
  {
   "cell_type": "markdown",
   "metadata": {},
   "source": [
    "# Hypothesis Testing\n",
    "## Test Null Average Price of different room types"
   ]
  },
  {
   "cell_type": "code",
   "execution_count": 50,
   "metadata": {},
   "outputs": [
    {
     "data": {
      "text/plain": [
       "room_type\n",
       "Entire home/apt    243.407999\n",
       "Hotel room         187.729167\n",
       "Private room       115.835600\n",
       "Shared room         48.857143\n",
       "Name: price, dtype: float64"
      ]
     },
     "execution_count": 50,
     "metadata": {},
     "output_type": "execute_result"
    }
   ],
   "source": [
    "chicagobnb.price.groupby(chicagobnb.room_type).mean()"
   ]
  },
  {
   "cell_type": "code",
   "execution_count": 51,
   "metadata": {},
   "outputs": [],
   "source": [
    "#Null:There is no significante difference between average price for different rooms\n",
    "#Alternate:There is a significante difference between average price for different rooms"
   ]
  },
  {
   "cell_type": "code",
   "execution_count": 52,
   "metadata": {},
   "outputs": [],
   "source": [
    "entire_home_apt=chicagobnb[chicagobnb.room_type=='Entire home/apt']\n",
    "hotel=chicagobnb[chicagobnb.room_type==\"Hotel room\"]\n",
    "private=chicagobnb[chicagobnb.room_type==\"Private room\"]\n",
    "shared=chicagobnb[chicagobnb.room_type==\"Shared room\"]"
   ]
  },
  {
   "cell_type": "code",
   "execution_count": 53,
   "metadata": {},
   "outputs": [],
   "source": [
    "from scipy.stats import f_oneway"
   ]
  },
  {
   "cell_type": "code",
   "execution_count": 54,
   "metadata": {},
   "outputs": [
    {
     "data": {
      "text/plain": [
       "F_onewayResult(statistic=97.83901785242429, pvalue=3.401455772108254e-62)"
      ]
     },
     "execution_count": 54,
     "metadata": {},
     "output_type": "execute_result"
    }
   ],
   "source": [
    "f_oneway(entire_home_apt.price,hotel.price,private.price,shared.price)\n",
    "# since pvalue=2.5550788965214003e-32 is lessthan 0.05, we reject null hypothesis\n",
    "# we may conclude that there is a significante difference between average price for different rooms"
   ]
  },
  {
   "cell_type": "markdown",
   "metadata": {},
   "source": [
    "## Test Null no association between room_type and neighbourhood"
   ]
  },
  {
   "cell_type": "code",
   "execution_count": 55,
   "metadata": {},
   "outputs": [
    {
     "data": {
      "text/html": [
       "<div>\n",
       "<style scoped>\n",
       "    .dataframe tbody tr th:only-of-type {\n",
       "        vertical-align: middle;\n",
       "    }\n",
       "\n",
       "    .dataframe tbody tr th {\n",
       "        vertical-align: top;\n",
       "    }\n",
       "\n",
       "    .dataframe thead th {\n",
       "        text-align: right;\n",
       "    }\n",
       "</style>\n",
       "<table border=\"1\" class=\"dataframe\">\n",
       "  <thead>\n",
       "    <tr style=\"text-align: right;\">\n",
       "      <th>neighbourhood</th>\n",
       "      <th>Albany Park</th>\n",
       "      <th>Archer Heights</th>\n",
       "      <th>Armour Square</th>\n",
       "      <th>Ashburn</th>\n",
       "      <th>Auburn Gresham</th>\n",
       "      <th>Austin</th>\n",
       "      <th>Avalon Park</th>\n",
       "      <th>Avondale</th>\n",
       "      <th>Belmont Cragin</th>\n",
       "      <th>Beverly</th>\n",
       "      <th>...</th>\n",
       "      <th>Washington Heights</th>\n",
       "      <th>Washington Park</th>\n",
       "      <th>West Elsdon</th>\n",
       "      <th>West Englewood</th>\n",
       "      <th>West Garfield Park</th>\n",
       "      <th>West Lawn</th>\n",
       "      <th>West Pullman</th>\n",
       "      <th>West Ridge</th>\n",
       "      <th>West Town</th>\n",
       "      <th>Woodlawn</th>\n",
       "    </tr>\n",
       "    <tr>\n",
       "      <th>room_type</th>\n",
       "      <th></th>\n",
       "      <th></th>\n",
       "      <th></th>\n",
       "      <th></th>\n",
       "      <th></th>\n",
       "      <th></th>\n",
       "      <th></th>\n",
       "      <th></th>\n",
       "      <th></th>\n",
       "      <th></th>\n",
       "      <th></th>\n",
       "      <th></th>\n",
       "      <th></th>\n",
       "      <th></th>\n",
       "      <th></th>\n",
       "      <th></th>\n",
       "      <th></th>\n",
       "      <th></th>\n",
       "      <th></th>\n",
       "      <th></th>\n",
       "      <th></th>\n",
       "    </tr>\n",
       "  </thead>\n",
       "  <tbody>\n",
       "    <tr>\n",
       "      <th>Entire home/apt</th>\n",
       "      <td>49</td>\n",
       "      <td>6</td>\n",
       "      <td>41</td>\n",
       "      <td>8</td>\n",
       "      <td>13</td>\n",
       "      <td>35</td>\n",
       "      <td>2</td>\n",
       "      <td>146</td>\n",
       "      <td>26</td>\n",
       "      <td>8</td>\n",
       "      <td>...</td>\n",
       "      <td>7</td>\n",
       "      <td>32</td>\n",
       "      <td>3</td>\n",
       "      <td>3</td>\n",
       "      <td>10</td>\n",
       "      <td>8</td>\n",
       "      <td>3</td>\n",
       "      <td>67</td>\n",
       "      <td>668</td>\n",
       "      <td>83</td>\n",
       "    </tr>\n",
       "    <tr>\n",
       "      <th>Hotel room</th>\n",
       "      <td>0</td>\n",
       "      <td>0</td>\n",
       "      <td>0</td>\n",
       "      <td>0</td>\n",
       "      <td>0</td>\n",
       "      <td>0</td>\n",
       "      <td>0</td>\n",
       "      <td>0</td>\n",
       "      <td>0</td>\n",
       "      <td>0</td>\n",
       "      <td>...</td>\n",
       "      <td>0</td>\n",
       "      <td>0</td>\n",
       "      <td>0</td>\n",
       "      <td>0</td>\n",
       "      <td>0</td>\n",
       "      <td>0</td>\n",
       "      <td>0</td>\n",
       "      <td>0</td>\n",
       "      <td>17</td>\n",
       "      <td>0</td>\n",
       "    </tr>\n",
       "    <tr>\n",
       "      <th>Private room</th>\n",
       "      <td>22</td>\n",
       "      <td>2</td>\n",
       "      <td>31</td>\n",
       "      <td>0</td>\n",
       "      <td>3</td>\n",
       "      <td>16</td>\n",
       "      <td>0</td>\n",
       "      <td>19</td>\n",
       "      <td>11</td>\n",
       "      <td>6</td>\n",
       "      <td>...</td>\n",
       "      <td>0</td>\n",
       "      <td>19</td>\n",
       "      <td>1</td>\n",
       "      <td>11</td>\n",
       "      <td>13</td>\n",
       "      <td>2</td>\n",
       "      <td>3</td>\n",
       "      <td>20</td>\n",
       "      <td>114</td>\n",
       "      <td>39</td>\n",
       "    </tr>\n",
       "    <tr>\n",
       "      <th>Shared room</th>\n",
       "      <td>0</td>\n",
       "      <td>0</td>\n",
       "      <td>0</td>\n",
       "      <td>0</td>\n",
       "      <td>7</td>\n",
       "      <td>0</td>\n",
       "      <td>0</td>\n",
       "      <td>0</td>\n",
       "      <td>1</td>\n",
       "      <td>0</td>\n",
       "      <td>...</td>\n",
       "      <td>0</td>\n",
       "      <td>1</td>\n",
       "      <td>0</td>\n",
       "      <td>3</td>\n",
       "      <td>0</td>\n",
       "      <td>0</td>\n",
       "      <td>0</td>\n",
       "      <td>12</td>\n",
       "      <td>1</td>\n",
       "      <td>0</td>\n",
       "    </tr>\n",
       "  </tbody>\n",
       "</table>\n",
       "<p>4 rows × 77 columns</p>\n",
       "</div>"
      ],
      "text/plain": [
       "neighbourhood    Albany Park  Archer Heights  Armour Square  Ashburn  \\\n",
       "room_type                                                              \n",
       "Entire home/apt           49               6             41        8   \n",
       "Hotel room                 0               0              0        0   \n",
       "Private room              22               2             31        0   \n",
       "Shared room                0               0              0        0   \n",
       "\n",
       "neighbourhood    Auburn Gresham  Austin  Avalon Park  Avondale  \\\n",
       "room_type                                                        \n",
       "Entire home/apt              13      35            2       146   \n",
       "Hotel room                    0       0            0         0   \n",
       "Private room                  3      16            0        19   \n",
       "Shared room                   7       0            0         0   \n",
       "\n",
       "neighbourhood    Belmont Cragin  Beverly  ...  Washington Heights  \\\n",
       "room_type                                 ...                       \n",
       "Entire home/apt              26        8  ...                   7   \n",
       "Hotel room                    0        0  ...                   0   \n",
       "Private room                 11        6  ...                   0   \n",
       "Shared room                   1        0  ...                   0   \n",
       "\n",
       "neighbourhood    Washington Park  West Elsdon  West Englewood  \\\n",
       "room_type                                                       \n",
       "Entire home/apt               32            3               3   \n",
       "Hotel room                     0            0               0   \n",
       "Private room                  19            1              11   \n",
       "Shared room                    1            0               3   \n",
       "\n",
       "neighbourhood    West Garfield Park  West Lawn  West Pullman  West Ridge  \\\n",
       "room_type                                                                  \n",
       "Entire home/apt                  10          8             3          67   \n",
       "Hotel room                        0          0             0           0   \n",
       "Private room                     13          2             3          20   \n",
       "Shared room                       0          0             0          12   \n",
       "\n",
       "neighbourhood    West Town  Woodlawn  \n",
       "room_type                             \n",
       "Entire home/apt        668        83  \n",
       "Hotel room              17         0  \n",
       "Private room           114        39  \n",
       "Shared room              1         0  \n",
       "\n",
       "[4 rows x 77 columns]"
      ]
     },
     "execution_count": 55,
     "metadata": {},
     "output_type": "execute_result"
    }
   ],
   "source": [
    "pd.crosstab(chicagobnb.room_type,chicagobnb.neighbourhood)"
   ]
  },
  {
   "cell_type": "code",
   "execution_count": 56,
   "metadata": {},
   "outputs": [],
   "source": [
    "from scipy.stats import chi2_contingency"
   ]
  },
  {
   "cell_type": "code",
   "execution_count": 57,
   "metadata": {},
   "outputs": [
    {
     "data": {
      "text/plain": [
       "Chi2ContingencyResult(statistic=2464.2409676116267, pvalue=0.0, dof=228, expected_freq=array([[5.48692672e+01, 6.18245264e+00, 5.56420738e+01, 6.18245264e+00,\n",
       "        1.77745513e+01, 3.94131356e+01, 1.54561316e+00, 1.27513086e+02,\n",
       "        2.93666500e+01, 1.08192921e+01, 1.33695538e+02, 2.00929711e+01,\n",
       "        7.72806580e-01, 2.47298106e+01, 2.00929711e+01, 3.09122632e+00,\n",
       "        1.31377119e+01, 6.18245264e+01, 3.16850698e+01, 1.17466600e+02,\n",
       "        9.27367896e+00, 1.51470090e+02, 1.54561316e+00, 2.70482303e+01,\n",
       "        6.18245264e+00, 4.63683948e+00, 3.09122632e+00, 8.50087238e+00,\n",
       "        9.50552094e+01, 4.17315553e+01, 3.86403290e+00, 2.08657777e+01,\n",
       "        7.49622383e+01, 7.80534646e+01, 1.36786765e+02, 4.17315553e+01,\n",
       "        4.17315553e+01, 4.71412014e+02, 2.35706007e+02, 8.11446909e+01,\n",
       "        3.49308574e+02, 3.21487537e+02, 1.87791999e+02, 3.86403290e+01,\n",
       "        9.27367896e+00, 1.00464855e+01, 1.54561316e+00, 7.41894317e+02,\n",
       "        1.83155160e+02, 3.96449776e+02, 3.24578764e+01, 9.11911765e+01,\n",
       "        3.47762961e+01, 1.77745513e+01, 4.17315553e+01, 9.27367896e+00,\n",
       "        1.08192921e+01, 7.10982054e+01, 1.15920987e+01, 7.72806580e-01,\n",
       "        1.23649053e+02, 1.46833250e+01, 2.78210369e+01, 3.09122632e+00,\n",
       "        3.32306830e+01, 8.73271436e+01, 1.58425349e+02, 5.40964606e+00,\n",
       "        4.01859422e+01, 3.09122632e+00, 1.31377119e+01, 1.77745513e+01,\n",
       "        7.72806580e+00, 4.63683948e+00, 7.65078514e+01, 6.18245264e+02,\n",
       "        9.42824028e+01],\n",
       "       [4.24725823e-01, 4.78564307e-02, 4.30707876e-01, 4.78564307e-02,\n",
       "        1.37587238e-01, 3.05084746e-01, 1.19641077e-02, 9.87038883e-01,\n",
       "        2.27318046e-01, 8.37487537e-02, 1.03489531e+00, 1.55533400e-01,\n",
       "        5.98205384e-03, 1.91425723e-01, 1.55533400e-01, 2.39282154e-02,\n",
       "        1.01694915e-01, 4.78564307e-01, 2.45264207e-01, 9.09272183e-01,\n",
       "        7.17846461e-02, 1.17248255e+00, 1.19641077e-02, 2.09371884e-01,\n",
       "        4.78564307e-02, 3.58923230e-02, 2.39282154e-02, 6.58025922e-02,\n",
       "        7.35792622e-01, 3.23030907e-01, 2.99102692e-02, 1.61515454e-01,\n",
       "        5.80259222e-01, 6.04187438e-01, 1.05882353e+00, 3.23030907e-01,\n",
       "        3.23030907e-01, 3.64905284e+00, 1.82452642e+00, 6.28115653e-01,\n",
       "        2.70388833e+00, 2.48853440e+00, 1.45363908e+00, 2.99102692e-01,\n",
       "        7.17846461e-02, 7.77666999e-02, 1.19641077e-02, 5.74277168e+00,\n",
       "        1.41774676e+00, 3.06879362e+00, 2.51246261e-01, 7.05882353e-01,\n",
       "        2.69192423e-01, 1.37587238e-01, 3.23030907e-01, 7.17846461e-02,\n",
       "        8.37487537e-02, 5.50348953e-01, 8.97308076e-02, 5.98205384e-03,\n",
       "        9.57128614e-01, 1.13659023e-01, 2.15353938e-01, 2.39282154e-02,\n",
       "        2.57228315e-01, 6.75972084e-01, 1.22632104e+00, 4.18743769e-02,\n",
       "        3.11066800e-01, 2.39282154e-02, 1.01694915e-01, 1.37587238e-01,\n",
       "        5.98205384e-02, 3.58923230e-02, 5.92223330e-01, 4.78564307e+00,\n",
       "        7.29810568e-01],\n",
       "       [1.49627368e+01, 1.68594217e+00, 1.51734796e+01, 1.68594217e+00,\n",
       "        4.84708375e+00, 1.07478814e+01, 4.21485543e-01, 3.47725573e+01,\n",
       "        8.00822532e+00, 2.95039880e+00, 3.64584995e+01, 5.47931206e+00,\n",
       "        2.10742772e-01, 6.74376869e+00, 5.47931206e+00, 8.42971087e-01,\n",
       "        3.58262712e+00, 1.68594217e+01, 8.64045364e+00, 3.20329013e+01,\n",
       "        2.52891326e+00, 4.13055833e+01, 4.21485543e-01, 7.37599701e+00,\n",
       "        1.68594217e+00, 1.26445663e+00, 8.42971087e-01, 2.31817049e+00,\n",
       "        2.59213609e+01, 1.13801097e+01, 1.05371386e+00, 5.69005484e+00,\n",
       "        2.04420489e+01, 2.12850199e+01, 3.73014706e+01, 1.13801097e+01,\n",
       "        1.13801097e+01, 1.28553091e+02, 6.42765454e+01, 2.21279910e+01,\n",
       "        9.52557328e+01, 8.76689930e+01, 5.12104935e+01, 1.05371386e+01,\n",
       "        2.52891326e+00, 2.73965603e+00, 4.21485543e-01, 2.02313061e+02,\n",
       "        4.99460369e+01, 1.08111042e+02, 8.85119641e+00, 2.48676471e+01,\n",
       "        9.48342473e+00, 4.84708375e+00, 1.13801097e+01, 2.52891326e+00,\n",
       "        2.95039880e+00, 1.93883350e+01, 3.16114158e+00, 2.10742772e-01,\n",
       "        3.37188435e+01, 4.00411266e+00, 7.58673978e+00, 8.42971087e-01,\n",
       "        9.06193918e+00, 2.38139332e+01, 4.32022682e+01, 1.47519940e+00,\n",
       "        1.09586241e+01, 8.42971087e-01, 3.58262712e+00, 4.84708375e+00,\n",
       "        2.10742772e+00, 1.26445663e+00, 2.08635344e+01, 1.68594217e+02,\n",
       "        2.57106181e+01],\n",
       "       [7.43270189e-01, 8.37487537e-02, 7.53738784e-01, 8.37487537e-02,\n",
       "        2.40777667e-01, 5.33898305e-01, 2.09371884e-02, 1.72731805e+00,\n",
       "        3.97806580e-01, 1.46560319e-01, 1.81106680e+00, 2.72183450e-01,\n",
       "        1.04685942e-02, 3.34995015e-01, 2.72183450e-01, 4.18743769e-02,\n",
       "        1.77966102e-01, 8.37487537e-01, 4.29212363e-01, 1.59122632e+00,\n",
       "        1.25623131e-01, 2.05184447e+00, 2.09371884e-02, 3.66400798e-01,\n",
       "        8.37487537e-02, 6.28115653e-02, 4.18743769e-02, 1.15154536e-01,\n",
       "        1.28763709e+00, 5.65304088e-01, 5.23429711e-02, 2.82652044e-01,\n",
       "        1.01545364e+00, 1.05732802e+00, 1.85294118e+00, 5.65304088e-01,\n",
       "        5.65304088e-01, 6.38584247e+00, 3.19292124e+00, 1.09920239e+00,\n",
       "        4.73180459e+00, 4.35493519e+00, 2.54386839e+00, 5.23429711e-01,\n",
       "        1.25623131e-01, 1.36091725e-01, 2.09371884e-02, 1.00498504e+01,\n",
       "        2.48105683e+00, 5.37038883e+00, 4.39680957e-01, 1.23529412e+00,\n",
       "        4.71086740e-01, 2.40777667e-01, 5.65304088e-01, 1.25623131e-01,\n",
       "        1.46560319e-01, 9.63110668e-01, 1.57028913e-01, 1.04685942e-02,\n",
       "        1.67497507e+00, 1.98903290e-01, 3.76869392e-01, 4.18743769e-02,\n",
       "        4.50149551e-01, 1.18295115e+00, 2.14606181e+00, 7.32801595e-02,\n",
       "        5.44366899e-01, 4.18743769e-02, 1.77966102e-01, 2.40777667e-01,\n",
       "        1.04685942e-01, 6.28115653e-02, 1.03639083e+00, 8.37487537e+00,\n",
       "        1.27716849e+00]]))"
      ]
     },
     "execution_count": 57,
     "metadata": {},
     "output_type": "execute_result"
    }
   ],
   "source": [
    "chi2_contingency(pd.crosstab(chicagobnb.room_type,chicagobnb.neighbourhood))\n",
    "# since pvalue=\n",
    "# we may conclude that there is no association difference between room_type and neighbourhood"
   ]
  },
  {
   "cell_type": "markdown",
   "metadata": {},
   "source": [
    "# Splitting the data into nimcols and objcols from the data"
   ]
  },
  {
   "cell_type": "code",
   "execution_count": 58,
   "metadata": {},
   "outputs": [],
   "source": [
    "numcols=chicagobnb.select_dtypes(include=np.number)\n",
    "objcols=chicagobnb.select_dtypes(include=[\"object\"])"
   ]
  },
  {
   "cell_type": "code",
   "execution_count": 59,
   "metadata": {},
   "outputs": [
    {
     "data": {
      "text/html": [
       "<div>\n",
       "<style scoped>\n",
       "    .dataframe tbody tr th:only-of-type {\n",
       "        vertical-align: middle;\n",
       "    }\n",
       "\n",
       "    .dataframe tbody tr th {\n",
       "        vertical-align: top;\n",
       "    }\n",
       "\n",
       "    .dataframe thead th {\n",
       "        text-align: right;\n",
       "    }\n",
       "</style>\n",
       "<table border=\"1\" class=\"dataframe\">\n",
       "  <thead>\n",
       "    <tr style=\"text-align: right;\">\n",
       "      <th></th>\n",
       "      <th>id</th>\n",
       "      <th>host_id</th>\n",
       "      <th>latitude</th>\n",
       "      <th>longitude</th>\n",
       "      <th>price</th>\n",
       "      <th>minimum_nights</th>\n",
       "      <th>number_of_reviews</th>\n",
       "      <th>reviews_per_month</th>\n",
       "      <th>calculated_host_listings_count</th>\n",
       "      <th>availability_365</th>\n",
       "      <th>number_of_reviews_ltm</th>\n",
       "    </tr>\n",
       "  </thead>\n",
       "  <tbody>\n",
       "    <tr>\n",
       "      <th>0</th>\n",
       "      <td>2384</td>\n",
       "      <td>2613</td>\n",
       "      <td>41.78790</td>\n",
       "      <td>-87.58780</td>\n",
       "      <td>129</td>\n",
       "      <td>3</td>\n",
       "      <td>220</td>\n",
       "      <td>2.14</td>\n",
       "      <td>1</td>\n",
       "      <td>350</td>\n",
       "      <td>19</td>\n",
       "    </tr>\n",
       "    <tr>\n",
       "      <th>1</th>\n",
       "      <td>7126</td>\n",
       "      <td>17928</td>\n",
       "      <td>41.90166</td>\n",
       "      <td>-87.68021</td>\n",
       "      <td>94</td>\n",
       "      <td>32</td>\n",
       "      <td>493</td>\n",
       "      <td>2.90</td>\n",
       "      <td>1</td>\n",
       "      <td>295</td>\n",
       "      <td>44</td>\n",
       "    </tr>\n",
       "    <tr>\n",
       "      <th>2</th>\n",
       "      <td>2907500</td>\n",
       "      <td>11231030</td>\n",
       "      <td>41.78225</td>\n",
       "      <td>-87.72806</td>\n",
       "      <td>39</td>\n",
       "      <td>1</td>\n",
       "      <td>335</td>\n",
       "      <td>3.11</td>\n",
       "      <td>2</td>\n",
       "      <td>196</td>\n",
       "      <td>6</td>\n",
       "    </tr>\n",
       "    <tr>\n",
       "      <th>3</th>\n",
       "      <td>755701</td>\n",
       "      <td>3920450</td>\n",
       "      <td>41.93115</td>\n",
       "      <td>-87.71836</td>\n",
       "      <td>100</td>\n",
       "      <td>32</td>\n",
       "      <td>27</td>\n",
       "      <td>0.22</td>\n",
       "      <td>4</td>\n",
       "      <td>198</td>\n",
       "      <td>3</td>\n",
       "    </tr>\n",
       "    <tr>\n",
       "      <th>4</th>\n",
       "      <td>10945</td>\n",
       "      <td>33004</td>\n",
       "      <td>41.91196</td>\n",
       "      <td>-87.63981</td>\n",
       "      <td>219</td>\n",
       "      <td>4</td>\n",
       "      <td>66</td>\n",
       "      <td>0.59</td>\n",
       "      <td>7</td>\n",
       "      <td>94</td>\n",
       "      <td>19</td>\n",
       "    </tr>\n",
       "  </tbody>\n",
       "</table>\n",
       "</div>"
      ],
      "text/plain": [
       "        id   host_id  latitude  longitude  price  minimum_nights  \\\n",
       "0     2384      2613  41.78790  -87.58780    129               3   \n",
       "1     7126     17928  41.90166  -87.68021     94              32   \n",
       "2  2907500  11231030  41.78225  -87.72806     39               1   \n",
       "3   755701   3920450  41.93115  -87.71836    100              32   \n",
       "4    10945     33004  41.91196  -87.63981    219               4   \n",
       "\n",
       "   number_of_reviews  reviews_per_month  calculated_host_listings_count  \\\n",
       "0                220               2.14                               1   \n",
       "1                493               2.90                               1   \n",
       "2                335               3.11                               2   \n",
       "3                 27               0.22                               4   \n",
       "4                 66               0.59                               7   \n",
       "\n",
       "   availability_365  number_of_reviews_ltm  \n",
       "0               350                     19  \n",
       "1               295                     44  \n",
       "2               196                      6  \n",
       "3               198                      3  \n",
       "4                94                     19  "
      ]
     },
     "execution_count": 59,
     "metadata": {},
     "output_type": "execute_result"
    }
   ],
   "source": [
    "numcols.head()"
   ]
  },
  {
   "cell_type": "code",
   "execution_count": 60,
   "metadata": {},
   "outputs": [
    {
     "data": {
      "text/html": [
       "<div>\n",
       "<style scoped>\n",
       "    .dataframe tbody tr th:only-of-type {\n",
       "        vertical-align: middle;\n",
       "    }\n",
       "\n",
       "    .dataframe tbody tr th {\n",
       "        vertical-align: top;\n",
       "    }\n",
       "\n",
       "    .dataframe thead th {\n",
       "        text-align: right;\n",
       "    }\n",
       "</style>\n",
       "<table border=\"1\" class=\"dataframe\">\n",
       "  <thead>\n",
       "    <tr style=\"text-align: right;\">\n",
       "      <th></th>\n",
       "      <th>name</th>\n",
       "      <th>host_name</th>\n",
       "      <th>neighbourhood</th>\n",
       "      <th>room_type</th>\n",
       "      <th>license</th>\n",
       "    </tr>\n",
       "  </thead>\n",
       "  <tbody>\n",
       "    <tr>\n",
       "      <th>0</th>\n",
       "      <td>Condo in Chicago · ★4.99 · 1 bedroom · 1 bed ·...</td>\n",
       "      <td>Rebecca</td>\n",
       "      <td>Hyde Park</td>\n",
       "      <td>Private room</td>\n",
       "      <td>City registration pending</td>\n",
       "    </tr>\n",
       "    <tr>\n",
       "      <th>1</th>\n",
       "      <td>Rental unit in Chicago · ★4.70 · 1 bedroom · 1...</td>\n",
       "      <td>Sarah</td>\n",
       "      <td>West Town</td>\n",
       "      <td>Entire home/apt</td>\n",
       "      <td>R21000075737</td>\n",
       "    </tr>\n",
       "    <tr>\n",
       "      <th>2</th>\n",
       "      <td>Home in Chicago · ★4.84 · 1 bedroom · 1 bed · ...</td>\n",
       "      <td>Erik</td>\n",
       "      <td>West Lawn</td>\n",
       "      <td>Private room</td>\n",
       "      <td>R21000075737</td>\n",
       "    </tr>\n",
       "    <tr>\n",
       "      <th>3</th>\n",
       "      <td>Rental unit in Chicago · ★4.73 · 3 bedrooms · ...</td>\n",
       "      <td>Vas</td>\n",
       "      <td>Logan Square</td>\n",
       "      <td>Entire home/apt</td>\n",
       "      <td>City registration pending</td>\n",
       "    </tr>\n",
       "    <tr>\n",
       "      <th>4</th>\n",
       "      <td>Rental unit in Chicago · ★4.64 · 2 bedrooms · ...</td>\n",
       "      <td>At Home Inn</td>\n",
       "      <td>Lincoln Park</td>\n",
       "      <td>Entire home/apt</td>\n",
       "      <td>2209984</td>\n",
       "    </tr>\n",
       "  </tbody>\n",
       "</table>\n",
       "</div>"
      ],
      "text/plain": [
       "                                                name    host_name  \\\n",
       "0  Condo in Chicago · ★4.99 · 1 bedroom · 1 bed ·...      Rebecca   \n",
       "1  Rental unit in Chicago · ★4.70 · 1 bedroom · 1...        Sarah   \n",
       "2  Home in Chicago · ★4.84 · 1 bedroom · 1 bed · ...         Erik   \n",
       "3  Rental unit in Chicago · ★4.73 · 3 bedrooms · ...          Vas   \n",
       "4  Rental unit in Chicago · ★4.64 · 2 bedrooms · ...  At Home Inn   \n",
       "\n",
       "  neighbourhood        room_type                    license  \n",
       "0     Hyde Park     Private room  City registration pending  \n",
       "1     West Town  Entire home/apt               R21000075737  \n",
       "2     West Lawn     Private room               R21000075737  \n",
       "3  Logan Square  Entire home/apt  City registration pending  \n",
       "4  Lincoln Park  Entire home/apt                    2209984  "
      ]
     },
     "execution_count": 60,
     "metadata": {},
     "output_type": "execute_result"
    }
   ],
   "source": [
    "objcols.head()"
   ]
  },
  {
   "cell_type": "code",
   "execution_count": 61,
   "metadata": {},
   "outputs": [],
   "source": [
    "# Dropping unwanted columns from numcols and objcols too\n",
    "numcols=numcols.drop(['id','host_id','latitude','longitude'],axis=1)"
   ]
  },
  {
   "cell_type": "code",
   "execution_count": 62,
   "metadata": {},
   "outputs": [
    {
     "data": {
      "text/html": [
       "<div>\n",
       "<style scoped>\n",
       "    .dataframe tbody tr th:only-of-type {\n",
       "        vertical-align: middle;\n",
       "    }\n",
       "\n",
       "    .dataframe tbody tr th {\n",
       "        vertical-align: top;\n",
       "    }\n",
       "\n",
       "    .dataframe thead th {\n",
       "        text-align: right;\n",
       "    }\n",
       "</style>\n",
       "<table border=\"1\" class=\"dataframe\">\n",
       "  <thead>\n",
       "    <tr style=\"text-align: right;\">\n",
       "      <th></th>\n",
       "      <th>price</th>\n",
       "      <th>minimum_nights</th>\n",
       "      <th>number_of_reviews</th>\n",
       "      <th>reviews_per_month</th>\n",
       "      <th>calculated_host_listings_count</th>\n",
       "      <th>availability_365</th>\n",
       "      <th>number_of_reviews_ltm</th>\n",
       "    </tr>\n",
       "  </thead>\n",
       "  <tbody>\n",
       "    <tr>\n",
       "      <th>0</th>\n",
       "      <td>129</td>\n",
       "      <td>3</td>\n",
       "      <td>220</td>\n",
       "      <td>2.14</td>\n",
       "      <td>1</td>\n",
       "      <td>350</td>\n",
       "      <td>19</td>\n",
       "    </tr>\n",
       "    <tr>\n",
       "      <th>1</th>\n",
       "      <td>94</td>\n",
       "      <td>32</td>\n",
       "      <td>493</td>\n",
       "      <td>2.90</td>\n",
       "      <td>1</td>\n",
       "      <td>295</td>\n",
       "      <td>44</td>\n",
       "    </tr>\n",
       "    <tr>\n",
       "      <th>2</th>\n",
       "      <td>39</td>\n",
       "      <td>1</td>\n",
       "      <td>335</td>\n",
       "      <td>3.11</td>\n",
       "      <td>2</td>\n",
       "      <td>196</td>\n",
       "      <td>6</td>\n",
       "    </tr>\n",
       "    <tr>\n",
       "      <th>3</th>\n",
       "      <td>100</td>\n",
       "      <td>32</td>\n",
       "      <td>27</td>\n",
       "      <td>0.22</td>\n",
       "      <td>4</td>\n",
       "      <td>198</td>\n",
       "      <td>3</td>\n",
       "    </tr>\n",
       "    <tr>\n",
       "      <th>4</th>\n",
       "      <td>219</td>\n",
       "      <td>4</td>\n",
       "      <td>66</td>\n",
       "      <td>0.59</td>\n",
       "      <td>7</td>\n",
       "      <td>94</td>\n",
       "      <td>19</td>\n",
       "    </tr>\n",
       "  </tbody>\n",
       "</table>\n",
       "</div>"
      ],
      "text/plain": [
       "   price  minimum_nights  number_of_reviews  reviews_per_month  \\\n",
       "0    129               3                220               2.14   \n",
       "1     94              32                493               2.90   \n",
       "2     39               1                335               3.11   \n",
       "3    100              32                 27               0.22   \n",
       "4    219               4                 66               0.59   \n",
       "\n",
       "   calculated_host_listings_count  availability_365  number_of_reviews_ltm  \n",
       "0                               1               350                     19  \n",
       "1                               1               295                     44  \n",
       "2                               2               196                      6  \n",
       "3                               4               198                      3  \n",
       "4                               7                94                     19  "
      ]
     },
     "execution_count": 62,
     "metadata": {},
     "output_type": "execute_result"
    }
   ],
   "source": [
    "numcols.head()"
   ]
  },
  {
   "cell_type": "code",
   "execution_count": 63,
   "metadata": {},
   "outputs": [],
   "source": [
    "# we need to drop price column because it dependent variable\n",
    "numcols=numcols.drop('price',axis=1)"
   ]
  },
  {
   "cell_type": "code",
   "execution_count": 64,
   "metadata": {},
   "outputs": [],
   "source": [
    "objcols=objcols.drop(['name','host_name','license'],axis=1)"
   ]
  },
  {
   "cell_type": "code",
   "execution_count": 65,
   "metadata": {},
   "outputs": [
    {
     "data": {
      "text/html": [
       "<div>\n",
       "<style scoped>\n",
       "    .dataframe tbody tr th:only-of-type {\n",
       "        vertical-align: middle;\n",
       "    }\n",
       "\n",
       "    .dataframe tbody tr th {\n",
       "        vertical-align: top;\n",
       "    }\n",
       "\n",
       "    .dataframe thead th {\n",
       "        text-align: right;\n",
       "    }\n",
       "</style>\n",
       "<table border=\"1\" class=\"dataframe\">\n",
       "  <thead>\n",
       "    <tr style=\"text-align: right;\">\n",
       "      <th></th>\n",
       "      <th>neighbourhood</th>\n",
       "      <th>room_type</th>\n",
       "    </tr>\n",
       "  </thead>\n",
       "  <tbody>\n",
       "    <tr>\n",
       "      <th>0</th>\n",
       "      <td>Hyde Park</td>\n",
       "      <td>Private room</td>\n",
       "    </tr>\n",
       "    <tr>\n",
       "      <th>1</th>\n",
       "      <td>West Town</td>\n",
       "      <td>Entire home/apt</td>\n",
       "    </tr>\n",
       "    <tr>\n",
       "      <th>2</th>\n",
       "      <td>West Lawn</td>\n",
       "      <td>Private room</td>\n",
       "    </tr>\n",
       "    <tr>\n",
       "      <th>3</th>\n",
       "      <td>Logan Square</td>\n",
       "      <td>Entire home/apt</td>\n",
       "    </tr>\n",
       "    <tr>\n",
       "      <th>4</th>\n",
       "      <td>Lincoln Park</td>\n",
       "      <td>Entire home/apt</td>\n",
       "    </tr>\n",
       "  </tbody>\n",
       "</table>\n",
       "</div>"
      ],
      "text/plain": [
       "  neighbourhood        room_type\n",
       "0     Hyde Park     Private room\n",
       "1     West Town  Entire home/apt\n",
       "2     West Lawn     Private room\n",
       "3  Logan Square  Entire home/apt\n",
       "4  Lincoln Park  Entire home/apt"
      ]
     },
     "execution_count": 65,
     "metadata": {},
     "output_type": "execute_result"
    }
   ],
   "source": [
    "objcols.head()"
   ]
  },
  {
   "cell_type": "code",
   "execution_count": 66,
   "metadata": {},
   "outputs": [
    {
     "data": {
      "text/html": [
       "<div>\n",
       "<style scoped>\n",
       "    .dataframe tbody tr th:only-of-type {\n",
       "        vertical-align: middle;\n",
       "    }\n",
       "\n",
       "    .dataframe tbody tr th {\n",
       "        vertical-align: top;\n",
       "    }\n",
       "\n",
       "    .dataframe thead th {\n",
       "        text-align: right;\n",
       "    }\n",
       "</style>\n",
       "<table border=\"1\" class=\"dataframe\">\n",
       "  <thead>\n",
       "    <tr style=\"text-align: right;\">\n",
       "      <th></th>\n",
       "      <th>minimum_nights</th>\n",
       "      <th>number_of_reviews</th>\n",
       "      <th>reviews_per_month</th>\n",
       "      <th>calculated_host_listings_count</th>\n",
       "      <th>availability_365</th>\n",
       "      <th>number_of_reviews_ltm</th>\n",
       "    </tr>\n",
       "  </thead>\n",
       "  <tbody>\n",
       "    <tr>\n",
       "      <th>minimum_nights</th>\n",
       "      <td>1.000000</td>\n",
       "      <td>-0.107861</td>\n",
       "      <td>-0.147210</td>\n",
       "      <td>0.116434</td>\n",
       "      <td>-0.005308</td>\n",
       "      <td>-0.174742</td>\n",
       "    </tr>\n",
       "    <tr>\n",
       "      <th>number_of_reviews</th>\n",
       "      <td>-0.107861</td>\n",
       "      <td>1.000000</td>\n",
       "      <td>0.609102</td>\n",
       "      <td>-0.163502</td>\n",
       "      <td>-0.060506</td>\n",
       "      <td>0.725671</td>\n",
       "    </tr>\n",
       "    <tr>\n",
       "      <th>reviews_per_month</th>\n",
       "      <td>-0.147210</td>\n",
       "      <td>0.609102</td>\n",
       "      <td>1.000000</td>\n",
       "      <td>-0.086405</td>\n",
       "      <td>0.012450</td>\n",
       "      <td>0.783660</td>\n",
       "    </tr>\n",
       "    <tr>\n",
       "      <th>calculated_host_listings_count</th>\n",
       "      <td>0.116434</td>\n",
       "      <td>-0.163502</td>\n",
       "      <td>-0.086405</td>\n",
       "      <td>1.000000</td>\n",
       "      <td>0.134967</td>\n",
       "      <td>-0.188501</td>\n",
       "    </tr>\n",
       "    <tr>\n",
       "      <th>availability_365</th>\n",
       "      <td>-0.005308</td>\n",
       "      <td>-0.060506</td>\n",
       "      <td>0.012450</td>\n",
       "      <td>0.134967</td>\n",
       "      <td>1.000000</td>\n",
       "      <td>-0.017787</td>\n",
       "    </tr>\n",
       "    <tr>\n",
       "      <th>number_of_reviews_ltm</th>\n",
       "      <td>-0.174742</td>\n",
       "      <td>0.725671</td>\n",
       "      <td>0.783660</td>\n",
       "      <td>-0.188501</td>\n",
       "      <td>-0.017787</td>\n",
       "      <td>1.000000</td>\n",
       "    </tr>\n",
       "  </tbody>\n",
       "</table>\n",
       "</div>"
      ],
      "text/plain": [
       "                                minimum_nights  number_of_reviews  \\\n",
       "minimum_nights                        1.000000          -0.107861   \n",
       "number_of_reviews                    -0.107861           1.000000   \n",
       "reviews_per_month                    -0.147210           0.609102   \n",
       "calculated_host_listings_count        0.116434          -0.163502   \n",
       "availability_365                     -0.005308          -0.060506   \n",
       "number_of_reviews_ltm                -0.174742           0.725671   \n",
       "\n",
       "                                reviews_per_month  \\\n",
       "minimum_nights                          -0.147210   \n",
       "number_of_reviews                        0.609102   \n",
       "reviews_per_month                        1.000000   \n",
       "calculated_host_listings_count          -0.086405   \n",
       "availability_365                         0.012450   \n",
       "number_of_reviews_ltm                    0.783660   \n",
       "\n",
       "                                calculated_host_listings_count  \\\n",
       "minimum_nights                                        0.116434   \n",
       "number_of_reviews                                    -0.163502   \n",
       "reviews_per_month                                    -0.086405   \n",
       "calculated_host_listings_count                        1.000000   \n",
       "availability_365                                      0.134967   \n",
       "number_of_reviews_ltm                                -0.188501   \n",
       "\n",
       "                                availability_365  number_of_reviews_ltm  \n",
       "minimum_nights                         -0.005308              -0.174742  \n",
       "number_of_reviews                      -0.060506               0.725671  \n",
       "reviews_per_month                       0.012450               0.783660  \n",
       "calculated_host_listings_count          0.134967              -0.188501  \n",
       "availability_365                        1.000000              -0.017787  \n",
       "number_of_reviews_ltm                  -0.017787               1.000000  "
      ]
     },
     "execution_count": 66,
     "metadata": {},
     "output_type": "execute_result"
    }
   ],
   "source": [
    "numcols.corr()"
   ]
  },
  {
   "cell_type": "code",
   "execution_count": 67,
   "metadata": {},
   "outputs": [
    {
     "data": {
      "text/plain": [
       "<Axes: >"
      ]
     },
     "execution_count": 67,
     "metadata": {},
     "output_type": "execute_result"
    },
    {
     "data": {
      "image/png": "[encoded data removed]",
      "text/plain": [
       "<Figure size 640x480 with 2 Axes>"
      ]
     },
     "metadata": {},
     "output_type": "display_data"
    }
   ],
   "source": [
    "sns.heatmap(numcols.corr(),annot=True)"
   ]
  },
  {
   "cell_type": "markdown",
   "metadata": {},
   "source": [
    "# Scaling the numcols with standard scaler"
   ]
  },
  {
   "cell_type": "code",
   "execution_count": 68,
   "metadata": {},
   "outputs": [],
   "source": [
    "from sklearn.preprocessing import StandardScaler"
   ]
  },
  {
   "cell_type": "code",
   "execution_count": 69,
   "metadata": {},
   "outputs": [],
   "source": [
    "sc=StandardScaler()"
   ]
  },
  {
   "cell_type": "code",
   "execution_count": 70,
   "metadata": {},
   "outputs": [],
   "source": [
    "numcols_scale=sc.fit_transform(numcols)"
   ]
  },
  {
   "cell_type": "code",
   "execution_count": 71,
   "metadata": {},
   "outputs": [],
   "source": [
    "numcols_scale=pd.DataFrame(numcols_scale,columns=numcols.columns)"
   ]
  },
  {
   "cell_type": "code",
   "execution_count": 72,
   "metadata": {},
   "outputs": [
    {
     "data": {
      "text/html": [
       "<div>\n",
       "<style scoped>\n",
       "    .dataframe tbody tr th:only-of-type {\n",
       "        vertical-align: middle;\n",
       "    }\n",
       "\n",
       "    .dataframe tbody tr th {\n",
       "        vertical-align: top;\n",
       "    }\n",
       "\n",
       "    .dataframe thead th {\n",
       "        text-align: right;\n",
       "    }\n",
       "</style>\n",
       "<table border=\"1\" class=\"dataframe\">\n",
       "  <thead>\n",
       "    <tr style=\"text-align: right;\">\n",
       "      <th></th>\n",
       "      <th>minimum_nights</th>\n",
       "      <th>number_of_reviews</th>\n",
       "      <th>reviews_per_month</th>\n",
       "      <th>calculated_host_listings_count</th>\n",
       "      <th>availability_365</th>\n",
       "      <th>number_of_reviews_ltm</th>\n",
       "    </tr>\n",
       "  </thead>\n",
       "  <tbody>\n",
       "    <tr>\n",
       "      <th>0</th>\n",
       "      <td>-0.293151</td>\n",
       "      <td>1.984523</td>\n",
       "      <td>0.155645</td>\n",
       "      <td>-0.341431</td>\n",
       "      <td>1.182104</td>\n",
       "      <td>0.262342</td>\n",
       "    </tr>\n",
       "    <tr>\n",
       "      <th>1</th>\n",
       "      <td>0.381518</td>\n",
       "      <td>5.100282</td>\n",
       "      <td>0.608471</td>\n",
       "      <td>-0.341431</td>\n",
       "      <td>0.742904</td>\n",
       "      <td>1.437708</td>\n",
       "    </tr>\n",
       "    <tr>\n",
       "      <th>2</th>\n",
       "      <td>-0.339680</td>\n",
       "      <td>3.297022</td>\n",
       "      <td>0.733594</td>\n",
       "      <td>-0.335795</td>\n",
       "      <td>-0.047657</td>\n",
       "      <td>-0.348848</td>\n",
       "    </tr>\n",
       "    <tr>\n",
       "      <th>3</th>\n",
       "      <td>0.381518</td>\n",
       "      <td>-0.218193</td>\n",
       "      <td>-0.988337</td>\n",
       "      <td>-0.324522</td>\n",
       "      <td>-0.031686</td>\n",
       "      <td>-0.489892</td>\n",
       "    </tr>\n",
       "    <tr>\n",
       "      <th>4</th>\n",
       "      <td>-0.269887</td>\n",
       "      <td>0.226915</td>\n",
       "      <td>-0.767883</td>\n",
       "      <td>-0.307612</td>\n",
       "      <td>-0.862174</td>\n",
       "      <td>0.262342</td>\n",
       "    </tr>\n",
       "  </tbody>\n",
       "</table>\n",
       "</div>"
      ],
      "text/plain": [
       "   minimum_nights  number_of_reviews  reviews_per_month  \\\n",
       "0       -0.293151           1.984523           0.155645   \n",
       "1        0.381518           5.100282           0.608471   \n",
       "2       -0.339680           3.297022           0.733594   \n",
       "3        0.381518          -0.218193          -0.988337   \n",
       "4       -0.269887           0.226915          -0.767883   \n",
       "\n",
       "   calculated_host_listings_count  availability_365  number_of_reviews_ltm  \n",
       "0                       -0.341431          1.182104               0.262342  \n",
       "1                       -0.341431          0.742904               1.437708  \n",
       "2                       -0.335795         -0.047657              -0.348848  \n",
       "3                       -0.324522         -0.031686              -0.489892  \n",
       "4                       -0.307612         -0.862174               0.262342  "
      ]
     },
     "execution_count": 72,
     "metadata": {},
     "output_type": "execute_result"
    }
   ],
   "source": [
    "numcols_scale.head()"
   ]
  },
  {
   "cell_type": "code",
   "execution_count": 73,
   "metadata": {},
   "outputs": [
    {
     "data": {
      "text/plain": [
       "<Axes: >"
      ]
     },
     "execution_count": 73,
     "metadata": {},
     "output_type": "execute_result"
    },
    {
     "data": {
      "image/png": "[encoded data removed]",
      "text/plain": [
       "<Figure size 1500x500 with 1 Axes>"
      ]
     },
     "metadata": {},
     "output_type": "display_data"
    }
   ],
   "source": [
    "plt.figure(figsize=(15,5))\n",
    "sns.boxenplot(numcols_scale)"
   ]
  },
  {
   "cell_type": "markdown",
   "metadata": {},
   "source": [
    "# Scaling the numcols with MinMax Scaler"
   ]
  },
  {
   "cell_type": "code",
   "execution_count": 74,
   "metadata": {},
   "outputs": [],
   "source": [
    "from sklearn.preprocessing import MinMaxScaler"
   ]
  },
  {
   "cell_type": "code",
   "execution_count": 75,
   "metadata": {},
   "outputs": [],
   "source": [
    "mm=MinMaxScaler()"
   ]
  },
  {
   "cell_type": "code",
   "execution_count": 76,
   "metadata": {},
   "outputs": [],
   "source": [
    "numcols_mm=mm.fit_transform(numcols)"
   ]
  },
  {
   "cell_type": "code",
   "execution_count": 77,
   "metadata": {},
   "outputs": [],
   "source": [
    "numcols_mm=pd.DataFrame(numcols_mm,columns=numcols.columns)"
   ]
  },
  {
   "cell_type": "code",
   "execution_count": 78,
   "metadata": {},
   "outputs": [
    {
     "data": {
      "text/html": [
       "<div>\n",
       "<style scoped>\n",
       "    .dataframe tbody tr th:only-of-type {\n",
       "        vertical-align: middle;\n",
       "    }\n",
       "\n",
       "    .dataframe tbody tr th {\n",
       "        vertical-align: top;\n",
       "    }\n",
       "\n",
       "    .dataframe thead th {\n",
       "        text-align: right;\n",
       "    }\n",
       "</style>\n",
       "<table border=\"1\" class=\"dataframe\">\n",
       "  <thead>\n",
       "    <tr style=\"text-align: right;\">\n",
       "      <th></th>\n",
       "      <th>minimum_nights</th>\n",
       "      <th>number_of_reviews</th>\n",
       "      <th>reviews_per_month</th>\n",
       "      <th>calculated_host_listings_count</th>\n",
       "      <th>availability_365</th>\n",
       "      <th>number_of_reviews_ltm</th>\n",
       "    </tr>\n",
       "  </thead>\n",
       "  <tbody>\n",
       "    <tr>\n",
       "      <th>0</th>\n",
       "      <td>0.001779</td>\n",
       "      <td>0.068879</td>\n",
       "      <td>0.037283</td>\n",
       "      <td>0.000000</td>\n",
       "      <td>0.958904</td>\n",
       "      <td>0.021469</td>\n",
       "    </tr>\n",
       "    <tr>\n",
       "      <th>1</th>\n",
       "      <td>0.027580</td>\n",
       "      <td>0.154352</td>\n",
       "      <td>0.050586</td>\n",
       "      <td>0.000000</td>\n",
       "      <td>0.808219</td>\n",
       "      <td>0.049718</td>\n",
       "    </tr>\n",
       "    <tr>\n",
       "      <th>2</th>\n",
       "      <td>0.000000</td>\n",
       "      <td>0.104884</td>\n",
       "      <td>0.054262</td>\n",
       "      <td>0.001529</td>\n",
       "      <td>0.536986</td>\n",
       "      <td>0.006780</td>\n",
       "    </tr>\n",
       "    <tr>\n",
       "      <th>3</th>\n",
       "      <td>0.027580</td>\n",
       "      <td>0.008453</td>\n",
       "      <td>0.003676</td>\n",
       "      <td>0.004587</td>\n",
       "      <td>0.542466</td>\n",
       "      <td>0.003390</td>\n",
       "    </tr>\n",
       "    <tr>\n",
       "      <th>4</th>\n",
       "      <td>0.002669</td>\n",
       "      <td>0.020664</td>\n",
       "      <td>0.010152</td>\n",
       "      <td>0.009174</td>\n",
       "      <td>0.257534</td>\n",
       "      <td>0.021469</td>\n",
       "    </tr>\n",
       "  </tbody>\n",
       "</table>\n",
       "</div>"
      ],
      "text/plain": [
       "   minimum_nights  number_of_reviews  reviews_per_month  \\\n",
       "0        0.001779           0.068879           0.037283   \n",
       "1        0.027580           0.154352           0.050586   \n",
       "2        0.000000           0.104884           0.054262   \n",
       "3        0.027580           0.008453           0.003676   \n",
       "4        0.002669           0.020664           0.010152   \n",
       "\n",
       "   calculated_host_listings_count  availability_365  number_of_reviews_ltm  \n",
       "0                        0.000000          0.958904               0.021469  \n",
       "1                        0.000000          0.808219               0.049718  \n",
       "2                        0.001529          0.536986               0.006780  \n",
       "3                        0.004587          0.542466               0.003390  \n",
       "4                        0.009174          0.257534               0.021469  "
      ]
     },
     "execution_count": 78,
     "metadata": {},
     "output_type": "execute_result"
    }
   ],
   "source": [
    "numcols_mm.head()"
   ]
  },
  {
   "cell_type": "code",
   "execution_count": 79,
   "metadata": {},
   "outputs": [
    {
     "data": {
      "text/plain": [
       "<Axes: >"
      ]
     },
     "execution_count": 79,
     "metadata": {},
     "output_type": "execute_result"
    },
    {
     "data": {
      "image/png": "[encoded data removed]",
      "text/plain": [
       "<Figure size 1500x500 with 1 Axes>"
      ]
     },
     "metadata": {},
     "output_type": "display_data"
    }
   ],
   "source": [
    "plt.figure(figsize=(15,5))\n",
    "sns.boxplot(numcols_mm)"
   ]
  },
  {
   "cell_type": "markdown",
   "metadata": {},
   "source": [
    "# Scaling the numcols with Robust Scaler"
   ]
  },
  {
   "cell_type": "code",
   "execution_count": 80,
   "metadata": {},
   "outputs": [],
   "source": [
    "from sklearn.preprocessing import RobustScaler"
   ]
  },
  {
   "cell_type": "code",
   "execution_count": 81,
   "metadata": {},
   "outputs": [],
   "source": [
    "robust=RobustScaler()"
   ]
  },
  {
   "cell_type": "code",
   "execution_count": 82,
   "metadata": {},
   "outputs": [],
   "source": [
    "numcols_robust=robust.fit_transform(numcols)"
   ]
  },
  {
   "cell_type": "code",
   "execution_count": 83,
   "metadata": {},
   "outputs": [],
   "source": [
    "numcols_robust=pd.DataFrame(numcols_robust,columns=numcols.columns)"
   ]
  },
  {
   "cell_type": "code",
   "execution_count": 84,
   "metadata": {},
   "outputs": [
    {
     "data": {
      "text/html": [
       "<div>\n",
       "<style scoped>\n",
       "    .dataframe tbody tr th:only-of-type {\n",
       "        vertical-align: middle;\n",
       "    }\n",
       "\n",
       "    .dataframe tbody tr th {\n",
       "        vertical-align: top;\n",
       "    }\n",
       "\n",
       "    .dataframe thead th {\n",
       "        text-align: right;\n",
       "    }\n",
       "</style>\n",
       "<table border=\"1\" class=\"dataframe\">\n",
       "  <thead>\n",
       "    <tr style=\"text-align: right;\">\n",
       "      <th></th>\n",
       "      <th>minimum_nights</th>\n",
       "      <th>number_of_reviews</th>\n",
       "      <th>reviews_per_month</th>\n",
       "      <th>calculated_host_listings_count</th>\n",
       "      <th>availability_365</th>\n",
       "      <th>number_of_reviews_ltm</th>\n",
       "    </tr>\n",
       "  </thead>\n",
       "  <tbody>\n",
       "    <tr>\n",
       "      <th>0</th>\n",
       "      <td>0.033333</td>\n",
       "      <td>3.961538</td>\n",
       "      <td>0.156423</td>\n",
       "      <td>-0.133333</td>\n",
       "      <td>0.560870</td>\n",
       "      <td>0.636364</td>\n",
       "    </tr>\n",
       "    <tr>\n",
       "      <th>1</th>\n",
       "      <td>1.000000</td>\n",
       "      <td>9.211538</td>\n",
       "      <td>0.611513</td>\n",
       "      <td>-0.133333</td>\n",
       "      <td>0.321739</td>\n",
       "      <td>1.772727</td>\n",
       "    </tr>\n",
       "    <tr>\n",
       "      <th>2</th>\n",
       "      <td>-0.033333</td>\n",
       "      <td>6.173077</td>\n",
       "      <td>0.737261</td>\n",
       "      <td>-0.066667</td>\n",
       "      <td>-0.108696</td>\n",
       "      <td>0.045455</td>\n",
       "    </tr>\n",
       "    <tr>\n",
       "      <th>3</th>\n",
       "      <td>1.000000</td>\n",
       "      <td>0.250000</td>\n",
       "      <td>-0.993278</td>\n",
       "      <td>0.066667</td>\n",
       "      <td>-0.100000</td>\n",
       "      <td>-0.090909</td>\n",
       "    </tr>\n",
       "    <tr>\n",
       "      <th>4</th>\n",
       "      <td>0.066667</td>\n",
       "      <td>1.000000</td>\n",
       "      <td>-0.771721</td>\n",
       "      <td>0.266667</td>\n",
       "      <td>-0.552174</td>\n",
       "      <td>0.636364</td>\n",
       "    </tr>\n",
       "  </tbody>\n",
       "</table>\n",
       "</div>"
      ],
      "text/plain": [
       "   minimum_nights  number_of_reviews  reviews_per_month  \\\n",
       "0        0.033333           3.961538           0.156423   \n",
       "1        1.000000           9.211538           0.611513   \n",
       "2       -0.033333           6.173077           0.737261   \n",
       "3        1.000000           0.250000          -0.993278   \n",
       "4        0.066667           1.000000          -0.771721   \n",
       "\n",
       "   calculated_host_listings_count  availability_365  number_of_reviews_ltm  \n",
       "0                       -0.133333          0.560870               0.636364  \n",
       "1                       -0.133333          0.321739               1.772727  \n",
       "2                       -0.066667         -0.108696               0.045455  \n",
       "3                        0.066667         -0.100000              -0.090909  \n",
       "4                        0.266667         -0.552174               0.636364  "
      ]
     },
     "execution_count": 84,
     "metadata": {},
     "output_type": "execute_result"
    }
   ],
   "source": [
    "numcols_robust.head()"
   ]
  },
  {
   "cell_type": "code",
   "execution_count": 85,
   "metadata": {},
   "outputs": [
    {
     "data": {
      "text/plain": [
       "<Axes: >"
      ]
     },
     "execution_count": 85,
     "metadata": {},
     "output_type": "execute_result"
    },
    {
     "data": {
      "image/png": "[encoded data removed]",
      "text/plain": [
       "<Figure size 1500x500 with 1 Axes>"
      ]
     },
     "metadata": {},
     "output_type": "display_data"
    }
   ],
   "source": [
    "plt.figure(figsize=(15,5))\n",
    "sns.boxplot(numcols_robust)"
   ]
  },
  {
   "cell_type": "markdown",
   "metadata": {},
   "source": [
    "# Label Encoding for objcols"
   ]
  },
  {
   "cell_type": "code",
   "execution_count": 86,
   "metadata": {},
   "outputs": [],
   "source": [
    "from sklearn.preprocessing import LabelEncoder"
   ]
  },
  {
   "cell_type": "code",
   "execution_count": 87,
   "metadata": {},
   "outputs": [],
   "source": [
    "objcols_en=objcols.apply(LabelEncoder().fit_transform)"
   ]
  },
  {
   "cell_type": "code",
   "execution_count": 88,
   "metadata": {},
   "outputs": [
    {
     "data": {
      "text/html": [
       "<div>\n",
       "<style scoped>\n",
       "    .dataframe tbody tr th:only-of-type {\n",
       "        vertical-align: middle;\n",
       "    }\n",
       "\n",
       "    .dataframe tbody tr th {\n",
       "        vertical-align: top;\n",
       "    }\n",
       "\n",
       "    .dataframe thead th {\n",
       "        text-align: right;\n",
       "    }\n",
       "</style>\n",
       "<table border=\"1\" class=\"dataframe\">\n",
       "  <thead>\n",
       "    <tr style=\"text-align: right;\">\n",
       "      <th></th>\n",
       "      <th>neighbourhood</th>\n",
       "      <th>room_type</th>\n",
       "    </tr>\n",
       "  </thead>\n",
       "  <tbody>\n",
       "    <tr>\n",
       "      <th>0</th>\n",
       "      <td>33</td>\n",
       "      <td>2</td>\n",
       "    </tr>\n",
       "    <tr>\n",
       "      <th>1</th>\n",
       "      <td>75</td>\n",
       "      <td>0</td>\n",
       "    </tr>\n",
       "    <tr>\n",
       "      <th>2</th>\n",
       "      <td>72</td>\n",
       "      <td>2</td>\n",
       "    </tr>\n",
       "    <tr>\n",
       "      <th>3</th>\n",
       "      <td>40</td>\n",
       "      <td>0</td>\n",
       "    </tr>\n",
       "    <tr>\n",
       "      <th>4</th>\n",
       "      <td>38</td>\n",
       "      <td>0</td>\n",
       "    </tr>\n",
       "  </tbody>\n",
       "</table>\n",
       "</div>"
      ],
      "text/plain": [
       "   neighbourhood  room_type\n",
       "0             33          2\n",
       "1             75          0\n",
       "2             72          2\n",
       "3             40          0\n",
       "4             38          0"
      ]
     },
     "execution_count": 88,
     "metadata": {},
     "output_type": "execute_result"
    }
   ],
   "source": [
    "objcols_en.head()"
   ]
  },
  {
   "cell_type": "markdown",
   "metadata": {},
   "source": [
    "# Concatinating the numcols and objcols"
   ]
  },
  {
   "cell_type": "code",
   "execution_count": 89,
   "metadata": {},
   "outputs": [],
   "source": [
    "combinedf=pd.concat([numcols_mm,objcols_en],axis=1)"
   ]
  },
  {
   "cell_type": "code",
   "execution_count": 90,
   "metadata": {},
   "outputs": [
    {
     "data": {
      "text/html": [
       "<div>\n",
       "<style scoped>\n",
       "    .dataframe tbody tr th:only-of-type {\n",
       "        vertical-align: middle;\n",
       "    }\n",
       "\n",
       "    .dataframe tbody tr th {\n",
       "        vertical-align: top;\n",
       "    }\n",
       "\n",
       "    .dataframe thead th {\n",
       "        text-align: right;\n",
       "    }\n",
       "</style>\n",
       "<table border=\"1\" class=\"dataframe\">\n",
       "  <thead>\n",
       "    <tr style=\"text-align: right;\">\n",
       "      <th></th>\n",
       "      <th>minimum_nights</th>\n",
       "      <th>number_of_reviews</th>\n",
       "      <th>reviews_per_month</th>\n",
       "      <th>calculated_host_listings_count</th>\n",
       "      <th>availability_365</th>\n",
       "      <th>number_of_reviews_ltm</th>\n",
       "      <th>neighbourhood</th>\n",
       "      <th>room_type</th>\n",
       "    </tr>\n",
       "  </thead>\n",
       "  <tbody>\n",
       "    <tr>\n",
       "      <th>0</th>\n",
       "      <td>0.001779</td>\n",
       "      <td>0.068879</td>\n",
       "      <td>0.037283</td>\n",
       "      <td>0.000000</td>\n",
       "      <td>0.958904</td>\n",
       "      <td>0.021469</td>\n",
       "      <td>33</td>\n",
       "      <td>2</td>\n",
       "    </tr>\n",
       "    <tr>\n",
       "      <th>1</th>\n",
       "      <td>0.027580</td>\n",
       "      <td>0.154352</td>\n",
       "      <td>0.050586</td>\n",
       "      <td>0.000000</td>\n",
       "      <td>0.808219</td>\n",
       "      <td>0.049718</td>\n",
       "      <td>75</td>\n",
       "      <td>0</td>\n",
       "    </tr>\n",
       "    <tr>\n",
       "      <th>2</th>\n",
       "      <td>0.000000</td>\n",
       "      <td>0.104884</td>\n",
       "      <td>0.054262</td>\n",
       "      <td>0.001529</td>\n",
       "      <td>0.536986</td>\n",
       "      <td>0.006780</td>\n",
       "      <td>72</td>\n",
       "      <td>2</td>\n",
       "    </tr>\n",
       "    <tr>\n",
       "      <th>3</th>\n",
       "      <td>0.027580</td>\n",
       "      <td>0.008453</td>\n",
       "      <td>0.003676</td>\n",
       "      <td>0.004587</td>\n",
       "      <td>0.542466</td>\n",
       "      <td>0.003390</td>\n",
       "      <td>40</td>\n",
       "      <td>0</td>\n",
       "    </tr>\n",
       "    <tr>\n",
       "      <th>4</th>\n",
       "      <td>0.002669</td>\n",
       "      <td>0.020664</td>\n",
       "      <td>0.010152</td>\n",
       "      <td>0.009174</td>\n",
       "      <td>0.257534</td>\n",
       "      <td>0.021469</td>\n",
       "      <td>38</td>\n",
       "      <td>0</td>\n",
       "    </tr>\n",
       "  </tbody>\n",
       "</table>\n",
       "</div>"
      ],
      "text/plain": [
       "   minimum_nights  number_of_reviews  reviews_per_month  \\\n",
       "0        0.001779           0.068879           0.037283   \n",
       "1        0.027580           0.154352           0.050586   \n",
       "2        0.000000           0.104884           0.054262   \n",
       "3        0.027580           0.008453           0.003676   \n",
       "4        0.002669           0.020664           0.010152   \n",
       "\n",
       "   calculated_host_listings_count  availability_365  number_of_reviews_ltm  \\\n",
       "0                        0.000000          0.958904               0.021469   \n",
       "1                        0.000000          0.808219               0.049718   \n",
       "2                        0.001529          0.536986               0.006780   \n",
       "3                        0.004587          0.542466               0.003390   \n",
       "4                        0.009174          0.257534               0.021469   \n",
       "\n",
       "   neighbourhood  room_type  \n",
       "0             33          2  \n",
       "1             75          0  \n",
       "2             72          2  \n",
       "3             40          0  \n",
       "4             38          0  "
      ]
     },
     "execution_count": 90,
     "metadata": {},
     "output_type": "execute_result"
    }
   ],
   "source": [
    "combinedf.head()"
   ]
  },
  {
   "cell_type": "code",
   "execution_count": 91,
   "metadata": {},
   "outputs": [
    {
     "data": {
      "text/html": [
       "<div>\n",
       "<style scoped>\n",
       "    .dataframe tbody tr th:only-of-type {\n",
       "        vertical-align: middle;\n",
       "    }\n",
       "\n",
       "    .dataframe tbody tr th {\n",
       "        vertical-align: top;\n",
       "    }\n",
       "\n",
       "    .dataframe thead th {\n",
       "        text-align: right;\n",
       "    }\n",
       "</style>\n",
       "<table border=\"1\" class=\"dataframe\">\n",
       "  <thead>\n",
       "    <tr style=\"text-align: right;\">\n",
       "      <th></th>\n",
       "      <th>minimum_nights</th>\n",
       "      <th>number_of_reviews</th>\n",
       "      <th>reviews_per_month</th>\n",
       "      <th>calculated_host_listings_count</th>\n",
       "      <th>availability_365</th>\n",
       "      <th>number_of_reviews_ltm</th>\n",
       "      <th>neighbourhood</th>\n",
       "      <th>room_type</th>\n",
       "    </tr>\n",
       "  </thead>\n",
       "  <tbody>\n",
       "    <tr>\n",
       "      <th>8019</th>\n",
       "      <td>0.00000</td>\n",
       "      <td>0.0</td>\n",
       "      <td>0.032711</td>\n",
       "      <td>0.033639</td>\n",
       "      <td>0.972603</td>\n",
       "      <td>0.0</td>\n",
       "      <td>21</td>\n",
       "      <td>2</td>\n",
       "    </tr>\n",
       "    <tr>\n",
       "      <th>8020</th>\n",
       "      <td>0.00000</td>\n",
       "      <td>0.0</td>\n",
       "      <td>0.032711</td>\n",
       "      <td>0.033639</td>\n",
       "      <td>0.994521</td>\n",
       "      <td>0.0</td>\n",
       "      <td>66</td>\n",
       "      <td>0</td>\n",
       "    </tr>\n",
       "    <tr>\n",
       "      <th>8021</th>\n",
       "      <td>0.00000</td>\n",
       "      <td>0.0</td>\n",
       "      <td>0.032711</td>\n",
       "      <td>0.033639</td>\n",
       "      <td>0.983562</td>\n",
       "      <td>0.0</td>\n",
       "      <td>66</td>\n",
       "      <td>0</td>\n",
       "    </tr>\n",
       "    <tr>\n",
       "      <th>8022</th>\n",
       "      <td>0.02758</td>\n",
       "      <td>0.0</td>\n",
       "      <td>0.032711</td>\n",
       "      <td>0.007645</td>\n",
       "      <td>0.991781</td>\n",
       "      <td>0.0</td>\n",
       "      <td>7</td>\n",
       "      <td>0</td>\n",
       "    </tr>\n",
       "    <tr>\n",
       "      <th>8023</th>\n",
       "      <td>0.00000</td>\n",
       "      <td>0.0</td>\n",
       "      <td>0.032711</td>\n",
       "      <td>0.001529</td>\n",
       "      <td>0.106849</td>\n",
       "      <td>0.0</td>\n",
       "      <td>49</td>\n",
       "      <td>0</td>\n",
       "    </tr>\n",
       "  </tbody>\n",
       "</table>\n",
       "</div>"
      ],
      "text/plain": [
       "      minimum_nights  number_of_reviews  reviews_per_month  \\\n",
       "8019         0.00000                0.0           0.032711   \n",
       "8020         0.00000                0.0           0.032711   \n",
       "8021         0.00000                0.0           0.032711   \n",
       "8022         0.02758                0.0           0.032711   \n",
       "8023         0.00000                0.0           0.032711   \n",
       "\n",
       "      calculated_host_listings_count  availability_365  number_of_reviews_ltm  \\\n",
       "8019                        0.033639          0.972603                    0.0   \n",
       "8020                        0.033639          0.994521                    0.0   \n",
       "8021                        0.033639          0.983562                    0.0   \n",
       "8022                        0.007645          0.991781                    0.0   \n",
       "8023                        0.001529          0.106849                    0.0   \n",
       "\n",
       "      neighbourhood  room_type  \n",
       "8019             21          2  \n",
       "8020             66          0  \n",
       "8021             66          0  \n",
       "8022              7          0  \n",
       "8023             49          0  "
      ]
     },
     "execution_count": 91,
     "metadata": {},
     "output_type": "execute_result"
    }
   ],
   "source": [
    "combinedf.tail()"
   ]
  },
  {
   "cell_type": "code",
   "execution_count": 92,
   "metadata": {},
   "outputs": [
    {
     "name": "stdout",
     "output_type": "stream",
     "text": [
      "<class 'pandas.core.frame.DataFrame'>\n",
      "RangeIndex: 8024 entries, 0 to 8023\n",
      "Data columns (total 8 columns):\n",
      " #   Column                          Non-Null Count  Dtype  \n",
      "---  ------                          --------------  -----  \n",
      " 0   minimum_nights                  8024 non-null   float64\n",
      " 1   number_of_reviews               8024 non-null   float64\n",
      " 2   reviews_per_month               8024 non-null   float64\n",
      " 3   calculated_host_listings_count  8024 non-null   float64\n",
      " 4   availability_365                8024 non-null   float64\n",
      " 5   number_of_reviews_ltm           8024 non-null   float64\n",
      " 6   neighbourhood                   8024 non-null   int32  \n",
      " 7   room_type                       8024 non-null   int32  \n",
      "dtypes: float64(6), int32(2)\n",
      "memory usage: 438.9 KB\n"
     ]
    }
   ],
   "source": [
    "combinedf.info()"
   ]
  },
  {
   "cell_type": "code",
   "execution_count": 93,
   "metadata": {
    "colab": {
     "base_uri": "https://localhost:8080/"
    },
    "id": "v1OGjfgin_GF",
    "outputId": "c70cca7c-b82d-4530-eebb-5760380ec4c3"
   },
   "outputs": [
    {
     "name": "stdout",
     "output_type": "stream",
     "text": [
      "skewness: 10.65655860989696\n",
      "kurtosis: 227.35572764182928\n"
     ]
    }
   ],
   "source": [
    "print('skewness:',chicagobnb.price.skew())\n",
    "print('kurtosis:',chicagobnb.price.kurt())"
   ]
  },
  {
   "cell_type": "code",
   "execution_count": 94,
   "metadata": {
    "colab": {
     "base_uri": "https://localhost:8080/",
     "height": 447
    },
    "id": "bGngecUxpFgF",
    "outputId": "cc029bc6-5ee3-43b1-cc81-1f05e2516653"
   },
   "outputs": [
    {
     "data": {
      "text/plain": [
       "<Axes: ylabel='Frequency'>"
      ]
     },
     "execution_count": 94,
     "metadata": {},
     "output_type": "execute_result"
    },
    {
     "data": {
      "image/png": "[encoded data removed]",
      "text/plain": [
       "<Figure size 640x480 with 1 Axes>"
      ]
     },
     "metadata": {},
     "output_type": "display_data"
    }
   ],
   "source": [
    "chicagobnb.price.plot(kind='hist') #high skewness and high kurtosis"
   ]
  },
  {
   "cell_type": "code",
   "execution_count": 95,
   "metadata": {
    "colab": {
     "base_uri": "https://localhost:8080/",
     "height": 447
    },
    "id": "w6KH7hklsKM-",
    "outputId": "7d65b0d5-7acd-48d8-cb97-2202d610ceec"
   },
   "outputs": [
    {
     "data": {
      "text/plain": [
       "<Axes: >"
      ]
     },
     "execution_count": 95,
     "metadata": {},
     "output_type": "execute_result"
    },
    {
     "data": {
      "image/png": "[encoded data removed]",
      "text/plain": [
       "<Figure size 640x480 with 1 Axes>"
      ]
     },
     "metadata": {},
     "output_type": "display_data"
    }
   ],
   "source": [
    "chicagobnb.price.plot(kind='box',vert=False)"
   ]
  },
  {
   "cell_type": "code",
   "execution_count": 96,
   "metadata": {
    "colab": {
     "base_uri": "https://localhost:8080/",
     "height": 450
    },
    "id": "mVIvULfhsdsM",
    "outputId": "75ed6d5f-7b0c-4657-f310-c95b35e50b91"
   },
   "outputs": [
    {
     "data": {
      "text/plain": [
       "<Axes: ylabel='Density'>"
      ]
     },
     "execution_count": 96,
     "metadata": {},
     "output_type": "execute_result"
    },
    {
     "data": {
      "image/png": "[encoded data removed]",
      "text/plain": [
       "<Figure size 640x480 with 1 Axes>"
      ]
     },
     "metadata": {},
     "output_type": "display_data"
    }
   ],
   "source": [
    "chicagobnb.price.plot(kind='density')"
   ]
  },
  {
   "cell_type": "code",
   "execution_count": 97,
   "metadata": {
    "colab": {
     "base_uri": "https://localhost:8080/",
     "height": 467
    },
    "id": "u07lnTnQu_-H",
    "outputId": "dda795c6-901d-4ceb-b3f0-acf9a8253584"
   },
   "outputs": [
    {
     "data": {
      "text/plain": [
       "<Figure size 3000x1500 with 0 Axes>"
      ]
     },
     "metadata": {},
     "output_type": "display_data"
    },
    {
     "data": {
      "image/png": "[encoded data removed]",
      "text/plain": [
       "<Figure size 640x480 with 3 Axes>"
      ]
     },
     "metadata": {},
     "output_type": "display_data"
    }
   ],
   "source": [
    "plt.figure(figsize=(30,15))\n",
    "fig,ax=plt.subplots(3,1)\n",
    "sns.kdeplot(chicagobnb.number_of_reviews,ax=ax[0])\n",
    "sns.boxplot(chicagobnb.number_of_reviews,orient='h',ax=ax[1])\n",
    "sns.histplot(chicagobnb.number_of_reviews,ax=ax[2])\n",
    "plt.show()"
   ]
  },
  {
   "cell_type": "code",
   "execution_count": 98,
   "metadata": {
    "colab": {
     "base_uri": "https://localhost:8080/",
     "height": 471
    },
    "id": "OBniOPZAuIud",
    "outputId": "39b27e38-318d-4263-a2ac-bc9bc93d785b"
   },
   "outputs": [
    {
     "data": {
      "text/plain": [
       "<Figure size 3000x1500 with 0 Axes>"
      ]
     },
     "metadata": {},
     "output_type": "display_data"
    },
    {
     "data": {
      "image/png": "[encoded data removed]",
      "text/plain": [
       "<Figure size 640x480 with 3 Axes>"
      ]
     },
     "metadata": {},
     "output_type": "display_data"
    }
   ],
   "source": [
    "plt.figure(figsize=(30,15))\n",
    "fig,ax=plt.subplots(3,1)\n",
    "sns.kdeplot(chicagobnb.price,ax=ax[0])\n",
    "sns.boxplot(chicagobnb.price,orient='h',ax=ax[1])\n",
    "sns.histplot(chicagobnb.price,ax=ax[2])\n",
    "plt.show()"
   ]
  },
  {
   "cell_type": "markdown",
   "metadata": {},
   "source": [
    "# Splitting into Independent(X's) and Dependent Variable(y)"
   ]
  },
  {
   "cell_type": "code",
   "execution_count": 99,
   "metadata": {},
   "outputs": [],
   "source": [
    "X=combinedf\n",
    "y=chicagobnb.price"
   ]
  },
  {
   "cell_type": "code",
   "execution_count": 100,
   "metadata": {},
   "outputs": [
    {
     "data": {
      "text/html": [
       "<div>\n",
       "<style scoped>\n",
       "    .dataframe tbody tr th:only-of-type {\n",
       "        vertical-align: middle;\n",
       "    }\n",
       "\n",
       "    .dataframe tbody tr th {\n",
       "        vertical-align: top;\n",
       "    }\n",
       "\n",
       "    .dataframe thead th {\n",
       "        text-align: right;\n",
       "    }\n",
       "</style>\n",
       "<table border=\"1\" class=\"dataframe\">\n",
       "  <thead>\n",
       "    <tr style=\"text-align: right;\">\n",
       "      <th></th>\n",
       "      <th>minimum_nights</th>\n",
       "      <th>number_of_reviews</th>\n",
       "      <th>reviews_per_month</th>\n",
       "      <th>calculated_host_listings_count</th>\n",
       "      <th>availability_365</th>\n",
       "      <th>number_of_reviews_ltm</th>\n",
       "      <th>neighbourhood</th>\n",
       "      <th>room_type</th>\n",
       "    </tr>\n",
       "  </thead>\n",
       "  <tbody>\n",
       "    <tr>\n",
       "      <th>0</th>\n",
       "      <td>0.001779</td>\n",
       "      <td>0.068879</td>\n",
       "      <td>0.037283</td>\n",
       "      <td>0.000000</td>\n",
       "      <td>0.958904</td>\n",
       "      <td>0.021469</td>\n",
       "      <td>33</td>\n",
       "      <td>2</td>\n",
       "    </tr>\n",
       "    <tr>\n",
       "      <th>1</th>\n",
       "      <td>0.027580</td>\n",
       "      <td>0.154352</td>\n",
       "      <td>0.050586</td>\n",
       "      <td>0.000000</td>\n",
       "      <td>0.808219</td>\n",
       "      <td>0.049718</td>\n",
       "      <td>75</td>\n",
       "      <td>0</td>\n",
       "    </tr>\n",
       "    <tr>\n",
       "      <th>2</th>\n",
       "      <td>0.000000</td>\n",
       "      <td>0.104884</td>\n",
       "      <td>0.054262</td>\n",
       "      <td>0.001529</td>\n",
       "      <td>0.536986</td>\n",
       "      <td>0.006780</td>\n",
       "      <td>72</td>\n",
       "      <td>2</td>\n",
       "    </tr>\n",
       "    <tr>\n",
       "      <th>3</th>\n",
       "      <td>0.027580</td>\n",
       "      <td>0.008453</td>\n",
       "      <td>0.003676</td>\n",
       "      <td>0.004587</td>\n",
       "      <td>0.542466</td>\n",
       "      <td>0.003390</td>\n",
       "      <td>40</td>\n",
       "      <td>0</td>\n",
       "    </tr>\n",
       "    <tr>\n",
       "      <th>4</th>\n",
       "      <td>0.002669</td>\n",
       "      <td>0.020664</td>\n",
       "      <td>0.010152</td>\n",
       "      <td>0.009174</td>\n",
       "      <td>0.257534</td>\n",
       "      <td>0.021469</td>\n",
       "      <td>38</td>\n",
       "      <td>0</td>\n",
       "    </tr>\n",
       "  </tbody>\n",
       "</table>\n",
       "</div>"
      ],
      "text/plain": [
       "   minimum_nights  number_of_reviews  reviews_per_month  \\\n",
       "0        0.001779           0.068879           0.037283   \n",
       "1        0.027580           0.154352           0.050586   \n",
       "2        0.000000           0.104884           0.054262   \n",
       "3        0.027580           0.008453           0.003676   \n",
       "4        0.002669           0.020664           0.010152   \n",
       "\n",
       "   calculated_host_listings_count  availability_365  number_of_reviews_ltm  \\\n",
       "0                        0.000000          0.958904               0.021469   \n",
       "1                        0.000000          0.808219               0.049718   \n",
       "2                        0.001529          0.536986               0.006780   \n",
       "3                        0.004587          0.542466               0.003390   \n",
       "4                        0.009174          0.257534               0.021469   \n",
       "\n",
       "   neighbourhood  room_type  \n",
       "0             33          2  \n",
       "1             75          0  \n",
       "2             72          2  \n",
       "3             40          0  \n",
       "4             38          0  "
      ]
     },
     "execution_count": 100,
     "metadata": {},
     "output_type": "execute_result"
    }
   ],
   "source": [
    "X.head()"
   ]
  },
  {
   "cell_type": "code",
   "execution_count": 101,
   "metadata": {},
   "outputs": [
    {
     "data": {
      "text/plain": [
       "0    129\n",
       "1     94\n",
       "2     39\n",
       "3    100\n",
       "4    219\n",
       "Name: price, dtype: int64"
      ]
     },
     "execution_count": 101,
     "metadata": {},
     "output_type": "execute_result"
    }
   ],
   "source": [
    "y.head()"
   ]
  },
  {
   "cell_type": "code",
   "execution_count": 102,
   "metadata": {},
   "outputs": [
    {
     "name": "stderr",
     "output_type": "stream",
     "text": [
      "C:\\Users\\Eswar Aditya\\anaconda3\\Lib\\site-packages\\pandas\\core\\arraylike.py:402: RuntimeWarning: divide by zero encountered in log\n",
      "  result = getattr(ufunc, method)(*inputs, **kwargs)\n",
      "C:\\Users\\Eswar Aditya\\anaconda3\\Lib\\site-packages\\pandas\\core\\arraylike.py:402: RuntimeWarning: divide by zero encountered in log\n",
      "  result = getattr(ufunc, method)(*inputs, **kwargs)\n",
      "C:\\Users\\Eswar Aditya\\anaconda3\\Lib\\site-packages\\pandas\\core\\arraylike.py:402: RuntimeWarning: divide by zero encountered in log\n",
      "  result = getattr(ufunc, method)(*inputs, **kwargs)\n"
     ]
    },
    {
     "data": {
      "text/plain": [
       "<Figure size 3000x1500 with 0 Axes>"
      ]
     },
     "metadata": {},
     "output_type": "display_data"
    },
    {
     "data": {
      "image/png": "[encoded data removed]",
      "text/plain": [
       "<Figure size 640x480 with 3 Axes>"
      ]
     },
     "metadata": {},
     "output_type": "display_data"
    }
   ],
   "source": [
    "plt.figure(figsize=(30,15))\n",
    "fig,ax=plt.subplots(3,1)\n",
    "sns.histplot(np.log(y),ax=ax[0])\n",
    "sns.boxplot(np.log(y),orient='h',ax=ax[1])\n",
    "sns.kdeplot(np.log(y),ax=ax[2])\n",
    "plt.show()"
   ]
  },
  {
   "cell_type": "markdown",
   "metadata": {},
   "source": [
    "# Model Building\n",
    "## Linear Regression"
   ]
  },
  {
   "cell_type": "code",
   "execution_count": 103,
   "metadata": {},
   "outputs": [],
   "source": [
    "from sklearn.linear_model import LinearRegression"
   ]
  },
  {
   "cell_type": "code",
   "execution_count": 104,
   "metadata": {},
   "outputs": [],
   "source": [
    "reg=LinearRegression()"
   ]
  },
  {
   "cell_type": "code",
   "execution_count": 105,
   "metadata": {},
   "outputs": [],
   "source": [
    "regmodel=reg.fit(X,y)"
   ]
  },
  {
   "cell_type": "code",
   "execution_count": 106,
   "metadata": {},
   "outputs": [
    {
     "data": {
      "text/plain": [
       "0.054142684472365366"
      ]
     },
     "execution_count": 106,
     "metadata": {},
     "output_type": "execute_result"
    }
   ],
   "source": [
    "regmodel.score(X,y)"
   ]
  },
  {
   "cell_type": "code",
   "execution_count": 107,
   "metadata": {},
   "outputs": [],
   "source": [
    "from sklearn.model_selection import cross_val_score"
   ]
  },
  {
   "cell_type": "code",
   "execution_count": 108,
   "metadata": {},
   "outputs": [
    {
     "data": {
      "text/plain": [
       "array([ 0.0406233 ,  0.06175618,  0.04607165,  0.05208873, -0.00285783])"
      ]
     },
     "execution_count": 108,
     "metadata": {},
     "output_type": "execute_result"
    }
   ],
   "source": [
    "cross_val_score(reg,X,y)"
   ]
  },
  {
   "cell_type": "code",
   "execution_count": 109,
   "metadata": {},
   "outputs": [
    {
     "data": {
      "text/plain": [
       "0.039536405999999996"
      ]
     },
     "execution_count": 109,
     "metadata": {},
     "output_type": "execute_result"
    }
   ],
   "source": [
    "np.mean([ 0.0406233 ,  0.06175618,  0.04607165,  0.05208873, -0.00285783])"
   ]
  },
  {
   "cell_type": "code",
   "execution_count": 110,
   "metadata": {},
   "outputs": [],
   "source": [
    "regpredict=regmodel.predict(X)"
   ]
  },
  {
   "cell_type": "code",
   "execution_count": 111,
   "metadata": {},
   "outputs": [],
   "source": [
    "regresidual=y-regpredict"
   ]
  },
  {
   "cell_type": "code",
   "execution_count": 112,
   "metadata": {},
   "outputs": [
    {
     "data": {
      "text/plain": [
       "282.96411153949225"
      ]
     },
     "execution_count": 112,
     "metadata": {},
     "output_type": "execute_result"
    }
   ],
   "source": [
    "np.sqrt(np.mean(regresidual**2))# RMSE"
   ]
  },
  {
   "cell_type": "markdown",
   "metadata": {},
   "source": [
    "# Log Transformation"
   ]
  },
  {
   "cell_type": "code",
   "execution_count": 113,
   "metadata": {},
   "outputs": [],
   "source": [
    "regmodel_2=reg.fit(X,np.log1p(y))"
   ]
  },
  {
   "cell_type": "code",
   "execution_count": 114,
   "metadata": {},
   "outputs": [
    {
     "data": {
      "text/plain": [
       "0.26706320437709885"
      ]
     },
     "execution_count": 114,
     "metadata": {},
     "output_type": "execute_result"
    }
   ],
   "source": [
    "regmodel_2.score(X,np.log1p(y))"
   ]
  },
  {
   "cell_type": "code",
   "execution_count": 115,
   "metadata": {},
   "outputs": [],
   "source": [
    "regpredict_2=regmodel_2.predict(X)"
   ]
  },
  {
   "cell_type": "code",
   "execution_count": 116,
   "metadata": {},
   "outputs": [],
   "source": [
    "regresidual_2=y-regpredict_2"
   ]
  },
  {
   "cell_type": "code",
   "execution_count": 117,
   "metadata": {},
   "outputs": [
    {
     "data": {
      "text/plain": [
       "358.24056592811155"
      ]
     },
     "execution_count": 117,
     "metadata": {},
     "output_type": "execute_result"
    }
   ],
   "source": [
    "np.sqrt(np.mean(regresidual_2**2))# RMSE"
   ]
  },
  {
   "cell_type": "markdown",
   "metadata": {},
   "source": [
    "# Decision Tree"
   ]
  },
  {
   "cell_type": "code",
   "execution_count": 118,
   "metadata": {},
   "outputs": [],
   "source": [
    "from sklearn.tree import DecisionTreeRegressor"
   ]
  },
  {
   "cell_type": "code",
   "execution_count": 119,
   "metadata": {},
   "outputs": [],
   "source": [
    "tree=DecisionTreeRegressor(max_depth=12,)"
   ]
  },
  {
   "cell_type": "code",
   "execution_count": 120,
   "metadata": {},
   "outputs": [],
   "source": [
    "treemodel=tree.fit(X,y)"
   ]
  },
  {
   "cell_type": "code",
   "execution_count": 121,
   "metadata": {},
   "outputs": [
    {
     "data": {
      "text/plain": [
       "0.7488273734535571"
      ]
     },
     "execution_count": 121,
     "metadata": {},
     "output_type": "execute_result"
    }
   ],
   "source": [
    "treemodel.score(X,y)"
   ]
  },
  {
   "cell_type": "code",
   "execution_count": 122,
   "metadata": {},
   "outputs": [
    {
     "data": {
      "text/plain": [
       "array([-0.07679149,  0.09064631, -0.62580809, -0.04573714, -0.3996566 ])"
      ]
     },
     "execution_count": 122,
     "metadata": {},
     "output_type": "execute_result"
    }
   ],
   "source": [
    "cross_val_score(tree,X,y)"
   ]
  },
  {
   "cell_type": "code",
   "execution_count": 123,
   "metadata": {},
   "outputs": [
    {
     "data": {
      "text/plain": [
       "-0.245023406"
      ]
     },
     "execution_count": 123,
     "metadata": {},
     "output_type": "execute_result"
    }
   ],
   "source": [
    "np.mean([-0.07127478, -0.11151914, -0.632996  , -0.01178558, -0.39754153])"
   ]
  },
  {
   "cell_type": "code",
   "execution_count": 124,
   "metadata": {},
   "outputs": [],
   "source": [
    "tree_predict=tree.predict(X)"
   ]
  },
  {
   "cell_type": "code",
   "execution_count": 125,
   "metadata": {},
   "outputs": [],
   "source": [
    "tree_residual=y-tree_predict"
   ]
  },
  {
   "cell_type": "code",
   "execution_count": 126,
   "metadata": {},
   "outputs": [
    {
     "data": {
      "text/plain": [
       "145.81583771705053"
      ]
     },
     "execution_count": 126,
     "metadata": {},
     "output_type": "execute_result"
    }
   ],
   "source": [
    "np.sqrt(np.mean(tree_residual**2))"
   ]
  },
  {
   "cell_type": "markdown",
   "metadata": {},
   "source": [
    "# Random Forest"
   ]
  },
  {
   "cell_type": "code",
   "execution_count": 127,
   "metadata": {},
   "outputs": [],
   "source": [
    "from sklearn.ensemble import RandomForestRegressor"
   ]
  },
  {
   "cell_type": "code",
   "execution_count": 128,
   "metadata": {},
   "outputs": [],
   "source": [
    "rf=RandomForestRegressor()"
   ]
  },
  {
   "cell_type": "code",
   "execution_count": 129,
   "metadata": {},
   "outputs": [],
   "source": [
    "rf_model=rf.fit(X,y)"
   ]
  },
  {
   "cell_type": "code",
   "execution_count": 130,
   "metadata": {},
   "outputs": [
    {
     "data": {
      "text/plain": [
       "0.8928927146197789"
      ]
     },
     "execution_count": 130,
     "metadata": {},
     "output_type": "execute_result"
    }
   ],
   "source": [
    "rf_model.score(X,y)"
   ]
  },
  {
   "cell_type": "code",
   "execution_count": 131,
   "metadata": {},
   "outputs": [
    {
     "data": {
      "text/plain": [
       "array([ 0.0429731 ,  0.31142695,  0.1916946 ,  0.18709866, -0.05109754])"
      ]
     },
     "execution_count": 131,
     "metadata": {},
     "output_type": "execute_result"
    }
   ],
   "source": [
    "cross_val_score(rf,X,y)"
   ]
  },
  {
   "cell_type": "code",
   "execution_count": 132,
   "metadata": {},
   "outputs": [
    {
     "data": {
      "text/plain": [
       "0.122828246"
      ]
     },
     "execution_count": 132,
     "metadata": {},
     "output_type": "execute_result"
    }
   ],
   "source": [
    "np.mean([ 0.04047124,  0.29954378,  0.17801169,  0.1931282 , -0.09701368])"
   ]
  },
  {
   "cell_type": "code",
   "execution_count": 133,
   "metadata": {},
   "outputs": [],
   "source": [
    "rf_predict=rf.predict(X)"
   ]
  },
  {
   "cell_type": "code",
   "execution_count": 134,
   "metadata": {},
   "outputs": [],
   "source": [
    "rf_residual=y-rf_predict"
   ]
  },
  {
   "cell_type": "code",
   "execution_count": 135,
   "metadata": {},
   "outputs": [
    {
     "data": {
      "text/plain": [
       "95.21997209017286"
      ]
     },
     "execution_count": 135,
     "metadata": {},
     "output_type": "execute_result"
    }
   ],
   "source": [
    "np.sqrt(np.mean(rf_residual**2))"
   ]
  },
  {
   "cell_type": "markdown",
   "metadata": {},
   "source": [
    "# Gradient Boosting Machine(GBM)"
   ]
  },
  {
   "cell_type": "code",
   "execution_count": 136,
   "metadata": {},
   "outputs": [],
   "source": [
    "from sklearn.ensemble import GradientBoostingRegressor"
   ]
  },
  {
   "cell_type": "code",
   "execution_count": 137,
   "metadata": {},
   "outputs": [],
   "source": [
    "gbr=GradientBoostingRegressor(max_depth=8,n_estimators=100)"
   ]
  },
  {
   "cell_type": "code",
   "execution_count": 138,
   "metadata": {},
   "outputs": [],
   "source": [
    "gbrmodel=gbr.fit(X,y)"
   ]
  },
  {
   "cell_type": "code",
   "execution_count": 139,
   "metadata": {},
   "outputs": [
    {
     "data": {
      "text/plain": [
       "0.901232430761006"
      ]
     },
     "execution_count": 139,
     "metadata": {},
     "output_type": "execute_result"
    }
   ],
   "source": [
    "gbrmodel.score(X,y)"
   ]
  },
  {
   "cell_type": "code",
   "execution_count": 140,
   "metadata": {},
   "outputs": [
    {
     "data": {
      "text/plain": [
       "array([-0.00242571,  0.27522176,  0.0906235 ,  0.1824704 , -0.02634649])"
      ]
     },
     "execution_count": 140,
     "metadata": {},
     "output_type": "execute_result"
    }
   ],
   "source": [
    "cross_val_score(gbr,X,y)"
   ]
  },
  {
   "cell_type": "code",
   "execution_count": 141,
   "metadata": {},
   "outputs": [
    {
     "data": {
      "text/plain": [
       "0.10501859200000001"
      ]
     },
     "execution_count": 141,
     "metadata": {},
     "output_type": "execute_result"
    }
   ],
   "source": [
    "np.mean([-0.0094848 ,  0.28288666,  0.11822646,  0.18028552, -0.04682088])"
   ]
  },
  {
   "cell_type": "code",
   "execution_count": 142,
   "metadata": {},
   "outputs": [],
   "source": [
    "gbr_predict=gbr.predict(X)"
   ]
  },
  {
   "cell_type": "code",
   "execution_count": 143,
   "metadata": {},
   "outputs": [],
   "source": [
    "gbr_residual=y-gbr_predict"
   ]
  },
  {
   "cell_type": "code",
   "execution_count": 144,
   "metadata": {},
   "outputs": [
    {
     "data": {
      "text/plain": [
       "91.43779117507144"
      ]
     },
     "execution_count": 144,
     "metadata": {},
     "output_type": "execute_result"
    }
   ],
   "source": [
    "np.sqrt(np.mean(gbr_residual**2))"
   ]
  },
  {
   "cell_type": "markdown",
   "metadata": {},
   "source": [
    "# Support Vector Machine(SVM)"
   ]
  },
  {
   "cell_type": "code",
   "execution_count": 145,
   "metadata": {},
   "outputs": [],
   "source": [
    "from sklearn.svm import SVR"
   ]
  },
  {
   "cell_type": "code",
   "execution_count": 146,
   "metadata": {},
   "outputs": [],
   "source": [
    "svr=SVR(max_iter=1000)"
   ]
  },
  {
   "cell_type": "code",
   "execution_count": 147,
   "metadata": {},
   "outputs": [
    {
     "name": "stderr",
     "output_type": "stream",
     "text": [
      "C:\\Users\\Eswar Aditya\\anaconda3\\Lib\\site-packages\\sklearn\\svm\\_base.py:297: ConvergenceWarning: Solver terminated early (max_iter=1000).  Consider pre-processing your data with StandardScaler or MinMaxScaler.\n",
      "  warnings.warn(\n"
     ]
    }
   ],
   "source": [
    "svrmodel=svr.fit(X,y)"
   ]
  },
  {
   "cell_type": "code",
   "execution_count": 148,
   "metadata": {},
   "outputs": [
    {
     "data": {
      "text/plain": [
       "-0.014598897838655978"
      ]
     },
     "execution_count": 148,
     "metadata": {},
     "output_type": "execute_result"
    }
   ],
   "source": [
    "svrmodel.score(X,y)"
   ]
  },
  {
   "cell_type": "code",
   "execution_count": 149,
   "metadata": {},
   "outputs": [
    {
     "name": "stderr",
     "output_type": "stream",
     "text": [
      "C:\\Users\\Eswar Aditya\\anaconda3\\Lib\\site-packages\\sklearn\\svm\\_base.py:297: ConvergenceWarning: Solver terminated early (max_iter=1000).  Consider pre-processing your data with StandardScaler or MinMaxScaler.\n",
      "  warnings.warn(\n",
      "C:\\Users\\Eswar Aditya\\anaconda3\\Lib\\site-packages\\sklearn\\svm\\_base.py:297: ConvergenceWarning: Solver terminated early (max_iter=1000).  Consider pre-processing your data with StandardScaler or MinMaxScaler.\n",
      "  warnings.warn(\n",
      "C:\\Users\\Eswar Aditya\\anaconda3\\Lib\\site-packages\\sklearn\\svm\\_base.py:297: ConvergenceWarning: Solver terminated early (max_iter=1000).  Consider pre-processing your data with StandardScaler or MinMaxScaler.\n",
      "  warnings.warn(\n",
      "C:\\Users\\Eswar Aditya\\anaconda3\\Lib\\site-packages\\sklearn\\svm\\_base.py:297: ConvergenceWarning: Solver terminated early (max_iter=1000).  Consider pre-processing your data with StandardScaler or MinMaxScaler.\n",
      "  warnings.warn(\n",
      "C:\\Users\\Eswar Aditya\\anaconda3\\Lib\\site-packages\\sklearn\\svm\\_base.py:297: ConvergenceWarning: Solver terminated early (max_iter=1000).  Consider pre-processing your data with StandardScaler or MinMaxScaler.\n",
      "  warnings.warn(\n"
     ]
    },
    {
     "data": {
      "text/plain": [
       "array([-0.00335635, -0.02303323, -0.04421605, -0.05936181, -0.07040849])"
      ]
     },
     "execution_count": 149,
     "metadata": {},
     "output_type": "execute_result"
    }
   ],
   "source": [
    "cross_val_score(svr,X,y)"
   ]
  },
  {
   "cell_type": "code",
   "execution_count": 150,
   "metadata": {},
   "outputs": [
    {
     "data": {
      "text/plain": [
       "-23.153954"
      ]
     },
     "execution_count": 150,
     "metadata": {},
     "output_type": "execute_result"
    }
   ],
   "source": [
    "np.mean([-15.48517806, -26.20425982, -48.53118848, -15.66336973,-9.88577391])"
   ]
  },
  {
   "cell_type": "code",
   "execution_count": 151,
   "metadata": {},
   "outputs": [],
   "source": [
    "svr_predict=svr.predict(X)"
   ]
  },
  {
   "cell_type": "code",
   "execution_count": 152,
   "metadata": {},
   "outputs": [],
   "source": [
    "svr_residual=y-svr_predict"
   ]
  },
  {
   "cell_type": "code",
   "execution_count": 153,
   "metadata": {},
   "outputs": [
    {
     "data": {
      "text/plain": [
       "293.0662024598513"
      ]
     },
     "execution_count": 153,
     "metadata": {},
     "output_type": "execute_result"
    }
   ],
   "source": [
    "np.sqrt(np.mean(svr_residual**2))"
   ]
  },
  {
   "cell_type": "markdown",
   "metadata": {},
   "source": [
    "# LinearSVR"
   ]
  },
  {
   "cell_type": "code",
   "execution_count": 154,
   "metadata": {},
   "outputs": [],
   "source": [
    "from sklearn.svm import LinearSVR"
   ]
  },
  {
   "cell_type": "code",
   "execution_count": 155,
   "metadata": {},
   "outputs": [],
   "source": [
    "lsvr=LinearSVR(C=2,max_iter=1000,fit_intercept=False)"
   ]
  },
  {
   "cell_type": "code",
   "execution_count": 156,
   "metadata": {},
   "outputs": [
    {
     "name": "stderr",
     "output_type": "stream",
     "text": [
      "C:\\Users\\Eswar Aditya\\anaconda3\\Lib\\site-packages\\sklearn\\svm\\_classes.py:32: FutureWarning: The default value of `dual` will change from `True` to `'auto'` in 1.5. Set the value of `dual` explicitly to suppress the warning.\n",
      "  warnings.warn(\n",
      "C:\\Users\\Eswar Aditya\\anaconda3\\Lib\\site-packages\\sklearn\\svm\\_base.py:1242: ConvergenceWarning: Liblinear failed to converge, increase the number of iterations.\n",
      "  warnings.warn(\n"
     ]
    }
   ],
   "source": [
    "lsvrmodel=lsvr.fit(X,y)"
   ]
  },
  {
   "cell_type": "code",
   "execution_count": 157,
   "metadata": {},
   "outputs": [
    {
     "data": {
      "text/plain": [
       "-0.031564427685971896"
      ]
     },
     "execution_count": 157,
     "metadata": {},
     "output_type": "execute_result"
    }
   ],
   "source": [
    "lsvrmodel.score(X,y)"
   ]
  },
  {
   "cell_type": "code",
   "execution_count": 158,
   "metadata": {},
   "outputs": [
    {
     "name": "stderr",
     "output_type": "stream",
     "text": [
      "C:\\Users\\Eswar Aditya\\anaconda3\\Lib\\site-packages\\sklearn\\svm\\_classes.py:32: FutureWarning: The default value of `dual` will change from `True` to `'auto'` in 1.5. Set the value of `dual` explicitly to suppress the warning.\n",
      "  warnings.warn(\n",
      "C:\\Users\\Eswar Aditya\\anaconda3\\Lib\\site-packages\\sklearn\\svm\\_base.py:1242: ConvergenceWarning: Liblinear failed to converge, increase the number of iterations.\n",
      "  warnings.warn(\n",
      "C:\\Users\\Eswar Aditya\\anaconda3\\Lib\\site-packages\\sklearn\\svm\\_classes.py:32: FutureWarning: The default value of `dual` will change from `True` to `'auto'` in 1.5. Set the value of `dual` explicitly to suppress the warning.\n",
      "  warnings.warn(\n",
      "C:\\Users\\Eswar Aditya\\anaconda3\\Lib\\site-packages\\sklearn\\svm\\_base.py:1242: ConvergenceWarning: Liblinear failed to converge, increase the number of iterations.\n",
      "  warnings.warn(\n",
      "C:\\Users\\Eswar Aditya\\anaconda3\\Lib\\site-packages\\sklearn\\svm\\_classes.py:32: FutureWarning: The default value of `dual` will change from `True` to `'auto'` in 1.5. Set the value of `dual` explicitly to suppress the warning.\n",
      "  warnings.warn(\n",
      "C:\\Users\\Eswar Aditya\\anaconda3\\Lib\\site-packages\\sklearn\\svm\\_base.py:1242: ConvergenceWarning: Liblinear failed to converge, increase the number of iterations.\n",
      "  warnings.warn(\n",
      "C:\\Users\\Eswar Aditya\\anaconda3\\Lib\\site-packages\\sklearn\\svm\\_classes.py:32: FutureWarning: The default value of `dual` will change from `True` to `'auto'` in 1.5. Set the value of `dual` explicitly to suppress the warning.\n",
      "  warnings.warn(\n",
      "C:\\Users\\Eswar Aditya\\anaconda3\\Lib\\site-packages\\sklearn\\svm\\_base.py:1242: ConvergenceWarning: Liblinear failed to converge, increase the number of iterations.\n",
      "  warnings.warn(\n",
      "C:\\Users\\Eswar Aditya\\anaconda3\\Lib\\site-packages\\sklearn\\svm\\_classes.py:32: FutureWarning: The default value of `dual` will change from `True` to `'auto'` in 1.5. Set the value of `dual` explicitly to suppress the warning.\n",
      "  warnings.warn(\n",
      "C:\\Users\\Eswar Aditya\\anaconda3\\Lib\\site-packages\\sklearn\\svm\\_base.py:1242: ConvergenceWarning: Liblinear failed to converge, increase the number of iterations.\n",
      "  warnings.warn(\n"
     ]
    },
    {
     "data": {
      "text/plain": [
       "array([-0.00743475, -0.00376296, -0.09180907, -0.04921159, -0.06919922])"
      ]
     },
     "execution_count": 158,
     "metadata": {},
     "output_type": "execute_result"
    }
   ],
   "source": [
    "cross_val_score(lsvr,X,y)"
   ]
  },
  {
   "cell_type": "code",
   "execution_count": 159,
   "metadata": {},
   "outputs": [
    {
     "data": {
      "text/plain": [
       "-0.016558663999999997"
      ]
     },
     "execution_count": 159,
     "metadata": {},
     "output_type": "execute_result"
    }
   ],
   "source": [
    "np.mean([ 0.02350321,  0.00934578, -0.0152108 , -0.025637  , -0.07479451])"
   ]
  },
  {
   "cell_type": "code",
   "execution_count": 160,
   "metadata": {},
   "outputs": [],
   "source": [
    "lsvr_predict=lsvr.predict(X)"
   ]
  },
  {
   "cell_type": "code",
   "execution_count": 161,
   "metadata": {},
   "outputs": [],
   "source": [
    "lsvr_residual=y-lsvr_predict"
   ]
  },
  {
   "cell_type": "code",
   "execution_count": 162,
   "metadata": {},
   "outputs": [
    {
     "data": {
      "text/plain": [
       "295.5062852249939"
      ]
     },
     "execution_count": 162,
     "metadata": {},
     "output_type": "execute_result"
    }
   ],
   "source": [
    "np.sqrt(np.mean(lsvr_residual**2))"
   ]
  },
  {
   "cell_type": "code",
   "execution_count": null,
   "metadata": {},
   "outputs": [],
   "source": []
  },
  {
   "cell_type": "markdown",
   "metadata": {},
   "source": [
    "# KNearestNeighbour(KNN)"
   ]
  },
  {
   "cell_type": "code",
   "execution_count": 163,
   "metadata": {},
   "outputs": [],
   "source": [
    "from sklearn.neighbors import KNeighborsRegressor"
   ]
  },
  {
   "cell_type": "code",
   "execution_count": 164,
   "metadata": {},
   "outputs": [],
   "source": [
    "knr=KNeighborsRegressor(n_neighbors=2)"
   ]
  },
  {
   "cell_type": "code",
   "execution_count": 165,
   "metadata": {},
   "outputs": [],
   "source": [
    "knrmodel=knr.fit(X,y)"
   ]
  },
  {
   "cell_type": "code",
   "execution_count": 166,
   "metadata": {},
   "outputs": [
    {
     "data": {
      "text/plain": [
       "0.7293936750348167"
      ]
     },
     "execution_count": 166,
     "metadata": {},
     "output_type": "execute_result"
    }
   ],
   "source": [
    "knrmodel.score(X,y)"
   ]
  },
  {
   "cell_type": "code",
   "execution_count": 167,
   "metadata": {},
   "outputs": [
    {
     "data": {
      "text/plain": [
       "array([-0.0177921 , -0.18656217, -0.28877543, -0.2051781 , -0.29686932])"
      ]
     },
     "execution_count": 167,
     "metadata": {},
     "output_type": "execute_result"
    }
   ],
   "source": [
    "cross_val_score(knr,X,y)"
   ]
  },
  {
   "cell_type": "code",
   "execution_count": 168,
   "metadata": {},
   "outputs": [
    {
     "data": {
      "text/plain": [
       "-0.19903542400000002"
      ]
     },
     "execution_count": 168,
     "metadata": {},
     "output_type": "execute_result"
    }
   ],
   "source": [
    "np.mean([-0.0177921 , -0.18656217, -0.28877543, -0.2051781 , -0.29686932])"
   ]
  },
  {
   "cell_type": "code",
   "execution_count": 169,
   "metadata": {},
   "outputs": [],
   "source": [
    "knr_predict=knr.predict(X)"
   ]
  },
  {
   "cell_type": "code",
   "execution_count": 170,
   "metadata": {},
   "outputs": [],
   "source": [
    "knr_residual=y-knr_predict"
   ]
  },
  {
   "cell_type": "code",
   "execution_count": 171,
   "metadata": {},
   "outputs": [
    {
     "data": {
      "text/plain": [
       "151.35177386767333"
      ]
     },
     "execution_count": 171,
     "metadata": {},
     "output_type": "execute_result"
    }
   ],
   "source": [
    "np.sqrt(np.mean(knr_residual**2))"
   ]
  },
  {
   "cell_type": "code",
   "execution_count": null,
   "metadata": {},
   "outputs": [],
   "source": []
  },
  {
   "cell_type": "markdown",
   "metadata": {},
   "source": [
    "# Summary:\n",
    "After building and evaluating various machine learning models for the House Prices dataset, we have compiled additional information, including RMSE(Root Mean Square Error), to provide a comprehensive summary. Below is a table summarizing the models, their machine learning scores, r_square, and RMSE values:\n",
    "\n",
    "| Model Name | R_square | RMSE |\n",
    "|:--:|:--:|:--:|\n",
    "| Linear Regression | 0.054142684472365366 | 282.96411153949225 |\n",
    "| Decision Tree | 0.7488273734535571 | 145.81583771705053 |\n",
    "| Random Forest | 0.8974436509413325 | 93.17508971774802 |\n",
    "| **Gradient Boosting Machine** | **0.9012324307610059** | **91.43779117507144** |\n",
    "| Support Vector Machine | -0.014598897838655978 | 293.0662024598513 |\n",
    "| LinearSVR |-0.03629216939692448| 296.1826755121886 |\n",
    "| k-nearest neighbors | 0.7293936750348167 | 151.35177386767333 |\n",
    "\n",
    "The \"Gradient Boosting Machine\" model has a significantly lower RMSE score than its counterparts, indicating its superior predictive performance for this dataset. The lower RMSE value suggests that the Gradient Boosting Machine model yields predictions more closely aligned with actual outcomes, which is particularly valuable for regression tasks where numerical prediction accuracy is crucial.\n",
    "\n",
    "In light of these findings, it's advisable to consider the Gradient Boosting Machine model as a more reliable option for regression analysis on the Chicago Airbnb dataset, prioritizing RMSE as the key performance indicator score."
   ]
  },
  {
   "cell_type": "code",
   "execution_count": null,
   "metadata": {},
   "outputs": [],
   "source": []
  }
 ],
 "metadata": {
  "colab": {
   "provenance": []
  },
  "kernelspec": {
   "display_name": "Python 3 (ipykernel)",
   "language": "python",
   "name": "python3"
  },
  "language_info": {
   "codemirror_mode": {
    "name": "ipython",
    "version": 3
   },
   "file_extension": ".py",
   "mimetype": "text/x-python",
   "name": "python",
   "nbconvert_exporter": "python",
   "pygments_lexer": "ipython3",
   "version": "3.11.7"
  }
 },
 "nbformat": 4,
 "nbformat_minor": 4
}
